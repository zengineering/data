{
 "cells": [
  {
   "cell_type": "markdown",
   "id": "adverse-source",
   "metadata": {},
   "source": [
    "# [Baseball Databank](http://www.seanlahman.com/baseball-archive/statistics/)"
   ]
  },
  {
   "cell_type": "code",
   "execution_count": 2,
   "id": "negative-luther",
   "metadata": {},
   "outputs": [],
   "source": [
    "import pandas as pd\n",
    "import numpy as np\n",
    "import seaborn as sns\n",
    "import matplotlib.pyplot as plt"
   ]
  },
  {
   "cell_type": "code",
   "execution_count": 3,
   "id": "increased-westminster",
   "metadata": {},
   "outputs": [],
   "source": [
    "from pathlib import Path\n",
    "from typing import Tuple, Callable"
   ]
  },
  {
   "cell_type": "code",
   "execution_count": 4,
   "id": "regional-restriction",
   "metadata": {},
   "outputs": [],
   "source": [
    "import plotly.io as pio\n",
    "import plotly.express as px\n",
    "import plotly.graph_objects as go"
   ]
  },
  {
   "cell_type": "code",
   "execution_count": 5,
   "id": "touched-freedom",
   "metadata": {},
   "outputs": [],
   "source": [
    "# show matplotlib plots in notebook\n",
    "%matplotlib inline"
   ]
  },
  {
   "cell_type": "code",
   "execution_count": 6,
   "id": "convenient-kansas",
   "metadata": {},
   "outputs": [],
   "source": [
    "# set matplotlib style/theme\n",
    "plt.style.use(\"fivethirtyeight\")"
   ]
  },
  {
   "cell_type": "code",
   "execution_count": 7,
   "id": "sealed-builder",
   "metadata": {},
   "outputs": [],
   "source": [
    "# plotly defaults\n",
    "pio.renderers.default = \"notebook\"\n",
    "pio.templates.default = \"seaborn\""
   ]
  },
  {
   "cell_type": "code",
   "execution_count": 8,
   "id": "plain-florida",
   "metadata": {},
   "outputs": [],
   "source": [
    "from tabulate import tabulate\n",
    "from IPython.core.display import display, Markdown, HTML\n",
    "\n",
    "def markdown(s: str):\n",
    "    display(Markdown(s))\n",
    "    \n",
    "def html(s: str):\n",
    "    display(HTML(s))"
   ]
  },
  {
   "cell_type": "code",
   "execution_count": 9,
   "id": "apart-inclusion",
   "metadata": {},
   "outputs": [],
   "source": [
    "# path to data files\n",
    "datapath = Path(\"../baseballdatabank/core\")"
   ]
  },
  {
   "cell_type": "markdown",
   "id": "directed-relevance",
   "metadata": {},
   "source": [
    "___________________\n",
    "## Pitching info"
   ]
  },
  {
   "cell_type": "code",
   "execution_count": 11,
   "id": "exciting-muscle",
   "metadata": {},
   "outputs": [
    {
     "name": "stdout",
     "output_type": "stream",
     "text": [
      "<class 'pandas.core.frame.DataFrame'>\n",
      "RangeIndex: 48399 entries, 0 to 48398\n",
      "Data columns (total 30 columns):\n",
      " #   Column    Non-Null Count  Dtype  \n",
      "---  ------    --------------  -----  \n",
      " 0   playerID  48399 non-null  object \n",
      " 1   yearID    48399 non-null  int64  \n",
      " 2   stint     48399 non-null  int64  \n",
      " 3   teamID    48399 non-null  object \n",
      " 4   lgID      48267 non-null  object \n",
      " 5   W         48399 non-null  int64  \n",
      " 6   L         48399 non-null  int64  \n",
      " 7   G         48399 non-null  int64  \n",
      " 8   GS        48399 non-null  int64  \n",
      " 9   CG        48399 non-null  int64  \n",
      " 10  SHO       48399 non-null  int64  \n",
      " 11  SV        48399 non-null  int64  \n",
      " 12  IPouts    48399 non-null  int64  \n",
      " 13  H         48399 non-null  int64  \n",
      " 14  ER        48399 non-null  int64  \n",
      " 15  HR        48399 non-null  int64  \n",
      " 16  BB        48399 non-null  int64  \n",
      " 17  SO        48399 non-null  int64  \n",
      " 18  BAOpp     43958 non-null  float64\n",
      " 19  ERA       48305 non-null  float64\n",
      " 20  IBB       33821 non-null  float64\n",
      " 21  WP        48399 non-null  int64  \n",
      " 22  HBP       47665 non-null  float64\n",
      " 23  BK        48399 non-null  int64  \n",
      " 24  BFP       48396 non-null  float64\n",
      " 25  GF        48399 non-null  int64  \n",
      " 26  R         48399 non-null  int64  \n",
      " 27  SH        29212 non-null  float64\n",
      " 28  SF        29212 non-null  float64\n",
      " 29  GIDP      28081 non-null  float64\n",
      "dtypes: float64(8), int64(19), object(3)\n",
      "memory usage: 11.1+ MB\n"
     ]
    }
   ],
   "source": [
    "pitching = pd.read_csv(datapath/\"pitching.csv\")\n",
    "pitching.info()"
   ]
  },
  {
   "cell_type": "markdown",
   "id": "entertaining-snake",
   "metadata": {},
   "source": [
    "## People info"
   ]
  },
  {
   "cell_type": "code",
   "execution_count": 13,
   "id": "pharmaceutical-there",
   "metadata": {},
   "outputs": [],
   "source": [
    "people = pd.read_csv(datapath/\"people.csv\")\n",
    "for col in \"debut\", \"finalGame\":\n",
    "    people[col] = pd.to_datetime(people[col])"
   ]
  },
  {
   "cell_type": "code",
   "execution_count": 14,
   "id": "therapeutic-sherman",
   "metadata": {},
   "outputs": [
    {
     "name": "stdout",
     "output_type": "stream",
     "text": [
      "<class 'pandas.core.frame.DataFrame'>\n",
      "RangeIndex: 20093 entries, 0 to 20092\n",
      "Data columns (total 4 columns):\n",
      " #   Column     Non-Null Count  Dtype \n",
      "---  ------     --------------  ----- \n",
      " 0   playerID   20093 non-null  object\n",
      " 1   fullName   20093 non-null  object\n",
      " 2   debut      20093 non-null  int64 \n",
      " 3   finalGame  20093 non-null  int64 \n",
      "dtypes: int64(2), object(2)\n",
      "memory usage: 628.0+ KB\n"
     ]
    }
   ],
   "source": [
    "# slimmed people dataframe with player ID, full name, first and final games as datetimes\n",
    "people_slim = pd.concat([people[\"playerID\"], \n",
    "                         people[[\"nameFirst\", \"nameLast\"]].fillna(\"\").agg(\" \".join, axis=1).rename(\"fullName\"), \n",
    "                         people[\"debut\"].apply(lambda dt: dt.year).fillna(0).astype(np.int), \n",
    "                         people[\"finalGame\"].apply(lambda dt: dt.year).fillna(0).astype(np.int)], \n",
    "                        axis=1)\n",
    "people_slim.info()"
   ]
  },
  {
   "cell_type": "markdown",
   "id": "searching-greece",
   "metadata": {},
   "source": [
    "_____________________\n",
    "### Convenience functions"
   ]
  },
  {
   "cell_type": "code",
   "execution_count": 25,
   "id": "wrong-alcohol",
   "metadata": {},
   "outputs": [],
   "source": [
    "# All-time <stat> leaders (using sum aggregation)\n",
    "def leaders(df_stat: pd.DataFrame, df_people: pd.DataFrame, stat: str, count: int=10):\n",
    "    _leaders = (df_stat.pivot_table(values=stat, columns=\"yearID\", index=\"playerID\", fill_value=0, aggfunc=np.sum)\n",
    "                  .astype(np.int)\n",
    "                  .sum(axis=1)\n",
    "                  .sort_values(ascending=False)\n",
    "                  .rename(stat)\n",
    "                  .head(count))\n",
    "    return pd.merge(df_people, _leaders, on=\"playerID\").sort_values(stat, ascending=False)"
   ]
  },
  {
   "cell_type": "code",
   "execution_count": 26,
   "id": "adapted-namibia",
   "metadata": {},
   "outputs": [],
   "source": [
    "# All-time <stat> leaders (using mean aggregation)\n",
    "def leaders_mean(df_stat: pd.DataFrame, df_people: pd.DataFrame, stat: str, count: int=10):\n",
    "    _leaders = (df_stat.pivot_table(values=stat, columns=\"yearID\", index=\"playerID\", aggfunc=np.mean)\n",
    "                  .mean(axis=1)\n",
    "                  .sort_values(ascending=False)\n",
    "                  .rename(stat)\n",
    "                  .head(count))\n",
    "    return pd.merge(df_people, _leaders, on=\"playerID\").sort_values(stat, ascending=False)"
   ]
  },
  {
   "cell_type": "code",
   "execution_count": 27,
   "id": "latest-consequence",
   "metadata": {},
   "outputs": [],
   "source": [
    "# Bar-plot leaders\n",
    "def leaders_barplot_sns(df: pd.DataFrame, stat: str, figsize: Tuple[int, int]=(7,6), stat_label: str=None):\n",
    "    if stat_label is None:\n",
    "        stat_label = stat\n",
    "    plt.figure(figsize=figsize)\n",
    "    bp = sns.barplot(x=\"fullName\", y=stat, data=df, palette=\"crest_r\")\n",
    "    bp.set(xlabel=None, ylabel=f\"Career {stat_label}\", title=f\"All-time {stat_label} Leaders\")\n",
    "    bp.set_xticklabels(bp.get_xticklabels(), rotation=60)\n",
    "    plt.tight_layout()\n",
    "    return bp"
   ]
  },
  {
   "cell_type": "markdown",
   "id": "dramatic-conclusion",
   "metadata": {},
   "source": [
    "**NOTE** the bizarre name difference betwen setting ```custom_data``` and using ```customdata``` in plotly.express"
   ]
  },
  {
   "cell_type": "code",
   "execution_count": 28,
   "id": "excessive-factory",
   "metadata": {},
   "outputs": [],
   "source": [
    "# plotly plot\n",
    "def leaders_barplot_plotly(df: pd.DataFrame, stat:str, stat_label: str=None):\n",
    "    if stat_label is None:\n",
    "        stat_label = stat\n",
    "    bp = px.bar(df, \n",
    "                x=\"fullName\", \n",
    "                y=stat, \n",
    "                title=f\"All-time {stat_label} Leaders\",\n",
    "                custom_data=[\"debut\", \"finalGame\"])\n",
    "    bp.update_traces(hovertemplate=\"<b>%{x}</b>: %{y} (%{customdata[0]}-%{customdata[1]})\")\n",
    "    bp.update_xaxes(title=None)\n",
    "    bp.update_yaxes(title=f\"Career {stat_label}\")\n",
    "    return bp"
   ]
  },
  {
   "cell_type": "markdown",
   "id": "monetary-respect",
   "metadata": {},
   "source": [
    "_____________________________________\n",
    "# Players: All-time Pitching Leaders"
   ]
  },
  {
   "cell_type": "markdown",
   "id": "widespread-worcester",
   "metadata": {},
   "source": [
    "## Strikeouts"
   ]
  },
  {
   "cell_type": "code",
   "execution_count": 16,
   "id": "vanilla-sleeve",
   "metadata": {},
   "outputs": [],
   "source": [
    "## Shutouts"
   ]
  },
  {
   "cell_type": "code",
   "execution_count": 18,
   "id": "floppy-bristol",
   "metadata": {},
   "outputs": [],
   "source": [
    "## Wins"
   ]
  },
  {
   "cell_type": "code",
   "execution_count": 19,
   "id": "union-serbia",
   "metadata": {},
   "outputs": [],
   "source": [
    "## Games"
   ]
  },
  {
   "cell_type": "code",
   "execution_count": 20,
   "id": "ongoing-visit",
   "metadata": {},
   "outputs": [],
   "source": [
    "## Wins - Losses"
   ]
  },
  {
   "cell_type": "code",
   "execution_count": 21,
   "id": "protected-stamp",
   "metadata": {},
   "outputs": [],
   "source": [
    "## Saves"
   ]
  },
  {
   "cell_type": "code",
   "execution_count": 22,
   "id": "terminal-vegetation",
   "metadata": {},
   "outputs": [],
   "source": [
    "## Shutouts"
   ]
  },
  {
   "cell_type": "code",
   "execution_count": 23,
   "id": "inner-lancaster",
   "metadata": {},
   "outputs": [],
   "source": [
    "## WP + HBP"
   ]
  },
  {
   "cell_type": "code",
   "execution_count": 24,
   "id": "fiscal-harrison",
   "metadata": {},
   "outputs": [],
   "source": [
    "## ERA (with minimum N games)"
   ]
  },
  {
   "cell_type": "markdown",
   "id": "focused-mathematics",
   "metadata": {},
   "source": [
    "______________________________________________"
   ]
  }
 ],
 "metadata": {
  "kernelspec": {
   "display_name": "Python 3",
   "language": "python",
   "name": "python3"
  },
  "language_info": {
   "codemirror_mode": {
    "name": "ipython",
    "version": 3
   },
   "file_extension": ".py",
   "mimetype": "text/x-python",
   "name": "python",
   "nbconvert_exporter": "python",
   "pygments_lexer": "ipython3",
   "version": "3.8.8"
  }
 },
 "nbformat": 4,
 "nbformat_minor": 5
}
