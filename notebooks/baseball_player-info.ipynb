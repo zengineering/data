{
 "cells": [
  {
   "cell_type": "markdown",
   "id": "adverse-source",
   "metadata": {},
   "source": [
    "# [Baseball Databank](http://www.seanlahman.com/baseball-archive/statistics/)"
   ]
  },
  {
   "cell_type": "code",
   "execution_count": 1206,
   "id": "negative-luther",
   "metadata": {},
   "outputs": [],
   "source": [
    "import pandas as pd\n",
    "import numpy as np\n",
    "import seaborn as sns\n",
    "import matplotlib.pyplot as plt"
   ]
  },
  {
   "cell_type": "code",
   "execution_count": 1207,
   "id": "increased-westminster",
   "metadata": {},
   "outputs": [],
   "source": [
    "from pathlib import Path\n",
    "from typing import Tuple, Callable"
   ]
  },
  {
   "cell_type": "code",
   "execution_count": 1208,
   "id": "regional-restriction",
   "metadata": {},
   "outputs": [],
   "source": [
    "import plotly.io as pio\n",
    "import plotly.express as px\n",
    "import plotly.graph_objects as go"
   ]
  },
  {
   "cell_type": "code",
   "execution_count": 1209,
   "id": "touched-freedom",
   "metadata": {},
   "outputs": [],
   "source": [
    "# show matplotlib plots in notebook\n",
    "%matplotlib inline"
   ]
  },
  {
   "cell_type": "code",
   "execution_count": 1210,
   "id": "convenient-kansas",
   "metadata": {},
   "outputs": [],
   "source": [
    "# set matplotlib style/theme\n",
    "plt.style.use(\"fivethirtyeight\")"
   ]
  },
  {
   "cell_type": "code",
   "execution_count": 1211,
   "id": "sealed-builder",
   "metadata": {},
   "outputs": [],
   "source": [
    "# plotly defaults\n",
    "pio.renderers.default = \"notebook\"\n",
    "pio.templates.default = \"seaborn\""
   ]
  },
  {
   "cell_type": "code",
   "execution_count": 1212,
   "id": "plain-florida",
   "metadata": {},
   "outputs": [],
   "source": [
    "from tabulate import tabulate\n",
    "from IPython.core.display import display, Markdown, HTML\n",
    "\n",
    "def markdown(s: str):\n",
    "    display(Markdown(s))\n",
    "    \n",
    "def html(s: str):\n",
    "    display(HTML(s))"
   ]
  },
  {
   "cell_type": "code",
   "execution_count": 1213,
   "id": "apart-inclusion",
   "metadata": {},
   "outputs": [],
   "source": [
    "# path to data files\n",
    "datapath = Path(\"../baseballdatabank/core\")"
   ]
  },
  {
   "cell_type": "markdown",
   "id": "entertaining-snake",
   "metadata": {},
   "source": [
    "## People info"
   ]
  },
  {
   "cell_type": "code",
   "execution_count": 1215,
   "id": "pharmaceutical-there",
   "metadata": {},
   "outputs": [
    {
     "name": "stdout",
     "output_type": "stream",
     "text": [
      "<class 'pandas.core.frame.DataFrame'>\n",
      "RangeIndex: 20093 entries, 0 to 20092\n",
      "Data columns (total 24 columns):\n",
      " #   Column        Non-Null Count  Dtype         \n",
      "---  ------        --------------  -----         \n",
      " 0   playerID      20093 non-null  object        \n",
      " 1   birthYear     19979 non-null  float64       \n",
      " 2   birthMonth    19811 non-null  float64       \n",
      " 3   birthDay      19670 non-null  float64       \n",
      " 4   birthCountry  20032 non-null  object        \n",
      " 5   birthState    19561 non-null  object        \n",
      " 6   birthCity     19919 non-null  object        \n",
      " 7   deathYear     9887 non-null   float64       \n",
      " 8   deathMonth    9886 non-null   float64       \n",
      " 9   deathDay      9885 non-null   float64       \n",
      " 10  deathCountry  9884 non-null   object        \n",
      " 11  deathState    9836 non-null   object        \n",
      " 12  deathCity     9878 non-null   object        \n",
      " 13  nameFirst     20056 non-null  object        \n",
      " 14  nameLast      20093 non-null  object        \n",
      " 15  nameGiven     20056 non-null  object        \n",
      " 16  weight        19277 non-null  float64       \n",
      " 17  height        19357 non-null  float64       \n",
      " 18  bats          18913 non-null  object        \n",
      " 19  throws        19117 non-null  object        \n",
      " 20  debut         19892 non-null  datetime64[ns]\n",
      " 21  finalGame     19892 non-null  datetime64[ns]\n",
      " 22  retroID       20044 non-null  object        \n",
      " 23  bbrefID       20091 non-null  object        \n",
      "dtypes: datetime64[ns](2), float64(8), object(14)\n",
      "memory usage: 3.7+ MB\n"
     ]
    }
   ],
   "source": [
    "people = pd.read_csv(datapath/\"people.csv\")\n",
    "for col in \"debut\", \"finalGame\":\n",
    "    people[col] = pd.to_datetime(people[col])\n",
    "people.info()"
   ]
  },
  {
   "cell_type": "code",
   "execution_count": 1216,
   "id": "therapeutic-sherman",
   "metadata": {},
   "outputs": [],
   "source": [
    "# slimmed people dataframe with player ID, full name, first and final games as datetimes\n",
    "people_slim = pd.concat([people[\"playerID\"], \n",
    "                         people[[\"nameFirst\", \"nameLast\"]].fillna(\"\").agg(\" \".join, axis=1).rename(\"fullName\"), \n",
    "                         people[\"debut\"].apply(lambda dt: dt.year).fillna(0).astype(np.int), \n",
    "                         people[\"finalGame\"].apply(lambda dt: dt.year).fillna(0).astype(np.int)], \n",
    "                        axis=1)"
   ]
  },
  {
   "cell_type": "code",
   "execution_count": 1217,
   "id": "warming-rebound",
   "metadata": {},
   "outputs": [
    {
     "data": {
      "text/html": [
       "<div>\n",
       "<style scoped>\n",
       "    .dataframe tbody tr th:only-of-type {\n",
       "        vertical-align: middle;\n",
       "    }\n",
       "\n",
       "    .dataframe tbody tr th {\n",
       "        vertical-align: top;\n",
       "    }\n",
       "\n",
       "    .dataframe thead th {\n",
       "        text-align: right;\n",
       "    }\n",
       "</style>\n",
       "<table border=\"1\" class=\"dataframe\">\n",
       "  <thead>\n",
       "    <tr style=\"text-align: right;\">\n",
       "      <th></th>\n",
       "      <th>playerID</th>\n",
       "      <th>fullName</th>\n",
       "      <th>debut</th>\n",
       "      <th>finalGame</th>\n",
       "    </tr>\n",
       "  </thead>\n",
       "  <tbody>\n",
       "    <tr>\n",
       "      <th>0</th>\n",
       "      <td>aardsda01</td>\n",
       "      <td>David Aardsma</td>\n",
       "      <td>2004</td>\n",
       "      <td>2015</td>\n",
       "    </tr>\n",
       "    <tr>\n",
       "      <th>1</th>\n",
       "      <td>aaronha01</td>\n",
       "      <td>Hank Aaron</td>\n",
       "      <td>1954</td>\n",
       "      <td>1976</td>\n",
       "    </tr>\n",
       "    <tr>\n",
       "      <th>2</th>\n",
       "      <td>aaronto01</td>\n",
       "      <td>Tommie Aaron</td>\n",
       "      <td>1962</td>\n",
       "      <td>1971</td>\n",
       "    </tr>\n",
       "    <tr>\n",
       "      <th>3</th>\n",
       "      <td>aasedo01</td>\n",
       "      <td>Don Aase</td>\n",
       "      <td>1977</td>\n",
       "      <td>1990</td>\n",
       "    </tr>\n",
       "    <tr>\n",
       "      <th>4</th>\n",
       "      <td>abadan01</td>\n",
       "      <td>Andy Abad</td>\n",
       "      <td>2001</td>\n",
       "      <td>2006</td>\n",
       "    </tr>\n",
       "    <tr>\n",
       "      <th>...</th>\n",
       "      <td>...</td>\n",
       "      <td>...</td>\n",
       "      <td>...</td>\n",
       "      <td>...</td>\n",
       "    </tr>\n",
       "    <tr>\n",
       "      <th>20088</th>\n",
       "      <td>zupofr01</td>\n",
       "      <td>Frank Zupo</td>\n",
       "      <td>1957</td>\n",
       "      <td>1961</td>\n",
       "    </tr>\n",
       "    <tr>\n",
       "      <th>20089</th>\n",
       "      <td>zuvelpa01</td>\n",
       "      <td>Paul Zuvella</td>\n",
       "      <td>1982</td>\n",
       "      <td>1991</td>\n",
       "    </tr>\n",
       "    <tr>\n",
       "      <th>20090</th>\n",
       "      <td>zuverge01</td>\n",
       "      <td>George Zuverink</td>\n",
       "      <td>1951</td>\n",
       "      <td>1959</td>\n",
       "    </tr>\n",
       "    <tr>\n",
       "      <th>20091</th>\n",
       "      <td>zwilldu01</td>\n",
       "      <td>Dutch Zwilling</td>\n",
       "      <td>1910</td>\n",
       "      <td>1916</td>\n",
       "    </tr>\n",
       "    <tr>\n",
       "      <th>20092</th>\n",
       "      <td>zychto01</td>\n",
       "      <td>Tony Zych</td>\n",
       "      <td>2015</td>\n",
       "      <td>2017</td>\n",
       "    </tr>\n",
       "  </tbody>\n",
       "</table>\n",
       "<p>20093 rows × 4 columns</p>\n",
       "</div>"
      ],
      "text/plain": [
       "        playerID         fullName  debut  finalGame\n",
       "0      aardsda01    David Aardsma   2004       2015\n",
       "1      aaronha01       Hank Aaron   1954       1976\n",
       "2      aaronto01     Tommie Aaron   1962       1971\n",
       "3       aasedo01         Don Aase   1977       1990\n",
       "4       abadan01        Andy Abad   2001       2006\n",
       "...          ...              ...    ...        ...\n",
       "20088   zupofr01       Frank Zupo   1957       1961\n",
       "20089  zuvelpa01     Paul Zuvella   1982       1991\n",
       "20090  zuverge01  George Zuverink   1951       1959\n",
       "20091  zwilldu01   Dutch Zwilling   1910       1916\n",
       "20092   zychto01        Tony Zych   2015       2017\n",
       "\n",
       "[20093 rows x 4 columns]"
      ]
     },
     "execution_count": 1217,
     "metadata": {},
     "output_type": "execute_result"
    }
   ],
   "source": [
    "people_slim"
   ]
  },
  {
   "cell_type": "markdown",
   "id": "searching-greece",
   "metadata": {},
   "source": [
    "_____________________\n",
    "### Convenience functions"
   ]
  },
  {
   "cell_type": "code",
   "execution_count": 1218,
   "id": "wrong-alcohol",
   "metadata": {},
   "outputs": [],
   "source": [
    "# All-time <stat> leaders\n",
    "def leaders(df_stat: pd.DataFrame, df_people: pd.DataFrame, stat: str, count: int=10):\n",
    "    _leaders = (df_stat.pivot_table(values=stat, columns=\"yearID\", index=\"playerID\", fill_value=0, aggfunc=np.sum)\n",
    "                  .astype(np.int)\n",
    "                  .sum(axis=1)\n",
    "                  .sort_values(ascending=False)\n",
    "                  .rename(stat)\n",
    "                  .head(count))\n",
    "    return pd.merge(df_people, _leaders, on=\"playerID\").sort_values(stat, ascending=False)"
   ]
  },
  {
   "cell_type": "code",
   "execution_count": 1219,
   "id": "latest-consequence",
   "metadata": {},
   "outputs": [],
   "source": [
    "# Bar-plot leaders\n",
    "def leaders_barplot_sns(df: pd.DataFrame, y: str, figsize: Tuple[int, int]=(7,6), stat_label: str=None):\n",
    "    if stat_label is None:\n",
    "        stat_label = y\n",
    "    plt.figure(figsize=figsize)\n",
    "    bp = sns.barplot(x=\"fullName\", y=y, data=df, palette=\"crest_r\")\n",
    "    bp.set(xlabel=None, ylabel=f\"Career {stat_label}\", title=f\"All-time {stat_label} Leaders\")\n",
    "    bp.set_xticklabels(bp.get_xticklabels(), rotation=60)\n",
    "    plt.tight_layout()"
   ]
  },
  {
   "cell_type": "markdown",
   "id": "dramatic-conclusion",
   "metadata": {},
   "source": [
    "**NOTE** the bizarre name difference betwen setting ```custom_data``` and using ```customdata``` in plotly.express"
   ]
  },
  {
   "cell_type": "code",
   "execution_count": 1220,
   "id": "excessive-factory",
   "metadata": {},
   "outputs": [],
   "source": [
    "# plotly plot\n",
    "def leaders_barplot_plotly(df: pd.DataFrame, stat:str, y_title: str=None):\n",
    "    bp = px.bar(df, \n",
    "                x=\"fullName\", \n",
    "                y=stat, \n",
    "                title=f\"All-time {y_title if y_title else stat} Leaders\",\n",
    "                custom_data=[\"debut\", \"finalGame\"])\n",
    "    bp.update_traces(hovertemplate=\"<b>%{x}</b>: %{y} (%{customdata[0]}-%{customdata[1]})\")\n",
    "    bp.update_xaxes(title=None)\n",
    "    bp.update_yaxes(title=f\"Career {y_title if y_title else stat}\")\n",
    "    return bp"
   ]
  },
  {
   "cell_type": "code",
   "execution_count": null,
   "id": "domestic-disposal",
   "metadata": {},
   "outputs": [],
   "source": [
    "## Most teams played-for"
   ]
  },
  {
   "cell_type": "code",
   "execution_count": null,
   "id": "welsh-hydrogen",
   "metadata": {},
   "outputs": [],
   "source": [
    "## How many players played for a single team?"
   ]
  },
  {
   "cell_type": "code",
   "execution_count": null,
   "id": "divided-fitting",
   "metadata": {},
   "outputs": [],
   "source": [
    "## Pie of birth-country"
   ]
  },
  {
   "cell_type": "code",
   "execution_count": null,
   "id": "prescribed-sense",
   "metadata": {},
   "outputs": [],
   "source": [
    "## Average retirement age"
   ]
  },
  {
   "cell_type": "code",
   "execution_count": null,
   "id": "spatial-variable",
   "metadata": {},
   "outputs": [],
   "source": [
    "## Oldest retirement age"
   ]
  },
  {
   "cell_type": "code",
   "execution_count": null,
   "id": "sticky-satin",
   "metadata": {},
   "outputs": [],
   "source": [
    "## Batting average\n",
    "- absolute highest (with N AB)\n",
    "- combined-career (total H/total AB)\n",
    "- most consistent (highest average across career)"
   ]
  },
  {
   "cell_type": "markdown",
   "id": "focused-mathematics",
   "metadata": {},
   "source": [
    "______________________________________________"
   ]
  }
 ],
 "metadata": {
  "kernelspec": {
   "display_name": "Python 3",
   "language": "python",
   "name": "python3"
  },
  "language_info": {
   "codemirror_mode": {
    "name": "ipython",
    "version": 3
   },
   "file_extension": ".py",
   "mimetype": "text/x-python",
   "name": "python",
   "nbconvert_exporter": "python",
   "pygments_lexer": "ipython3",
   "version": "3.8.8"
  }
 },
 "nbformat": 4,
 "nbformat_minor": 5
}
