{
 "cells": [
  {
   "cell_type": "markdown",
   "id": "fantastic-travel",
   "metadata": {},
   "source": [
    "# [Baseball Databank](http://www.seanlahman.com/baseball-archive/statistics/)"
   ]
  },
  {
   "cell_type": "code",
   "execution_count": 333,
   "id": "premium-picnic",
   "metadata": {},
   "outputs": [],
   "source": [
    "import pandas as pd\n",
    "import numpy as np\n",
    "import seaborn as sns\n",
    "import matplotlib.pyplot as plt\n",
    "from pathlib import Path"
   ]
  },
  {
   "cell_type": "code",
   "execution_count": 235,
   "id": "liquid-hunter",
   "metadata": {},
   "outputs": [],
   "source": [
    "# show matplotlib plots in notebook\n",
    "%matplotlib inline"
   ]
  },
  {
   "cell_type": "code",
   "execution_count": 276,
   "id": "experimental-husband",
   "metadata": {},
   "outputs": [],
   "source": [
    "# set matplotlib style/theme\n",
    "plt.style.use(\"fivethirtyeight\")"
   ]
  },
  {
   "cell_type": "code",
   "execution_count": 366,
   "id": "primary-partner",
   "metadata": {},
   "outputs": [],
   "source": [
    "import plotly.io as pio\n",
    "import plotly.express as px\n",
    "import plotly.graph_objects as go"
   ]
  },
  {
   "cell_type": "code",
   "execution_count": 278,
   "id": "cloudy-specialist",
   "metadata": {},
   "outputs": [],
   "source": [
    "# plotly defaults\n",
    "pio.renderers.default = \"notebook\"\n",
    "pio.templates.default = \"seaborn\""
   ]
  },
  {
   "cell_type": "code",
   "execution_count": 9,
   "id": "specialized-tourist",
   "metadata": {},
   "outputs": [],
   "source": [
    "# path to data files\n",
    "datapath = Path(\"../baseballdatabank/core\")"
   ]
  },
  {
   "cell_type": "markdown",
   "id": "gorgeous-amount",
   "metadata": {},
   "source": [
    "___________________\n",
    "## Batting info"
   ]
  },
  {
   "cell_type": "code",
   "execution_count": 104,
   "id": "exposed-configuration",
   "metadata": {},
   "outputs": [
    {
     "name": "stdout",
     "output_type": "stream",
     "text": [
      "<class 'pandas.core.frame.DataFrame'>\n",
      "RangeIndex: 108789 entries, 0 to 108788\n",
      "Data columns (total 22 columns):\n",
      " #   Column    Non-Null Count   Dtype  \n",
      "---  ------    --------------   -----  \n",
      " 0   playerID  108789 non-null  object \n",
      " 1   yearID    108789 non-null  int64  \n",
      " 2   stint     108789 non-null  int64  \n",
      " 3   teamID    108789 non-null  object \n",
      " 4   lgID      108052 non-null  object \n",
      " 5   G         108789 non-null  int64  \n",
      " 6   AB        108789 non-null  int64  \n",
      " 7   R         108789 non-null  int64  \n",
      " 8   H         108789 non-null  int64  \n",
      " 9   2B        108789 non-null  int64  \n",
      " 10  3B        108789 non-null  int64  \n",
      " 11  HR        108789 non-null  int64  \n",
      " 12  RBI       108033 non-null  float64\n",
      " 13  SB        106421 non-null  float64\n",
      " 14  CS        85248 non-null   float64\n",
      " 15  BB        108789 non-null  int64  \n",
      " 16  SO        106689 non-null  float64\n",
      " 17  IBB       72139 non-null   float64\n",
      " 18  HBP       105973 non-null  float64\n",
      " 19  SH        102721 non-null  float64\n",
      " 20  SF        72686 non-null   float64\n",
      " 21  GIDP      83348 non-null   float64\n",
      "dtypes: float64(9), int64(10), object(3)\n",
      "memory usage: 18.3+ MB\n"
     ]
    }
   ],
   "source": [
    "batting_all = pd.read_csv(datapath/\"batting.csv\")\n",
    "batting_all.info()"
   ]
  },
  {
   "cell_type": "markdown",
   "id": "foreign-chemistry",
   "metadata": {},
   "source": [
    "## People info"
   ]
  },
  {
   "cell_type": "code",
   "execution_count": 357,
   "id": "sophisticated-punishment",
   "metadata": {},
   "outputs": [
    {
     "name": "stdout",
     "output_type": "stream",
     "text": [
      "<class 'pandas.core.frame.DataFrame'>\n",
      "RangeIndex: 20093 entries, 0 to 20092\n",
      "Data columns (total 24 columns):\n",
      " #   Column        Non-Null Count  Dtype         \n",
      "---  ------        --------------  -----         \n",
      " 0   playerID      20093 non-null  object        \n",
      " 1   birthYear     19979 non-null  float64       \n",
      " 2   birthMonth    19811 non-null  float64       \n",
      " 3   birthDay      19670 non-null  float64       \n",
      " 4   birthCountry  20032 non-null  object        \n",
      " 5   birthState    19561 non-null  object        \n",
      " 6   birthCity     19919 non-null  object        \n",
      " 7   deathYear     9887 non-null   float64       \n",
      " 8   deathMonth    9886 non-null   float64       \n",
      " 9   deathDay      9885 non-null   float64       \n",
      " 10  deathCountry  9884 non-null   object        \n",
      " 11  deathState    9836 non-null   object        \n",
      " 12  deathCity     9878 non-null   object        \n",
      " 13  nameFirst     20056 non-null  object        \n",
      " 14  nameLast      20093 non-null  object        \n",
      " 15  nameGiven     20056 non-null  object        \n",
      " 16  weight        19277 non-null  float64       \n",
      " 17  height        19357 non-null  float64       \n",
      " 18  bats          18913 non-null  object        \n",
      " 19  throws        19117 non-null  object        \n",
      " 20  debut         19892 non-null  datetime64[ns]\n",
      " 21  finalGame     19892 non-null  datetime64[ns]\n",
      " 22  retroID       20044 non-null  object        \n",
      " 23  bbrefID       20091 non-null  object        \n",
      "dtypes: datetime64[ns](2), float64(8), object(14)\n",
      "memory usage: 3.7+ MB\n"
     ]
    }
   ],
   "source": [
    "people = pd.read_csv(datapath/\"people.csv\")\n",
    "for col in \"debut\", \"finalGame\":\n",
    "    people[col] = pd.to_datetime(people[col])\n",
    "people.info()"
   ]
  },
  {
   "cell_type": "code",
   "execution_count": 424,
   "id": "sunrise-sally",
   "metadata": {},
   "outputs": [],
   "source": [
    "# slimmed people dataframe with player ID, full name, first and final games as datetimes\n",
    "people_slim = pd.concat([people[\"playerID\"], \n",
    "                         people[[\"nameFirst\", \"nameLast\"]].fillna(\"\").agg(\" \".join, axis=1).rename(\"fullName\"), \n",
    "                         people[\"debut\"].apply(lambda dt: dt.year).fillna(0).astype(np.int), \n",
    "                         people[\"finalGame\"].apply(lambda dt: dt.year).fillna(0).astype(np.int)], \n",
    "                        axis=1)"
   ]
  },
  {
   "cell_type": "code",
   "execution_count": 425,
   "id": "canadian-camcorder",
   "metadata": {},
   "outputs": [
    {
     "data": {
      "text/html": [
       "<div>\n",
       "<style scoped>\n",
       "    .dataframe tbody tr th:only-of-type {\n",
       "        vertical-align: middle;\n",
       "    }\n",
       "\n",
       "    .dataframe tbody tr th {\n",
       "        vertical-align: top;\n",
       "    }\n",
       "\n",
       "    .dataframe thead th {\n",
       "        text-align: right;\n",
       "    }\n",
       "</style>\n",
       "<table border=\"1\" class=\"dataframe\">\n",
       "  <thead>\n",
       "    <tr style=\"text-align: right;\">\n",
       "      <th></th>\n",
       "      <th>playerID</th>\n",
       "      <th>fullName</th>\n",
       "      <th>debut</th>\n",
       "      <th>finalGame</th>\n",
       "    </tr>\n",
       "  </thead>\n",
       "  <tbody>\n",
       "    <tr>\n",
       "      <th>0</th>\n",
       "      <td>aardsda01</td>\n",
       "      <td>David Aardsma</td>\n",
       "      <td>2004</td>\n",
       "      <td>2015</td>\n",
       "    </tr>\n",
       "    <tr>\n",
       "      <th>1</th>\n",
       "      <td>aaronha01</td>\n",
       "      <td>Hank Aaron</td>\n",
       "      <td>1954</td>\n",
       "      <td>1976</td>\n",
       "    </tr>\n",
       "    <tr>\n",
       "      <th>2</th>\n",
       "      <td>aaronto01</td>\n",
       "      <td>Tommie Aaron</td>\n",
       "      <td>1962</td>\n",
       "      <td>1971</td>\n",
       "    </tr>\n",
       "    <tr>\n",
       "      <th>3</th>\n",
       "      <td>aasedo01</td>\n",
       "      <td>Don Aase</td>\n",
       "      <td>1977</td>\n",
       "      <td>1990</td>\n",
       "    </tr>\n",
       "    <tr>\n",
       "      <th>4</th>\n",
       "      <td>abadan01</td>\n",
       "      <td>Andy Abad</td>\n",
       "      <td>2001</td>\n",
       "      <td>2006</td>\n",
       "    </tr>\n",
       "    <tr>\n",
       "      <th>...</th>\n",
       "      <td>...</td>\n",
       "      <td>...</td>\n",
       "      <td>...</td>\n",
       "      <td>...</td>\n",
       "    </tr>\n",
       "    <tr>\n",
       "      <th>20088</th>\n",
       "      <td>zupofr01</td>\n",
       "      <td>Frank Zupo</td>\n",
       "      <td>1957</td>\n",
       "      <td>1961</td>\n",
       "    </tr>\n",
       "    <tr>\n",
       "      <th>20089</th>\n",
       "      <td>zuvelpa01</td>\n",
       "      <td>Paul Zuvella</td>\n",
       "      <td>1982</td>\n",
       "      <td>1991</td>\n",
       "    </tr>\n",
       "    <tr>\n",
       "      <th>20090</th>\n",
       "      <td>zuverge01</td>\n",
       "      <td>George Zuverink</td>\n",
       "      <td>1951</td>\n",
       "      <td>1959</td>\n",
       "    </tr>\n",
       "    <tr>\n",
       "      <th>20091</th>\n",
       "      <td>zwilldu01</td>\n",
       "      <td>Dutch Zwilling</td>\n",
       "      <td>1910</td>\n",
       "      <td>1916</td>\n",
       "    </tr>\n",
       "    <tr>\n",
       "      <th>20092</th>\n",
       "      <td>zychto01</td>\n",
       "      <td>Tony Zych</td>\n",
       "      <td>2015</td>\n",
       "      <td>2017</td>\n",
       "    </tr>\n",
       "  </tbody>\n",
       "</table>\n",
       "<p>20093 rows × 4 columns</p>\n",
       "</div>"
      ],
      "text/plain": [
       "        playerID         fullName  debut  finalGame\n",
       "0      aardsda01    David Aardsma   2004       2015\n",
       "1      aaronha01       Hank Aaron   1954       1976\n",
       "2      aaronto01     Tommie Aaron   1962       1971\n",
       "3       aasedo01         Don Aase   1977       1990\n",
       "4       abadan01        Andy Abad   2001       2006\n",
       "...          ...              ...    ...        ...\n",
       "20088   zupofr01       Frank Zupo   1957       1961\n",
       "20089  zuvelpa01     Paul Zuvella   1982       1991\n",
       "20090  zuverge01  George Zuverink   1951       1959\n",
       "20091  zwilldu01   Dutch Zwilling   1910       1916\n",
       "20092   zychto01        Tony Zych   2015       2017\n",
       "\n",
       "[20093 rows x 4 columns]"
      ]
     },
     "execution_count": 425,
     "metadata": {},
     "output_type": "execute_result"
    }
   ],
   "source": [
    "people_slim"
   ]
  },
  {
   "cell_type": "markdown",
   "id": "under-organization",
   "metadata": {},
   "source": [
    "_____________________\n",
    "## Convenience functions"
   ]
  },
  {
   "cell_type": "code",
   "execution_count": 369,
   "id": "magnetic-sharing",
   "metadata": {},
   "outputs": [],
   "source": [
    "# All-time <stat> leaders\n",
    "def leaders(df_stat, df_people, stat, count=10):\n",
    "    _leaders = (df_stat.pivot_table(values=stat, columns=\"yearID\", index=\"playerID\", fill_value=0, aggfunc=np.sum)\n",
    "                  .astype(np.int)\n",
    "                  .sum(axis=1)\n",
    "                  .sort_values(ascending=False)\n",
    "                  .rename(stat)\n",
    "                  .head(count))\n",
    "    return pd.merge(df_people, _leaders, on=\"playerID\").sort_values(stat, ascending=False)"
   ]
  },
  {
   "cell_type": "code",
   "execution_count": 435,
   "id": "controlled-wrist",
   "metadata": {},
   "outputs": [],
   "source": [
    "# Bar-plot leaders\n",
    "def leaders_barplot(df, x, y, figsize=(7,6), stat_label=None):\n",
    "    if stat_label is None:\n",
    "        stat_label = y\n",
    "    plt.figure(figsize=figsize)\n",
    "    bp = sns.barplot(x=x, y=y, data=df, palette=\"crest_r\")\n",
    "    bp.set(xlabel=None, ylabel=f\"{stat_label}\", title=f\"All-time {stat_label} Leaders\")\n",
    "    bp.set_xticklabels(bp.get_xticklabels(), rotation=60)\n",
    "    plt.tight_layout()"
   ]
  },
  {
   "cell_type": "markdown",
   "id": "willing-egyptian",
   "metadata": {},
   "source": [
    "# All-time batting leaders"
   ]
  },
  {
   "cell_type": "markdown",
   "id": "sensitive-employment",
   "metadata": {},
   "source": [
    "## HR"
   ]
  },
  {
   "cell_type": "code",
   "execution_count": 394,
   "id": "subsequent-apple",
   "metadata": {},
   "outputs": [
    {
     "data": {
      "text/html": [
       "<div>\n",
       "<style scoped>\n",
       "    .dataframe tbody tr th:only-of-type {\n",
       "        vertical-align: middle;\n",
       "    }\n",
       "\n",
       "    .dataframe tbody tr th {\n",
       "        vertical-align: top;\n",
       "    }\n",
       "\n",
       "    .dataframe thead th {\n",
       "        text-align: right;\n",
       "    }\n",
       "</style>\n",
       "<table border=\"1\" class=\"dataframe\">\n",
       "  <thead>\n",
       "    <tr style=\"text-align: right;\">\n",
       "      <th></th>\n",
       "      <th>playerID</th>\n",
       "      <th>fullName</th>\n",
       "      <th>debut</th>\n",
       "      <th>finalGame</th>\n",
       "      <th>HR</th>\n",
       "    </tr>\n",
       "  </thead>\n",
       "  <tbody>\n",
       "    <tr>\n",
       "      <th>1</th>\n",
       "      <td>bondsba01</td>\n",
       "      <td>Barry Bonds</td>\n",
       "      <td>1986</td>\n",
       "      <td>2007</td>\n",
       "      <td>762</td>\n",
       "    </tr>\n",
       "    <tr>\n",
       "      <th>0</th>\n",
       "      <td>aaronha01</td>\n",
       "      <td>Hank Aaron</td>\n",
       "      <td>1954</td>\n",
       "      <td>1976</td>\n",
       "      <td>755</td>\n",
       "    </tr>\n",
       "    <tr>\n",
       "      <th>7</th>\n",
       "      <td>ruthba01</td>\n",
       "      <td>Babe Ruth</td>\n",
       "      <td>1914</td>\n",
       "      <td>1935</td>\n",
       "      <td>714</td>\n",
       "    </tr>\n",
       "    <tr>\n",
       "      <th>6</th>\n",
       "      <td>rodrial01</td>\n",
       "      <td>Alex Rodriguez</td>\n",
       "      <td>1994</td>\n",
       "      <td>2016</td>\n",
       "      <td>696</td>\n",
       "    </tr>\n",
       "    <tr>\n",
       "      <th>4</th>\n",
       "      <td>pujolal01</td>\n",
       "      <td>Albert Pujols</td>\n",
       "      <td>2001</td>\n",
       "      <td>2020</td>\n",
       "      <td>662</td>\n",
       "    </tr>\n",
       "    <tr>\n",
       "      <th>3</th>\n",
       "      <td>mayswi01</td>\n",
       "      <td>Willie Mays</td>\n",
       "      <td>1951</td>\n",
       "      <td>1973</td>\n",
       "      <td>660</td>\n",
       "    </tr>\n",
       "    <tr>\n",
       "      <th>2</th>\n",
       "      <td>griffke02</td>\n",
       "      <td>Ken Griffey</td>\n",
       "      <td>1989</td>\n",
       "      <td>2010</td>\n",
       "      <td>630</td>\n",
       "    </tr>\n",
       "    <tr>\n",
       "      <th>9</th>\n",
       "      <td>thomeji01</td>\n",
       "      <td>Jim Thome</td>\n",
       "      <td>1991</td>\n",
       "      <td>2012</td>\n",
       "      <td>612</td>\n",
       "    </tr>\n",
       "    <tr>\n",
       "      <th>8</th>\n",
       "      <td>sosasa01</td>\n",
       "      <td>Sammy Sosa</td>\n",
       "      <td>1989</td>\n",
       "      <td>2007</td>\n",
       "      <td>609</td>\n",
       "    </tr>\n",
       "    <tr>\n",
       "      <th>5</th>\n",
       "      <td>robinfr02</td>\n",
       "      <td>Frank Robinson</td>\n",
       "      <td>1956</td>\n",
       "      <td>1976</td>\n",
       "      <td>586</td>\n",
       "    </tr>\n",
       "  </tbody>\n",
       "</table>\n",
       "</div>"
      ],
      "text/plain": [
       "    playerID        fullName  debut  finalGame   HR\n",
       "1  bondsba01     Barry Bonds   1986       2007  762\n",
       "0  aaronha01      Hank Aaron   1954       1976  755\n",
       "7   ruthba01       Babe Ruth   1914       1935  714\n",
       "6  rodrial01  Alex Rodriguez   1994       2016  696\n",
       "4  pujolal01   Albert Pujols   2001       2020  662\n",
       "3   mayswi01     Willie Mays   1951       1973  660\n",
       "2  griffke02     Ken Griffey   1989       2010  630\n",
       "9  thomeji01       Jim Thome   1991       2012  612\n",
       "8   sosasa01      Sammy Sosa   1989       2007  609\n",
       "5  robinfr02  Frank Robinson   1956       1976  586"
      ]
     },
     "execution_count": 394,
     "metadata": {},
     "output_type": "execute_result"
    }
   ],
   "source": [
    "hr_leaders = leaders(batting_all, people_slim, \"HR\", 10)\n",
    "hr_leaders"
   ]
  },
  {
   "cell_type": "code",
   "execution_count": 436,
   "id": "referenced-cincinnati",
   "metadata": {
    "scrolled": false
   },
   "outputs": [
    {
     "data": {
      "image/png": "[encoded data removed]",
      "text/plain": [
       "<Figure size 504x432 with 1 Axes>"
      ]
     },
     "metadata": {},
     "output_type": "display_data"
    }
   ],
   "source": [
    "# seaborn plot\n",
    "leaders_barplot(hr_leaders, \"fullName\", \"HR\")"
   ]
  },
  {
   "cell_type": "markdown",
   "id": "encouraging-picture",
   "metadata": {},
   "source": [
    "------------------\n",
    "**NOTE** the bizarre name difference betwen setting ```custom_data``` and using ```customdata``` "
   ]
  },
  {
   "cell_type": "code",
   "execution_count": 430,
   "id": "polished-university",
   "metadata": {
    "scrolled": false
   },
   "outputs": [
    {
     "data": {
      "text/html": [
       "<div>                            <div id=\"efd7a150-f3bb-4ff9-80e3-38868faceb67\" class=\"plotly-graph-div\" style=\"height:525px; width:100%;\"></div>            <script type=\"text/javascript\">                require([\"plotly\"], function(Plotly) {                    window.PLOTLYENV=window.PLOTLYENV || {};                                    if (document.getElementById(\"efd7a150-f3bb-4ff9-80e3-38868faceb67\")) {                    Plotly.newPlot(                        \"efd7a150-f3bb-4ff9-80e3-38868faceb67\",                        [{\"alignmentgroup\": \"True\", \"customdata\": [[1986, 2007], [1954, 1976], [1914, 1935], [1994, 2016], [2001, 2020], [1951, 1973], [1989, 2010], [1991, 2012], [1989, 2007], [1956, 1976]], \"hovertemplate\": \"<b>%{x}</b>: %{y} (%{customdata[0]}-%{customdata[1]})\", \"legendgroup\": \"\", \"marker\": {\"color\": \"rgb(76,114,176)\"}, \"name\": \"\", \"offsetgroup\": \"\", \"orientation\": \"v\", \"showlegend\": false, \"textposition\": \"auto\", \"type\": \"bar\", \"x\": [\"Barry Bonds\", \"Hank Aaron\", \"Babe Ruth\", \"Alex Rodriguez\", \"Albert Pujols\", \"Willie Mays\", \"Ken Griffey\", \"Jim Thome\", \"Sammy Sosa\", \"Frank Robinson\"], \"xaxis\": \"x\", \"y\": [762, 755, 714, 696, 662, 660, 630, 612, 609, 586], \"yaxis\": \"y\"}],                        {\"barmode\": \"relative\", \"legend\": {\"tracegroupgap\": 0}, \"template\": {\"data\": {\"bar\": [{\"error_x\": {\"color\": \"rgb(36,36,36)\"}, \"error_y\": {\"color\": \"rgb(36,36,36)\"}, \"marker\": {\"line\": {\"color\": \"rgb(234,234,242)\", \"width\": 0.5}}, \"type\": \"bar\"}], \"barpolar\": [{\"marker\": {\"line\": {\"color\": \"rgb(234,234,242)\", \"width\": 0.5}}, \"type\": \"barpolar\"}], \"carpet\": [{\"aaxis\": {\"endlinecolor\": \"rgb(36,36,36)\", \"gridcolor\": \"white\", \"linecolor\": \"white\", \"minorgridcolor\": \"white\", \"startlinecolor\": \"rgb(36,36,36)\"}, \"baxis\": {\"endlinecolor\": \"rgb(36,36,36)\", \"gridcolor\": \"white\", \"linecolor\": \"white\", \"minorgridcolor\": \"white\", \"startlinecolor\": \"rgb(36,36,36)\"}, \"type\": \"carpet\"}], \"choropleth\": [{\"colorbar\": {\"outlinewidth\": 0, \"tickcolor\": \"rgb(36,36,36)\", \"ticklen\": 8, \"ticks\": \"outside\", \"tickwidth\": 2}, \"type\": \"choropleth\"}], \"contour\": [{\"colorbar\": {\"outlinewidth\": 0, \"tickcolor\": \"rgb(36,36,36)\", \"ticklen\": 8, \"ticks\": \"outside\", \"tickwidth\": 2}, \"colorscale\": [[0.0, \"rgb(2,4,25)\"], [0.06274509803921569, \"rgb(24,15,41)\"], [0.12549019607843137, \"rgb(47,23,57)\"], [0.18823529411764706, \"rgb(71,28,72)\"], [0.25098039215686274, \"rgb(97,30,82)\"], [0.3137254901960784, \"rgb(123,30,89)\"], [0.3764705882352941, \"rgb(150,27,91)\"], [0.4392156862745098, \"rgb(177,22,88)\"], [0.5019607843137255, \"rgb(203,26,79)\"], [0.5647058823529412, \"rgb(223,47,67)\"], [0.6274509803921569, \"rgb(236,76,61)\"], [0.6901960784313725, \"rgb(242,107,73)\"], [0.7529411764705882, \"rgb(244,135,95)\"], [0.8156862745098039, \"rgb(245,162,122)\"], [0.8784313725490196, \"rgb(246,188,153)\"], [0.9411764705882353, \"rgb(247,212,187)\"], [1.0, \"rgb(250,234,220)\"]], \"type\": \"contour\"}], \"contourcarpet\": [{\"colorbar\": {\"outlinewidth\": 0, \"tickcolor\": \"rgb(36,36,36)\", \"ticklen\": 8, \"ticks\": \"outside\", \"tickwidth\": 2}, \"type\": \"contourcarpet\"}], \"heatmap\": [{\"colorbar\": {\"outlinewidth\": 0, \"tickcolor\": \"rgb(36,36,36)\", \"ticklen\": 8, \"ticks\": \"outside\", \"tickwidth\": 2}, \"colorscale\": [[0.0, \"rgb(2,4,25)\"], [0.06274509803921569, \"rgb(24,15,41)\"], [0.12549019607843137, \"rgb(47,23,57)\"], [0.18823529411764706, \"rgb(71,28,72)\"], [0.25098039215686274, \"rgb(97,30,82)\"], [0.3137254901960784, \"rgb(123,30,89)\"], [0.3764705882352941, \"rgb(150,27,91)\"], [0.4392156862745098, \"rgb(177,22,88)\"], [0.5019607843137255, \"rgb(203,26,79)\"], [0.5647058823529412, \"rgb(223,47,67)\"], [0.6274509803921569, \"rgb(236,76,61)\"], [0.6901960784313725, \"rgb(242,107,73)\"], [0.7529411764705882, \"rgb(244,135,95)\"], [0.8156862745098039, \"rgb(245,162,122)\"], [0.8784313725490196, \"rgb(246,188,153)\"], [0.9411764705882353, \"rgb(247,212,187)\"], [1.0, \"rgb(250,234,220)\"]], \"type\": \"heatmap\"}], \"heatmapgl\": [{\"colorbar\": {\"outlinewidth\": 0, \"tickcolor\": \"rgb(36,36,36)\", \"ticklen\": 8, \"ticks\": \"outside\", \"tickwidth\": 2}, \"colorscale\": [[0.0, \"rgb(2,4,25)\"], [0.06274509803921569, \"rgb(24,15,41)\"], [0.12549019607843137, \"rgb(47,23,57)\"], [0.18823529411764706, \"rgb(71,28,72)\"], [0.25098039215686274, \"rgb(97,30,82)\"], [0.3137254901960784, \"rgb(123,30,89)\"], [0.3764705882352941, \"rgb(150,27,91)\"], [0.4392156862745098, \"rgb(177,22,88)\"], [0.5019607843137255, \"rgb(203,26,79)\"], [0.5647058823529412, \"rgb(223,47,67)\"], [0.6274509803921569, \"rgb(236,76,61)\"], [0.6901960784313725, \"rgb(242,107,73)\"], [0.7529411764705882, \"rgb(244,135,95)\"], [0.8156862745098039, \"rgb(245,162,122)\"], [0.8784313725490196, \"rgb(246,188,153)\"], [0.9411764705882353, \"rgb(247,212,187)\"], [1.0, \"rgb(250,234,220)\"]], \"type\": \"heatmapgl\"}], \"histogram\": [{\"marker\": {\"colorbar\": {\"outlinewidth\": 0, \"tickcolor\": \"rgb(36,36,36)\", \"ticklen\": 8, \"ticks\": \"outside\", \"tickwidth\": 2}}, \"type\": \"histogram\"}], \"histogram2d\": [{\"colorbar\": {\"outlinewidth\": 0, \"tickcolor\": \"rgb(36,36,36)\", \"ticklen\": 8, \"ticks\": \"outside\", \"tickwidth\": 2}, \"colorscale\": [[0.0, \"rgb(2,4,25)\"], [0.06274509803921569, \"rgb(24,15,41)\"], [0.12549019607843137, \"rgb(47,23,57)\"], [0.18823529411764706, \"rgb(71,28,72)\"], [0.25098039215686274, \"rgb(97,30,82)\"], [0.3137254901960784, \"rgb(123,30,89)\"], [0.3764705882352941, \"rgb(150,27,91)\"], [0.4392156862745098, \"rgb(177,22,88)\"], [0.5019607843137255, \"rgb(203,26,79)\"], [0.5647058823529412, \"rgb(223,47,67)\"], [0.6274509803921569, \"rgb(236,76,61)\"], [0.6901960784313725, \"rgb(242,107,73)\"], [0.7529411764705882, \"rgb(244,135,95)\"], [0.8156862745098039, \"rgb(245,162,122)\"], [0.8784313725490196, \"rgb(246,188,153)\"], [0.9411764705882353, \"rgb(247,212,187)\"], [1.0, \"rgb(250,234,220)\"]], \"type\": \"histogram2d\"}], \"histogram2dcontour\": [{\"colorbar\": {\"outlinewidth\": 0, \"tickcolor\": \"rgb(36,36,36)\", \"ticklen\": 8, \"ticks\": \"outside\", \"tickwidth\": 2}, \"colorscale\": [[0.0, \"rgb(2,4,25)\"], [0.06274509803921569, \"rgb(24,15,41)\"], [0.12549019607843137, \"rgb(47,23,57)\"], [0.18823529411764706, \"rgb(71,28,72)\"], [0.25098039215686274, \"rgb(97,30,82)\"], [0.3137254901960784, \"rgb(123,30,89)\"], [0.3764705882352941, \"rgb(150,27,91)\"], [0.4392156862745098, \"rgb(177,22,88)\"], [0.5019607843137255, \"rgb(203,26,79)\"], [0.5647058823529412, \"rgb(223,47,67)\"], [0.6274509803921569, \"rgb(236,76,61)\"], [0.6901960784313725, \"rgb(242,107,73)\"], [0.7529411764705882, \"rgb(244,135,95)\"], [0.8156862745098039, \"rgb(245,162,122)\"], [0.8784313725490196, \"rgb(246,188,153)\"], [0.9411764705882353, \"rgb(247,212,187)\"], [1.0, \"rgb(250,234,220)\"]], \"type\": \"histogram2dcontour\"}], \"mesh3d\": [{\"colorbar\": {\"outlinewidth\": 0, \"tickcolor\": \"rgb(36,36,36)\", \"ticklen\": 8, \"ticks\": \"outside\", \"tickwidth\": 2}, \"type\": \"mesh3d\"}], \"parcoords\": [{\"line\": {\"colorbar\": {\"outlinewidth\": 0, \"tickcolor\": \"rgb(36,36,36)\", \"ticklen\": 8, \"ticks\": \"outside\", \"tickwidth\": 2}}, \"type\": \"parcoords\"}], \"pie\": [{\"automargin\": true, \"type\": \"pie\"}], \"scatter\": [{\"marker\": {\"colorbar\": {\"outlinewidth\": 0, \"tickcolor\": \"rgb(36,36,36)\", \"ticklen\": 8, \"ticks\": \"outside\", \"tickwidth\": 2}}, \"type\": \"scatter\"}], \"scatter3d\": [{\"line\": {\"colorbar\": {\"outlinewidth\": 0, \"tickcolor\": \"rgb(36,36,36)\", \"ticklen\": 8, \"ticks\": \"outside\", \"tickwidth\": 2}}, \"marker\": {\"colorbar\": {\"outlinewidth\": 0, \"tickcolor\": \"rgb(36,36,36)\", \"ticklen\": 8, \"ticks\": \"outside\", \"tickwidth\": 2}}, \"type\": \"scatter3d\"}], \"scattercarpet\": [{\"marker\": {\"colorbar\": {\"outlinewidth\": 0, \"tickcolor\": \"rgb(36,36,36)\", \"ticklen\": 8, \"ticks\": \"outside\", \"tickwidth\": 2}}, \"type\": \"scattercarpet\"}], \"scattergeo\": [{\"marker\": {\"colorbar\": {\"outlinewidth\": 0, \"tickcolor\": \"rgb(36,36,36)\", \"ticklen\": 8, \"ticks\": \"outside\", \"tickwidth\": 2}}, \"type\": \"scattergeo\"}], \"scattergl\": [{\"marker\": {\"colorbar\": {\"outlinewidth\": 0, \"tickcolor\": \"rgb(36,36,36)\", \"ticklen\": 8, \"ticks\": \"outside\", \"tickwidth\": 2}}, \"type\": \"scattergl\"}], \"scattermapbox\": [{\"marker\": {\"colorbar\": {\"outlinewidth\": 0, \"tickcolor\": \"rgb(36,36,36)\", \"ticklen\": 8, \"ticks\": \"outside\", \"tickwidth\": 2}}, \"type\": \"scattermapbox\"}], \"scatterpolar\": [{\"marker\": {\"colorbar\": {\"outlinewidth\": 0, \"tickcolor\": \"rgb(36,36,36)\", \"ticklen\": 8, \"ticks\": \"outside\", \"tickwidth\": 2}}, \"type\": \"scatterpolar\"}], \"scatterpolargl\": [{\"marker\": {\"colorbar\": {\"outlinewidth\": 0, \"tickcolor\": \"rgb(36,36,36)\", \"ticklen\": 8, \"ticks\": \"outside\", \"tickwidth\": 2}}, \"type\": \"scatterpolargl\"}], \"scatterternary\": [{\"marker\": {\"colorbar\": {\"outlinewidth\": 0, \"tickcolor\": \"rgb(36,36,36)\", \"ticklen\": 8, \"ticks\": \"outside\", \"tickwidth\": 2}}, \"type\": \"scatterternary\"}], \"surface\": [{\"colorbar\": {\"outlinewidth\": 0, \"tickcolor\": \"rgb(36,36,36)\", \"ticklen\": 8, \"ticks\": \"outside\", \"tickwidth\": 2}, \"colorscale\": [[0.0, \"rgb(2,4,25)\"], [0.06274509803921569, \"rgb(24,15,41)\"], [0.12549019607843137, \"rgb(47,23,57)\"], [0.18823529411764706, \"rgb(71,28,72)\"], [0.25098039215686274, \"rgb(97,30,82)\"], [0.3137254901960784, \"rgb(123,30,89)\"], [0.3764705882352941, \"rgb(150,27,91)\"], [0.4392156862745098, \"rgb(177,22,88)\"], [0.5019607843137255, \"rgb(203,26,79)\"], [0.5647058823529412, \"rgb(223,47,67)\"], [0.6274509803921569, \"rgb(236,76,61)\"], [0.6901960784313725, \"rgb(242,107,73)\"], [0.7529411764705882, \"rgb(244,135,95)\"], [0.8156862745098039, \"rgb(245,162,122)\"], [0.8784313725490196, \"rgb(246,188,153)\"], [0.9411764705882353, \"rgb(247,212,187)\"], [1.0, \"rgb(250,234,220)\"]], \"type\": \"surface\"}], \"table\": [{\"cells\": {\"fill\": {\"color\": \"rgb(231,231,240)\"}, \"line\": {\"color\": \"white\"}}, \"header\": {\"fill\": {\"color\": \"rgb(183,183,191)\"}, \"line\": {\"color\": \"white\"}}, \"type\": \"table\"}]}, \"layout\": {\"annotationdefaults\": {\"arrowcolor\": \"rgb(67,103,167)\"}, \"autotypenumbers\": \"strict\", \"coloraxis\": {\"colorbar\": {\"outlinewidth\": 0, \"tickcolor\": \"rgb(36,36,36)\", \"ticklen\": 8, \"ticks\": \"outside\", \"tickwidth\": 2}}, \"colorscale\": {\"sequential\": [[0.0, \"rgb(2,4,25)\"], [0.06274509803921569, \"rgb(24,15,41)\"], [0.12549019607843137, \"rgb(47,23,57)\"], [0.18823529411764706, \"rgb(71,28,72)\"], [0.25098039215686274, \"rgb(97,30,82)\"], [0.3137254901960784, \"rgb(123,30,89)\"], [0.3764705882352941, \"rgb(150,27,91)\"], [0.4392156862745098, \"rgb(177,22,88)\"], [0.5019607843137255, \"rgb(203,26,79)\"], [0.5647058823529412, \"rgb(223,47,67)\"], [0.6274509803921569, \"rgb(236,76,61)\"], [0.6901960784313725, \"rgb(242,107,73)\"], [0.7529411764705882, \"rgb(244,135,95)\"], [0.8156862745098039, \"rgb(245,162,122)\"], [0.8784313725490196, \"rgb(246,188,153)\"], [0.9411764705882353, \"rgb(247,212,187)\"], [1.0, \"rgb(250,234,220)\"]], \"sequentialminus\": [[0.0, \"rgb(2,4,25)\"], [0.06274509803921569, \"rgb(24,15,41)\"], [0.12549019607843137, \"rgb(47,23,57)\"], [0.18823529411764706, \"rgb(71,28,72)\"], [0.25098039215686274, \"rgb(97,30,82)\"], [0.3137254901960784, \"rgb(123,30,89)\"], [0.3764705882352941, \"rgb(150,27,91)\"], [0.4392156862745098, \"rgb(177,22,88)\"], [0.5019607843137255, \"rgb(203,26,79)\"], [0.5647058823529412, \"rgb(223,47,67)\"], [0.6274509803921569, \"rgb(236,76,61)\"], [0.6901960784313725, \"rgb(242,107,73)\"], [0.7529411764705882, \"rgb(244,135,95)\"], [0.8156862745098039, \"rgb(245,162,122)\"], [0.8784313725490196, \"rgb(246,188,153)\"], [0.9411764705882353, \"rgb(247,212,187)\"], [1.0, \"rgb(250,234,220)\"]]}, \"colorway\": [\"rgb(76,114,176)\", \"rgb(221,132,82)\", \"rgb(85,168,104)\", \"rgb(196,78,82)\", \"rgb(129,114,179)\", \"rgb(147,120,96)\", \"rgb(218,139,195)\", \"rgb(140,140,140)\", \"rgb(204,185,116)\", \"rgb(100,181,205)\"], \"font\": {\"color\": \"rgb(36,36,36)\"}, \"geo\": {\"bgcolor\": \"white\", \"lakecolor\": \"white\", \"landcolor\": \"rgb(234,234,242)\", \"showlakes\": true, \"showland\": true, \"subunitcolor\": \"white\"}, \"hoverlabel\": {\"align\": \"left\"}, \"hovermode\": \"closest\", \"paper_bgcolor\": \"white\", \"plot_bgcolor\": \"rgb(234,234,242)\", \"polar\": {\"angularaxis\": {\"gridcolor\": \"white\", \"linecolor\": \"white\", \"showgrid\": true, \"ticks\": \"\"}, \"bgcolor\": \"rgb(234,234,242)\", \"radialaxis\": {\"gridcolor\": \"white\", \"linecolor\": \"white\", \"showgrid\": true, \"ticks\": \"\"}}, \"scene\": {\"xaxis\": {\"backgroundcolor\": \"rgb(234,234,242)\", \"gridcolor\": \"white\", \"gridwidth\": 2, \"linecolor\": \"white\", \"showbackground\": true, \"showgrid\": true, \"ticks\": \"\", \"zerolinecolor\": \"white\"}, \"yaxis\": {\"backgroundcolor\": \"rgb(234,234,242)\", \"gridcolor\": \"white\", \"gridwidth\": 2, \"linecolor\": \"white\", \"showbackground\": true, \"showgrid\": true, \"ticks\": \"\", \"zerolinecolor\": \"white\"}, \"zaxis\": {\"backgroundcolor\": \"rgb(234,234,242)\", \"gridcolor\": \"white\", \"gridwidth\": 2, \"linecolor\": \"white\", \"showbackground\": true, \"showgrid\": true, \"ticks\": \"\", \"zerolinecolor\": \"white\"}}, \"shapedefaults\": {\"fillcolor\": \"rgb(67,103,167)\", \"line\": {\"width\": 0}, \"opacity\": 0.5}, \"ternary\": {\"aaxis\": {\"gridcolor\": \"white\", \"linecolor\": \"white\", \"showgrid\": true, \"ticks\": \"\"}, \"baxis\": {\"gridcolor\": \"white\", \"linecolor\": \"white\", \"showgrid\": true, \"ticks\": \"\"}, \"bgcolor\": \"rgb(234,234,242)\", \"caxis\": {\"gridcolor\": \"white\", \"linecolor\": \"white\", \"showgrid\": true, \"ticks\": \"\"}}, \"xaxis\": {\"automargin\": true, \"gridcolor\": \"white\", \"linecolor\": \"white\", \"showgrid\": true, \"ticks\": \"\", \"title\": {\"standoff\": 15}, \"zerolinecolor\": \"white\"}, \"yaxis\": {\"automargin\": true, \"gridcolor\": \"white\", \"linecolor\": \"white\", \"showgrid\": true, \"ticks\": \"\", \"title\": {\"standoff\": 15}, \"zerolinecolor\": \"white\"}}}, \"title\": {\"text\": \"All-time HR Leaders\"}, \"xaxis\": {\"anchor\": \"y\", \"domain\": [0.0, 1.0], \"title\": {}}, \"yaxis\": {\"anchor\": \"x\", \"domain\": [0.0, 1.0], \"title\": {\"text\": \"HR\"}}},                        {\"responsive\": true}                    ).then(function(){\n",
       "                            \n",
       "var gd = document.getElementById('efd7a150-f3bb-4ff9-80e3-38868faceb67');\n",
       "var x = new MutationObserver(function (mutations, observer) {{\n",
       "        var display = window.getComputedStyle(gd).display;\n",
       "        if (!display || display === 'none') {{\n",
       "            console.log([gd, 'removed!']);\n",
       "            Plotly.purge(gd);\n",
       "            observer.disconnect();\n",
       "        }}\n",
       "}});\n",
       "\n",
       "// Listen for the removal of the full notebook cells\n",
       "var notebookContainer = gd.closest('#notebook-container');\n",
       "if (notebookContainer) {{\n",
       "    x.observe(notebookContainer, {childList: true});\n",
       "}}\n",
       "\n",
       "// Listen for the clearing of the current output cell\n",
       "var outputEl = gd.closest('.output');\n",
       "if (outputEl) {{\n",
       "    x.observe(outputEl, {childList: true});\n",
       "}}\n",
       "\n",
       "                        })                };                });            </script>        </div>"
      ]
     },
     "metadata": {},
     "output_type": "display_data"
    }
   ],
   "source": [
    "# plotly plot\n",
    "bp = px.bar(hr_leaders, \n",
    "            x=\"fullName\", \n",
    "            y=\"HR\", \n",
    "            title=\"All-time HR Leaders\",\n",
    "            custom_data=[\"debut\", \"finalGame\"])\n",
    "bp.update_traces(hovertemplate=\"<b>%{x}</b>: %{y} (%{customdata[0]}-%{customdata[1]})\")\n",
    "bp.update_xaxes(title=None)"
   ]
  },
  {
   "cell_type": "markdown",
   "id": "dedicated-greece",
   "metadata": {},
   "source": [
    "## Hits"
   ]
  },
  {
   "cell_type": "code",
   "execution_count": 421,
   "id": "visible-layer",
   "metadata": {},
   "outputs": [
    {
     "data": {
      "text/html": [
       "<div>\n",
       "<style scoped>\n",
       "    .dataframe tbody tr th:only-of-type {\n",
       "        vertical-align: middle;\n",
       "    }\n",
       "\n",
       "    .dataframe tbody tr th {\n",
       "        vertical-align: top;\n",
       "    }\n",
       "\n",
       "    .dataframe thead th {\n",
       "        text-align: right;\n",
       "    }\n",
       "</style>\n",
       "<table border=\"1\" class=\"dataframe\">\n",
       "  <thead>\n",
       "    <tr style=\"text-align: right;\">\n",
       "      <th></th>\n",
       "      <th>playerID</th>\n",
       "      <th>fullName</th>\n",
       "      <th>debut</th>\n",
       "      <th>finalGame</th>\n",
       "      <th>H</th>\n",
       "    </tr>\n",
       "  </thead>\n",
       "  <tbody>\n",
       "    <tr>\n",
       "      <th>6</th>\n",
       "      <td>rosepe01</td>\n",
       "      <td>Pete Rose</td>\n",
       "      <td>1963</td>\n",
       "      <td>1986</td>\n",
       "      <td>4256</td>\n",
       "    </tr>\n",
       "    <tr>\n",
       "      <th>2</th>\n",
       "      <td>cobbty01</td>\n",
       "      <td>Ty Cobb</td>\n",
       "      <td>1905</td>\n",
       "      <td>1928</td>\n",
       "      <td>4189</td>\n",
       "    </tr>\n",
       "    <tr>\n",
       "      <th>0</th>\n",
       "      <td>aaronha01</td>\n",
       "      <td>Hank Aaron</td>\n",
       "      <td>1954</td>\n",
       "      <td>1976</td>\n",
       "      <td>3771</td>\n",
       "    </tr>\n",
       "    <tr>\n",
       "      <th>5</th>\n",
       "      <td>musiast01</td>\n",
       "      <td>Stan Musial</td>\n",
       "      <td>1941</td>\n",
       "      <td>1963</td>\n",
       "      <td>3630</td>\n",
       "    </tr>\n",
       "    <tr>\n",
       "      <th>7</th>\n",
       "      <td>speaktr01</td>\n",
       "      <td>Tris Speaker</td>\n",
       "      <td>1907</td>\n",
       "      <td>1928</td>\n",
       "      <td>3514</td>\n",
       "    </tr>\n",
       "    <tr>\n",
       "      <th>3</th>\n",
       "      <td>jeterde01</td>\n",
       "      <td>Derek Jeter</td>\n",
       "      <td>1995</td>\n",
       "      <td>2014</td>\n",
       "      <td>3465</td>\n",
       "    </tr>\n",
       "    <tr>\n",
       "      <th>1</th>\n",
       "      <td>ansonca01</td>\n",
       "      <td>Cap Anson</td>\n",
       "      <td>1871</td>\n",
       "      <td>1897</td>\n",
       "      <td>3435</td>\n",
       "    </tr>\n",
       "    <tr>\n",
       "      <th>8</th>\n",
       "      <td>wagneho01</td>\n",
       "      <td>Honus Wagner</td>\n",
       "      <td>1897</td>\n",
       "      <td>1917</td>\n",
       "      <td>3420</td>\n",
       "    </tr>\n",
       "    <tr>\n",
       "      <th>9</th>\n",
       "      <td>yastrca01</td>\n",
       "      <td>Carl Yastrzemski</td>\n",
       "      <td>1961</td>\n",
       "      <td>1983</td>\n",
       "      <td>3419</td>\n",
       "    </tr>\n",
       "    <tr>\n",
       "      <th>4</th>\n",
       "      <td>molitpa01</td>\n",
       "      <td>Paul Molitor</td>\n",
       "      <td>1978</td>\n",
       "      <td>1998</td>\n",
       "      <td>3319</td>\n",
       "    </tr>\n",
       "  </tbody>\n",
       "</table>\n",
       "</div>"
      ],
      "text/plain": [
       "    playerID          fullName  debut  finalGame     H\n",
       "6   rosepe01         Pete Rose   1963       1986  4256\n",
       "2   cobbty01           Ty Cobb   1905       1928  4189\n",
       "0  aaronha01        Hank Aaron   1954       1976  3771\n",
       "5  musiast01       Stan Musial   1941       1963  3630\n",
       "7  speaktr01      Tris Speaker   1907       1928  3514\n",
       "3  jeterde01       Derek Jeter   1995       2014  3465\n",
       "1  ansonca01         Cap Anson   1871       1897  3435\n",
       "8  wagneho01      Honus Wagner   1897       1917  3420\n",
       "9  yastrca01  Carl Yastrzemski   1961       1983  3419\n",
       "4  molitpa01      Paul Molitor   1978       1998  3319"
      ]
     },
     "execution_count": 421,
     "metadata": {},
     "output_type": "execute_result"
    }
   ],
   "source": [
    "h_leaders = leaders(batting_all, people_slim, \"H\", 10)\n",
    "h_leaders"
   ]
  },
  {
   "cell_type": "code",
   "execution_count": 437,
   "id": "aerial-acrobat",
   "metadata": {},
   "outputs": [
    {
     "data": {
      "image/png": "[encoded data removed]",
      "text/plain": [
       "<Figure size 504x432 with 1 Axes>"
      ]
     },
     "metadata": {},
     "output_type": "display_data"
    }
   ],
   "source": [
    "leaders_barplot(h_leaders, \"fullName\", \"H\", stat_label=\"Hit\")"
   ]
  },
  {
   "cell_type": "code",
   "execution_count": 431,
   "id": "bronze-abraham",
   "metadata": {
    "scrolled": false
   },
   "outputs": [
    {
     "data": {
      "text/html": [
       "<div>                            <div id=\"b5dde571-d495-4f51-956e-81db7c6984d2\" class=\"plotly-graph-div\" style=\"height:525px; width:100%;\"></div>            <script type=\"text/javascript\">                require([\"plotly\"], function(Plotly) {                    window.PLOTLYENV=window.PLOTLYENV || {};                                    if (document.getElementById(\"b5dde571-d495-4f51-956e-81db7c6984d2\")) {                    Plotly.newPlot(                        \"b5dde571-d495-4f51-956e-81db7c6984d2\",                        [{\"alignmentgroup\": \"True\", \"customdata\": [[1963, 1986], [1905, 1928], [1954, 1976], [1941, 1963], [1907, 1928], [1995, 2014], [1871, 1897], [1897, 1917], [1961, 1983], [1978, 1998]], \"hovertemplate\": \"<b>%{x}</b>: %{y} (%{customdata[0]}-%{customdata[1]})\", \"legendgroup\": \"\", \"marker\": {\"color\": \"rgb(76,114,176)\"}, \"name\": \"\", \"offsetgroup\": \"\", \"orientation\": \"v\", \"showlegend\": false, \"textposition\": \"auto\", \"type\": \"bar\", \"x\": [\"Pete Rose\", \"Ty Cobb\", \"Hank Aaron\", \"Stan Musial\", \"Tris Speaker\", \"Derek Jeter\", \"Cap Anson\", \"Honus Wagner\", \"Carl Yastrzemski\", \"Paul Molitor\"], \"xaxis\": \"x\", \"y\": [4256, 4189, 3771, 3630, 3514, 3465, 3435, 3420, 3419, 3319], \"yaxis\": \"y\"}],                        {\"barmode\": \"relative\", \"legend\": {\"tracegroupgap\": 0}, \"template\": {\"data\": {\"bar\": [{\"error_x\": {\"color\": \"rgb(36,36,36)\"}, \"error_y\": {\"color\": \"rgb(36,36,36)\"}, \"marker\": {\"line\": {\"color\": \"rgb(234,234,242)\", \"width\": 0.5}}, \"type\": \"bar\"}], \"barpolar\": [{\"marker\": {\"line\": {\"color\": \"rgb(234,234,242)\", \"width\": 0.5}}, \"type\": \"barpolar\"}], \"carpet\": [{\"aaxis\": {\"endlinecolor\": \"rgb(36,36,36)\", \"gridcolor\": \"white\", \"linecolor\": \"white\", \"minorgridcolor\": \"white\", \"startlinecolor\": \"rgb(36,36,36)\"}, \"baxis\": {\"endlinecolor\": \"rgb(36,36,36)\", \"gridcolor\": \"white\", \"linecolor\": \"white\", \"minorgridcolor\": \"white\", \"startlinecolor\": \"rgb(36,36,36)\"}, \"type\": \"carpet\"}], \"choropleth\": [{\"colorbar\": {\"outlinewidth\": 0, \"tickcolor\": \"rgb(36,36,36)\", \"ticklen\": 8, \"ticks\": \"outside\", \"tickwidth\": 2}, \"type\": \"choropleth\"}], \"contour\": [{\"colorbar\": {\"outlinewidth\": 0, \"tickcolor\": \"rgb(36,36,36)\", \"ticklen\": 8, \"ticks\": \"outside\", \"tickwidth\": 2}, \"colorscale\": [[0.0, \"rgb(2,4,25)\"], [0.06274509803921569, \"rgb(24,15,41)\"], [0.12549019607843137, \"rgb(47,23,57)\"], [0.18823529411764706, \"rgb(71,28,72)\"], [0.25098039215686274, \"rgb(97,30,82)\"], [0.3137254901960784, \"rgb(123,30,89)\"], [0.3764705882352941, \"rgb(150,27,91)\"], [0.4392156862745098, \"rgb(177,22,88)\"], [0.5019607843137255, \"rgb(203,26,79)\"], [0.5647058823529412, \"rgb(223,47,67)\"], [0.6274509803921569, \"rgb(236,76,61)\"], [0.6901960784313725, \"rgb(242,107,73)\"], [0.7529411764705882, \"rgb(244,135,95)\"], [0.8156862745098039, \"rgb(245,162,122)\"], [0.8784313725490196, \"rgb(246,188,153)\"], [0.9411764705882353, \"rgb(247,212,187)\"], [1.0, \"rgb(250,234,220)\"]], \"type\": \"contour\"}], \"contourcarpet\": [{\"colorbar\": {\"outlinewidth\": 0, \"tickcolor\": \"rgb(36,36,36)\", \"ticklen\": 8, \"ticks\": \"outside\", \"tickwidth\": 2}, \"type\": \"contourcarpet\"}], \"heatmap\": [{\"colorbar\": {\"outlinewidth\": 0, \"tickcolor\": \"rgb(36,36,36)\", \"ticklen\": 8, \"ticks\": \"outside\", \"tickwidth\": 2}, \"colorscale\": [[0.0, \"rgb(2,4,25)\"], [0.06274509803921569, \"rgb(24,15,41)\"], [0.12549019607843137, \"rgb(47,23,57)\"], [0.18823529411764706, \"rgb(71,28,72)\"], [0.25098039215686274, \"rgb(97,30,82)\"], [0.3137254901960784, \"rgb(123,30,89)\"], [0.3764705882352941, \"rgb(150,27,91)\"], [0.4392156862745098, \"rgb(177,22,88)\"], [0.5019607843137255, \"rgb(203,26,79)\"], [0.5647058823529412, \"rgb(223,47,67)\"], [0.6274509803921569, \"rgb(236,76,61)\"], [0.6901960784313725, \"rgb(242,107,73)\"], [0.7529411764705882, \"rgb(244,135,95)\"], [0.8156862745098039, \"rgb(245,162,122)\"], [0.8784313725490196, \"rgb(246,188,153)\"], [0.9411764705882353, \"rgb(247,212,187)\"], [1.0, \"rgb(250,234,220)\"]], \"type\": \"heatmap\"}], \"heatmapgl\": [{\"colorbar\": {\"outlinewidth\": 0, \"tickcolor\": \"rgb(36,36,36)\", \"ticklen\": 8, \"ticks\": \"outside\", \"tickwidth\": 2}, \"colorscale\": [[0.0, \"rgb(2,4,25)\"], [0.06274509803921569, \"rgb(24,15,41)\"], [0.12549019607843137, \"rgb(47,23,57)\"], [0.18823529411764706, \"rgb(71,28,72)\"], [0.25098039215686274, \"rgb(97,30,82)\"], [0.3137254901960784, \"rgb(123,30,89)\"], [0.3764705882352941, \"rgb(150,27,91)\"], [0.4392156862745098, \"rgb(177,22,88)\"], [0.5019607843137255, \"rgb(203,26,79)\"], [0.5647058823529412, \"rgb(223,47,67)\"], [0.6274509803921569, \"rgb(236,76,61)\"], [0.6901960784313725, \"rgb(242,107,73)\"], [0.7529411764705882, \"rgb(244,135,95)\"], [0.8156862745098039, \"rgb(245,162,122)\"], [0.8784313725490196, \"rgb(246,188,153)\"], [0.9411764705882353, \"rgb(247,212,187)\"], [1.0, \"rgb(250,234,220)\"]], \"type\": \"heatmapgl\"}], \"histogram\": [{\"marker\": {\"colorbar\": {\"outlinewidth\": 0, \"tickcolor\": \"rgb(36,36,36)\", \"ticklen\": 8, \"ticks\": \"outside\", \"tickwidth\": 2}}, \"type\": \"histogram\"}], \"histogram2d\": [{\"colorbar\": {\"outlinewidth\": 0, \"tickcolor\": \"rgb(36,36,36)\", \"ticklen\": 8, \"ticks\": \"outside\", \"tickwidth\": 2}, \"colorscale\": [[0.0, \"rgb(2,4,25)\"], [0.06274509803921569, \"rgb(24,15,41)\"], [0.12549019607843137, \"rgb(47,23,57)\"], [0.18823529411764706, \"rgb(71,28,72)\"], [0.25098039215686274, \"rgb(97,30,82)\"], [0.3137254901960784, \"rgb(123,30,89)\"], [0.3764705882352941, \"rgb(150,27,91)\"], [0.4392156862745098, \"rgb(177,22,88)\"], [0.5019607843137255, \"rgb(203,26,79)\"], [0.5647058823529412, \"rgb(223,47,67)\"], [0.6274509803921569, \"rgb(236,76,61)\"], [0.6901960784313725, \"rgb(242,107,73)\"], [0.7529411764705882, \"rgb(244,135,95)\"], [0.8156862745098039, \"rgb(245,162,122)\"], [0.8784313725490196, \"rgb(246,188,153)\"], [0.9411764705882353, \"rgb(247,212,187)\"], [1.0, \"rgb(250,234,220)\"]], \"type\": \"histogram2d\"}], \"histogram2dcontour\": [{\"colorbar\": {\"outlinewidth\": 0, \"tickcolor\": \"rgb(36,36,36)\", \"ticklen\": 8, \"ticks\": \"outside\", \"tickwidth\": 2}, \"colorscale\": [[0.0, \"rgb(2,4,25)\"], [0.06274509803921569, \"rgb(24,15,41)\"], [0.12549019607843137, \"rgb(47,23,57)\"], [0.18823529411764706, \"rgb(71,28,72)\"], [0.25098039215686274, \"rgb(97,30,82)\"], [0.3137254901960784, \"rgb(123,30,89)\"], [0.3764705882352941, \"rgb(150,27,91)\"], [0.4392156862745098, \"rgb(177,22,88)\"], [0.5019607843137255, \"rgb(203,26,79)\"], [0.5647058823529412, \"rgb(223,47,67)\"], [0.6274509803921569, \"rgb(236,76,61)\"], [0.6901960784313725, \"rgb(242,107,73)\"], [0.7529411764705882, \"rgb(244,135,95)\"], [0.8156862745098039, \"rgb(245,162,122)\"], [0.8784313725490196, \"rgb(246,188,153)\"], [0.9411764705882353, \"rgb(247,212,187)\"], [1.0, \"rgb(250,234,220)\"]], \"type\": \"histogram2dcontour\"}], \"mesh3d\": [{\"colorbar\": {\"outlinewidth\": 0, \"tickcolor\": \"rgb(36,36,36)\", \"ticklen\": 8, \"ticks\": \"outside\", \"tickwidth\": 2}, \"type\": \"mesh3d\"}], \"parcoords\": [{\"line\": {\"colorbar\": {\"outlinewidth\": 0, \"tickcolor\": \"rgb(36,36,36)\", \"ticklen\": 8, \"ticks\": \"outside\", \"tickwidth\": 2}}, \"type\": \"parcoords\"}], \"pie\": [{\"automargin\": true, \"type\": \"pie\"}], \"scatter\": [{\"marker\": {\"colorbar\": {\"outlinewidth\": 0, \"tickcolor\": \"rgb(36,36,36)\", \"ticklen\": 8, \"ticks\": \"outside\", \"tickwidth\": 2}}, \"type\": \"scatter\"}], \"scatter3d\": [{\"line\": {\"colorbar\": {\"outlinewidth\": 0, \"tickcolor\": \"rgb(36,36,36)\", \"ticklen\": 8, \"ticks\": \"outside\", \"tickwidth\": 2}}, \"marker\": {\"colorbar\": {\"outlinewidth\": 0, \"tickcolor\": \"rgb(36,36,36)\", \"ticklen\": 8, \"ticks\": \"outside\", \"tickwidth\": 2}}, \"type\": \"scatter3d\"}], \"scattercarpet\": [{\"marker\": {\"colorbar\": {\"outlinewidth\": 0, \"tickcolor\": \"rgb(36,36,36)\", \"ticklen\": 8, \"ticks\": \"outside\", \"tickwidth\": 2}}, \"type\": \"scattercarpet\"}], \"scattergeo\": [{\"marker\": {\"colorbar\": {\"outlinewidth\": 0, \"tickcolor\": \"rgb(36,36,36)\", \"ticklen\": 8, \"ticks\": \"outside\", \"tickwidth\": 2}}, \"type\": \"scattergeo\"}], \"scattergl\": [{\"marker\": {\"colorbar\": {\"outlinewidth\": 0, \"tickcolor\": \"rgb(36,36,36)\", \"ticklen\": 8, \"ticks\": \"outside\", \"tickwidth\": 2}}, \"type\": \"scattergl\"}], \"scattermapbox\": [{\"marker\": {\"colorbar\": {\"outlinewidth\": 0, \"tickcolor\": \"rgb(36,36,36)\", \"ticklen\": 8, \"ticks\": \"outside\", \"tickwidth\": 2}}, \"type\": \"scattermapbox\"}], \"scatterpolar\": [{\"marker\": {\"colorbar\": {\"outlinewidth\": 0, \"tickcolor\": \"rgb(36,36,36)\", \"ticklen\": 8, \"ticks\": \"outside\", \"tickwidth\": 2}}, \"type\": \"scatterpolar\"}], \"scatterpolargl\": [{\"marker\": {\"colorbar\": {\"outlinewidth\": 0, \"tickcolor\": \"rgb(36,36,36)\", \"ticklen\": 8, \"ticks\": \"outside\", \"tickwidth\": 2}}, \"type\": \"scatterpolargl\"}], \"scatterternary\": [{\"marker\": {\"colorbar\": {\"outlinewidth\": 0, \"tickcolor\": \"rgb(36,36,36)\", \"ticklen\": 8, \"ticks\": \"outside\", \"tickwidth\": 2}}, \"type\": \"scatterternary\"}], \"surface\": [{\"colorbar\": {\"outlinewidth\": 0, \"tickcolor\": \"rgb(36,36,36)\", \"ticklen\": 8, \"ticks\": \"outside\", \"tickwidth\": 2}, \"colorscale\": [[0.0, \"rgb(2,4,25)\"], [0.06274509803921569, \"rgb(24,15,41)\"], [0.12549019607843137, \"rgb(47,23,57)\"], [0.18823529411764706, \"rgb(71,28,72)\"], [0.25098039215686274, \"rgb(97,30,82)\"], [0.3137254901960784, \"rgb(123,30,89)\"], [0.3764705882352941, \"rgb(150,27,91)\"], [0.4392156862745098, \"rgb(177,22,88)\"], [0.5019607843137255, \"rgb(203,26,79)\"], [0.5647058823529412, \"rgb(223,47,67)\"], [0.6274509803921569, \"rgb(236,76,61)\"], [0.6901960784313725, \"rgb(242,107,73)\"], [0.7529411764705882, \"rgb(244,135,95)\"], [0.8156862745098039, \"rgb(245,162,122)\"], [0.8784313725490196, \"rgb(246,188,153)\"], [0.9411764705882353, \"rgb(247,212,187)\"], [1.0, \"rgb(250,234,220)\"]], \"type\": \"surface\"}], \"table\": [{\"cells\": {\"fill\": {\"color\": \"rgb(231,231,240)\"}, \"line\": {\"color\": \"white\"}}, \"header\": {\"fill\": {\"color\": \"rgb(183,183,191)\"}, \"line\": {\"color\": \"white\"}}, \"type\": \"table\"}]}, \"layout\": {\"annotationdefaults\": {\"arrowcolor\": \"rgb(67,103,167)\"}, \"autotypenumbers\": \"strict\", \"coloraxis\": {\"colorbar\": {\"outlinewidth\": 0, \"tickcolor\": \"rgb(36,36,36)\", \"ticklen\": 8, \"ticks\": \"outside\", \"tickwidth\": 2}}, \"colorscale\": {\"sequential\": [[0.0, \"rgb(2,4,25)\"], [0.06274509803921569, \"rgb(24,15,41)\"], [0.12549019607843137, \"rgb(47,23,57)\"], [0.18823529411764706, \"rgb(71,28,72)\"], [0.25098039215686274, \"rgb(97,30,82)\"], [0.3137254901960784, \"rgb(123,30,89)\"], [0.3764705882352941, \"rgb(150,27,91)\"], [0.4392156862745098, \"rgb(177,22,88)\"], [0.5019607843137255, \"rgb(203,26,79)\"], [0.5647058823529412, \"rgb(223,47,67)\"], [0.6274509803921569, \"rgb(236,76,61)\"], [0.6901960784313725, \"rgb(242,107,73)\"], [0.7529411764705882, \"rgb(244,135,95)\"], [0.8156862745098039, \"rgb(245,162,122)\"], [0.8784313725490196, \"rgb(246,188,153)\"], [0.9411764705882353, \"rgb(247,212,187)\"], [1.0, \"rgb(250,234,220)\"]], \"sequentialminus\": [[0.0, \"rgb(2,4,25)\"], [0.06274509803921569, \"rgb(24,15,41)\"], [0.12549019607843137, \"rgb(47,23,57)\"], [0.18823529411764706, \"rgb(71,28,72)\"], [0.25098039215686274, \"rgb(97,30,82)\"], [0.3137254901960784, \"rgb(123,30,89)\"], [0.3764705882352941, \"rgb(150,27,91)\"], [0.4392156862745098, \"rgb(177,22,88)\"], [0.5019607843137255, \"rgb(203,26,79)\"], [0.5647058823529412, \"rgb(223,47,67)\"], [0.6274509803921569, \"rgb(236,76,61)\"], [0.6901960784313725, \"rgb(242,107,73)\"], [0.7529411764705882, \"rgb(244,135,95)\"], [0.8156862745098039, \"rgb(245,162,122)\"], [0.8784313725490196, \"rgb(246,188,153)\"], [0.9411764705882353, \"rgb(247,212,187)\"], [1.0, \"rgb(250,234,220)\"]]}, \"colorway\": [\"rgb(76,114,176)\", \"rgb(221,132,82)\", \"rgb(85,168,104)\", \"rgb(196,78,82)\", \"rgb(129,114,179)\", \"rgb(147,120,96)\", \"rgb(218,139,195)\", \"rgb(140,140,140)\", \"rgb(204,185,116)\", \"rgb(100,181,205)\"], \"font\": {\"color\": \"rgb(36,36,36)\"}, \"geo\": {\"bgcolor\": \"white\", \"lakecolor\": \"white\", \"landcolor\": \"rgb(234,234,242)\", \"showlakes\": true, \"showland\": true, \"subunitcolor\": \"white\"}, \"hoverlabel\": {\"align\": \"left\"}, \"hovermode\": \"closest\", \"paper_bgcolor\": \"white\", \"plot_bgcolor\": \"rgb(234,234,242)\", \"polar\": {\"angularaxis\": {\"gridcolor\": \"white\", \"linecolor\": \"white\", \"showgrid\": true, \"ticks\": \"\"}, \"bgcolor\": \"rgb(234,234,242)\", \"radialaxis\": {\"gridcolor\": \"white\", \"linecolor\": \"white\", \"showgrid\": true, \"ticks\": \"\"}}, \"scene\": {\"xaxis\": {\"backgroundcolor\": \"rgb(234,234,242)\", \"gridcolor\": \"white\", \"gridwidth\": 2, \"linecolor\": \"white\", \"showbackground\": true, \"showgrid\": true, \"ticks\": \"\", \"zerolinecolor\": \"white\"}, \"yaxis\": {\"backgroundcolor\": \"rgb(234,234,242)\", \"gridcolor\": \"white\", \"gridwidth\": 2, \"linecolor\": \"white\", \"showbackground\": true, \"showgrid\": true, \"ticks\": \"\", \"zerolinecolor\": \"white\"}, \"zaxis\": {\"backgroundcolor\": \"rgb(234,234,242)\", \"gridcolor\": \"white\", \"gridwidth\": 2, \"linecolor\": \"white\", \"showbackground\": true, \"showgrid\": true, \"ticks\": \"\", \"zerolinecolor\": \"white\"}}, \"shapedefaults\": {\"fillcolor\": \"rgb(67,103,167)\", \"line\": {\"width\": 0}, \"opacity\": 0.5}, \"ternary\": {\"aaxis\": {\"gridcolor\": \"white\", \"linecolor\": \"white\", \"showgrid\": true, \"ticks\": \"\"}, \"baxis\": {\"gridcolor\": \"white\", \"linecolor\": \"white\", \"showgrid\": true, \"ticks\": \"\"}, \"bgcolor\": \"rgb(234,234,242)\", \"caxis\": {\"gridcolor\": \"white\", \"linecolor\": \"white\", \"showgrid\": true, \"ticks\": \"\"}}, \"xaxis\": {\"automargin\": true, \"gridcolor\": \"white\", \"linecolor\": \"white\", \"showgrid\": true, \"ticks\": \"\", \"title\": {\"standoff\": 15}, \"zerolinecolor\": \"white\"}, \"yaxis\": {\"automargin\": true, \"gridcolor\": \"white\", \"linecolor\": \"white\", \"showgrid\": true, \"ticks\": \"\", \"title\": {\"standoff\": 15}, \"zerolinecolor\": \"white\"}}}, \"title\": {\"text\": \"All-time Hit Leaders\"}, \"xaxis\": {\"anchor\": \"y\", \"domain\": [0.0, 1.0], \"title\": {}}, \"yaxis\": {\"anchor\": \"x\", \"domain\": [0.0, 1.0], \"title\": {\"text\": \"Hits\"}}},                        {\"responsive\": true}                    ).then(function(){\n",
       "                            \n",
       "var gd = document.getElementById('b5dde571-d495-4f51-956e-81db7c6984d2');\n",
       "var x = new MutationObserver(function (mutations, observer) {{\n",
       "        var display = window.getComputedStyle(gd).display;\n",
       "        if (!display || display === 'none') {{\n",
       "            console.log([gd, 'removed!']);\n",
       "            Plotly.purge(gd);\n",
       "            observer.disconnect();\n",
       "        }}\n",
       "}});\n",
       "\n",
       "// Listen for the removal of the full notebook cells\n",
       "var notebookContainer = gd.closest('#notebook-container');\n",
       "if (notebookContainer) {{\n",
       "    x.observe(notebookContainer, {childList: true});\n",
       "}}\n",
       "\n",
       "// Listen for the clearing of the current output cell\n",
       "var outputEl = gd.closest('.output');\n",
       "if (outputEl) {{\n",
       "    x.observe(outputEl, {childList: true});\n",
       "}}\n",
       "\n",
       "                        })                };                });            </script>        </div>"
      ]
     },
     "metadata": {},
     "output_type": "display_data"
    }
   ],
   "source": [
    "bp = px.bar(h_leaders, \n",
    "            x=\"fullName\", \n",
    "            y=\"H\", \n",
    "            title=\"All-time Hit Leaders\",\n",
    "            custom_data=[\"debut\", \"finalGame\"])\n",
    "bp.update_traces(hovertemplate=\"<b>%{x}</b>: %{y} (%{customdata[0]}-%{customdata[1]})\")\n",
    "bp.update_xaxes(title=None)\n",
    "bp.update_yaxes(title=\"Hits\")"
   ]
  },
  {
   "cell_type": "markdown",
   "id": "level-generator",
   "metadata": {},
   "source": [
    "_____________________________________________"
   ]
  },
  {
   "cell_type": "code",
   "execution_count": 493,
   "id": "empty-natural",
   "metadata": {},
   "outputs": [
    {
     "data": {
      "text/html": [
       "<div>\n",
       "<style scoped>\n",
       "    .dataframe tbody tr th:only-of-type {\n",
       "        vertical-align: middle;\n",
       "    }\n",
       "\n",
       "    .dataframe tbody tr th {\n",
       "        vertical-align: top;\n",
       "    }\n",
       "\n",
       "    .dataframe thead th {\n",
       "        text-align: right;\n",
       "    }\n",
       "</style>\n",
       "<table border=\"1\" class=\"dataframe\">\n",
       "  <thead>\n",
       "    <tr style=\"text-align: right;\">\n",
       "      <th>yearID</th>\n",
       "      <th>1871</th>\n",
       "      <th>1872</th>\n",
       "      <th>1873</th>\n",
       "      <th>1874</th>\n",
       "      <th>1875</th>\n",
       "      <th>1876</th>\n",
       "      <th>1877</th>\n",
       "      <th>1878</th>\n",
       "      <th>1879</th>\n",
       "      <th>1880</th>\n",
       "      <th>...</th>\n",
       "      <th>2011</th>\n",
       "      <th>2012</th>\n",
       "      <th>2013</th>\n",
       "      <th>2014</th>\n",
       "      <th>2015</th>\n",
       "      <th>2016</th>\n",
       "      <th>2017</th>\n",
       "      <th>2018</th>\n",
       "      <th>2019</th>\n",
       "      <th>2020</th>\n",
       "    </tr>\n",
       "  </thead>\n",
       "  <tbody>\n",
       "    <tr>\n",
       "      <th>HR</th>\n",
       "      <td>47</td>\n",
       "      <td>37</td>\n",
       "      <td>47</td>\n",
       "      <td>40</td>\n",
       "      <td>40</td>\n",
       "      <td>40</td>\n",
       "      <td>24</td>\n",
       "      <td>23</td>\n",
       "      <td>58</td>\n",
       "      <td>62</td>\n",
       "      <td>...</td>\n",
       "      <td>4552</td>\n",
       "      <td>4934</td>\n",
       "      <td>4661</td>\n",
       "      <td>4186</td>\n",
       "      <td>4909</td>\n",
       "      <td>5610</td>\n",
       "      <td>6105</td>\n",
       "      <td>5585</td>\n",
       "      <td>6776</td>\n",
       "      <td>2304</td>\n",
       "    </tr>\n",
       "    <tr>\n",
       "      <th>RBI</th>\n",
       "      <td>1783</td>\n",
       "      <td>2132</td>\n",
       "      <td>2331</td>\n",
       "      <td>2252</td>\n",
       "      <td>2710</td>\n",
       "      <td>1984</td>\n",
       "      <td>1410</td>\n",
       "      <td>1331</td>\n",
       "      <td>2357</td>\n",
       "      <td>2223</td>\n",
       "      <td>...</td>\n",
       "      <td>19804</td>\n",
       "      <td>19998</td>\n",
       "      <td>19271</td>\n",
       "      <td>18745</td>\n",
       "      <td>19650</td>\n",
       "      <td>20745</td>\n",
       "      <td>21558</td>\n",
       "      <td>20606</td>\n",
       "      <td>22471</td>\n",
       "      <td>7978</td>\n",
       "    </tr>\n",
       "  </tbody>\n",
       "</table>\n",
       "<p>2 rows × 150 columns</p>\n",
       "</div>"
      ],
      "text/plain": [
       "yearID  1871  1872  1873  1874  1875  1876  1877  1878  1879  1880  ...  \\\n",
       "HR        47    37    47    40    40    40    24    23    58    62  ...   \n",
       "RBI     1783  2132  2331  2252  2710  1984  1410  1331  2357  2223  ...   \n",
       "\n",
       "yearID   2011   2012   2013   2014   2015   2016   2017   2018   2019  2020  \n",
       "HR       4552   4934   4661   4186   4909   5610   6105   5585   6776  2304  \n",
       "RBI     19804  19998  19271  18745  19650  20745  21558  20606  22471  7978  \n",
       "\n",
       "[2 rows x 150 columns]"
      ]
     },
     "execution_count": 493,
     "metadata": {},
     "output_type": "execute_result"
    }
   ],
   "source": [
    "stats_per_year = batting_all.pivot_table(columns=\"yearID\", values=[\"HR\", \"RBI\"], aggfunc=np.sum).astype(np.int)\n",
    "stats_per_year"
   ]
  },
  {
   "cell_type": "code",
   "execution_count": 492,
   "id": "sought-found",
   "metadata": {},
   "outputs": [
    {
     "data": {
      "text/html": [
       "<div>\n",
       "<style scoped>\n",
       "    .dataframe tbody tr th:only-of-type {\n",
       "        vertical-align: middle;\n",
       "    }\n",
       "\n",
       "    .dataframe tbody tr th {\n",
       "        vertical-align: top;\n",
       "    }\n",
       "\n",
       "    .dataframe thead th {\n",
       "        text-align: right;\n",
       "    }\n",
       "</style>\n",
       "<table border=\"1\" class=\"dataframe\">\n",
       "  <thead>\n",
       "    <tr style=\"text-align: right;\">\n",
       "      <th>yearID</th>\n",
       "      <th>1871</th>\n",
       "      <th>1872</th>\n",
       "      <th>1873</th>\n",
       "      <th>1874</th>\n",
       "      <th>1875</th>\n",
       "      <th>1876</th>\n",
       "      <th>1877</th>\n",
       "      <th>1878</th>\n",
       "      <th>1879</th>\n",
       "      <th>1880</th>\n",
       "      <th>...</th>\n",
       "      <th>2011</th>\n",
       "      <th>2012</th>\n",
       "      <th>2013</th>\n",
       "      <th>2014</th>\n",
       "      <th>2015</th>\n",
       "      <th>2016</th>\n",
       "      <th>2017</th>\n",
       "      <th>2018</th>\n",
       "      <th>2019</th>\n",
       "      <th>2020</th>\n",
       "    </tr>\n",
       "  </thead>\n",
       "  <tbody>\n",
       "    <tr>\n",
       "      <th>playerID</th>\n",
       "      <td>115</td>\n",
       "      <td>143</td>\n",
       "      <td>122</td>\n",
       "      <td>120</td>\n",
       "      <td>188</td>\n",
       "      <td>121</td>\n",
       "      <td>92</td>\n",
       "      <td>77</td>\n",
       "      <td>119</td>\n",
       "      <td>127</td>\n",
       "      <td>...</td>\n",
       "      <td>1295</td>\n",
       "      <td>1284</td>\n",
       "      <td>1304</td>\n",
       "      <td>1320</td>\n",
       "      <td>1348</td>\n",
       "      <td>1353</td>\n",
       "      <td>1358</td>\n",
       "      <td>1379</td>\n",
       "      <td>1410</td>\n",
       "      <td>1289</td>\n",
       "    </tr>\n",
       "  </tbody>\n",
       "</table>\n",
       "<p>1 rows × 150 columns</p>\n",
       "</div>"
      ],
      "text/plain": [
       "yearID    1871  1872  1873  1874  1875  1876  1877  1878  1879  1880  ...  \\\n",
       "playerID   115   143   122   120   188   121    92    77   119   127  ...   \n",
       "\n",
       "yearID    2011  2012  2013  2014  2015  2016  2017  2018  2019  2020  \n",
       "playerID  1295  1284  1304  1320  1348  1353  1358  1379  1410  1289  \n",
       "\n",
       "[1 rows x 150 columns]"
      ]
     },
     "execution_count": 492,
     "metadata": {},
     "output_type": "execute_result"
    }
   ],
   "source": [
    "# number of players\n",
    "players_per_year = batting_all.pivot_table(columns=\"yearID\", values=\"playerID\", aggfunc=pd.DataFrame.nunique)\n",
    "players_per_year"
   ]
  },
  {
   "cell_type": "code",
   "execution_count": 506,
   "id": "pharmaceutical-madagascar",
   "metadata": {},
   "outputs": [
    {
     "data": {
      "text/html": [
       "<div>\n",
       "<style scoped>\n",
       "    .dataframe tbody tr th:only-of-type {\n",
       "        vertical-align: middle;\n",
       "    }\n",
       "\n",
       "    .dataframe tbody tr th {\n",
       "        vertical-align: top;\n",
       "    }\n",
       "\n",
       "    .dataframe thead th {\n",
       "        text-align: right;\n",
       "    }\n",
       "</style>\n",
       "<table border=\"1\" class=\"dataframe\">\n",
       "  <thead>\n",
       "    <tr style=\"text-align: right;\">\n",
       "      <th>yearID</th>\n",
       "      <th>1871</th>\n",
       "      <th>1872</th>\n",
       "      <th>1873</th>\n",
       "      <th>1874</th>\n",
       "      <th>1875</th>\n",
       "      <th>1876</th>\n",
       "      <th>1877</th>\n",
       "      <th>1878</th>\n",
       "      <th>1879</th>\n",
       "      <th>1880</th>\n",
       "      <th>...</th>\n",
       "      <th>2011</th>\n",
       "      <th>2012</th>\n",
       "      <th>2013</th>\n",
       "      <th>2014</th>\n",
       "      <th>2015</th>\n",
       "      <th>2016</th>\n",
       "      <th>2017</th>\n",
       "      <th>2018</th>\n",
       "      <th>2019</th>\n",
       "      <th>2020</th>\n",
       "    </tr>\n",
       "  </thead>\n",
       "  <tbody>\n",
       "    <tr>\n",
       "      <th>HR</th>\n",
       "      <td>0.408696</td>\n",
       "      <td>0.258741</td>\n",
       "      <td>0.385246</td>\n",
       "      <td>0.333333</td>\n",
       "      <td>0.212766</td>\n",
       "      <td>0.330579</td>\n",
       "      <td>0.260870</td>\n",
       "      <td>0.298701</td>\n",
       "      <td>0.487395</td>\n",
       "      <td>0.488189</td>\n",
       "      <td>...</td>\n",
       "      <td>3.515058</td>\n",
       "      <td>3.842679</td>\n",
       "      <td>3.574387</td>\n",
       "      <td>3.171212</td>\n",
       "      <td>3.641691</td>\n",
       "      <td>4.146341</td>\n",
       "      <td>4.495582</td>\n",
       "      <td>4.050036</td>\n",
       "      <td>4.805674</td>\n",
       "      <td>1.787432</td>\n",
       "    </tr>\n",
       "    <tr>\n",
       "      <th>RBI</th>\n",
       "      <td>15.504348</td>\n",
       "      <td>14.909091</td>\n",
       "      <td>19.106557</td>\n",
       "      <td>18.766667</td>\n",
       "      <td>14.414894</td>\n",
       "      <td>16.396694</td>\n",
       "      <td>15.326087</td>\n",
       "      <td>17.285714</td>\n",
       "      <td>19.806723</td>\n",
       "      <td>17.503937</td>\n",
       "      <td>...</td>\n",
       "      <td>15.292664</td>\n",
       "      <td>15.574766</td>\n",
       "      <td>14.778374</td>\n",
       "      <td>14.200758</td>\n",
       "      <td>14.577151</td>\n",
       "      <td>15.332594</td>\n",
       "      <td>15.874816</td>\n",
       "      <td>14.942712</td>\n",
       "      <td>15.936879</td>\n",
       "      <td>6.189294</td>\n",
       "    </tr>\n",
       "  </tbody>\n",
       "</table>\n",
       "<p>2 rows × 150 columns</p>\n",
       "</div>"
      ],
      "text/plain": [
       "yearID       1871       1872       1873       1874       1875       1876  \\\n",
       "HR       0.408696   0.258741   0.385246   0.333333   0.212766   0.330579   \n",
       "RBI     15.504348  14.909091  19.106557  18.766667  14.414894  16.396694   \n",
       "\n",
       "yearID       1877       1878       1879       1880  ...       2011       2012  \\\n",
       "HR       0.260870   0.298701   0.487395   0.488189  ...   3.515058   3.842679   \n",
       "RBI     15.326087  17.285714  19.806723  17.503937  ...  15.292664  15.574766   \n",
       "\n",
       "yearID       2013       2014       2015       2016       2017       2018  \\\n",
       "HR       3.574387   3.171212   3.641691   4.146341   4.495582   4.050036   \n",
       "RBI     14.778374  14.200758  14.577151  15.332594  15.874816  14.942712   \n",
       "\n",
       "yearID       2019      2020  \n",
       "HR       4.805674  1.787432  \n",
       "RBI     15.936879  6.189294  \n",
       "\n",
       "[2 rows x 150 columns]"
      ]
     },
     "execution_count": 506,
     "metadata": {},
     "output_type": "execute_result"
    }
   ],
   "source": [
    "stats_per_year.divide(players_per_year.loc[\"playerID\"], axis=\"columns\")"
   ]
  },
  {
   "cell_type": "markdown",
   "id": "frequent-prague",
   "metadata": {},
   "source": [
    "___________________________________"
   ]
  },
  {
   "cell_type": "markdown",
   "id": "forced-scanner",
   "metadata": {},
   "source": [
    "# Team stats"
   ]
  },
  {
   "cell_type": "code",
   "execution_count": 509,
   "id": "powered-picture",
   "metadata": {},
   "outputs": [],
   "source": [
    "teams = pd.read_csv(datapath/\"teams.csv\")"
   ]
  },
  {
   "cell_type": "code",
   "execution_count": 625,
   "id": "cordless-ethernet",
   "metadata": {},
   "outputs": [
    {
     "name": "stdout",
     "output_type": "stream",
     "text": [
      "<class 'pandas.core.frame.DataFrame'>\n",
      "RangeIndex: 2955 entries, 0 to 2954\n",
      "Data columns (total 48 columns):\n",
      " #   Column          Non-Null Count  Dtype  \n",
      "---  ------          --------------  -----  \n",
      " 0   yearID          2955 non-null   int64  \n",
      " 1   lgID            2905 non-null   object \n",
      " 2   teamID          2955 non-null   object \n",
      " 3   franchID        2955 non-null   object \n",
      " 4   divID           1438 non-null   object \n",
      " 5   Rank            2955 non-null   int64  \n",
      " 6   G               2955 non-null   int64  \n",
      " 7   Ghome           2556 non-null   float64\n",
      " 8   W               2955 non-null   int64  \n",
      " 9   L               2955 non-null   int64  \n",
      " 10  DivWin          1410 non-null   object \n",
      " 11  WCWin           774 non-null    object \n",
      " 12  LgWin           2927 non-null   object \n",
      " 13  WSWin           2598 non-null   object \n",
      " 14  R               2955 non-null   int64  \n",
      " 15  AB              2955 non-null   int64  \n",
      " 16  H               2955 non-null   int64  \n",
      " 17  2B              2955 non-null   int64  \n",
      " 18  3B              2955 non-null   int64  \n",
      " 19  HR              2955 non-null   int64  \n",
      " 20  BB              2954 non-null   float64\n",
      " 21  SO              2939 non-null   float64\n",
      " 22  SB              2829 non-null   float64\n",
      " 23  CS              2123 non-null   float64\n",
      " 24  HBP             1797 non-null   float64\n",
      " 25  SF              1414 non-null   float64\n",
      " 26  RA              2955 non-null   int64  \n",
      " 27  ER              2955 non-null   int64  \n",
      " 28  ERA             2955 non-null   float64\n",
      " 29  CG              2955 non-null   int64  \n",
      " 30  SHO             2955 non-null   int64  \n",
      " 31  SV              2955 non-null   int64  \n",
      " 32  IPouts          2955 non-null   int64  \n",
      " 33  HA              2955 non-null   int64  \n",
      " 34  HRA             2955 non-null   int64  \n",
      " 35  BBA             2955 non-null   int64  \n",
      " 36  SOA             2955 non-null   int64  \n",
      " 37  E               2955 non-null   int64  \n",
      " 38  DP              2955 non-null   int64  \n",
      " 39  FP              2955 non-null   float64\n",
      " 40  name            2955 non-null   object \n",
      " 41  park            2921 non-null   object \n",
      " 42  attendance      2676 non-null   float64\n",
      " 43  BPF             2955 non-null   int64  \n",
      " 44  PPF             2955 non-null   int64  \n",
      " 45  teamIDBR        2955 non-null   object \n",
      " 46  teamIDlahman45  2955 non-null   object \n",
      " 47  teamIDretro     2955 non-null   object \n",
      "dtypes: float64(10), int64(25), object(13)\n",
      "memory usage: 1.1+ MB\n"
     ]
    }
   ],
   "source": [
    "teams.info()"
   ]
  },
  {
   "cell_type": "code",
   "execution_count": 705,
   "id": "architectural-peninsula",
   "metadata": {},
   "outputs": [],
   "source": [
    "from itertools import chain"
   ]
  },
  {
   "cell_type": "code",
   "execution_count": 707,
   "id": "subsequent-initial",
   "metadata": {},
   "outputs": [],
   "source": [
    "def stat_per_game(stats):\n",
    "    df = teams.pivot_table(index=\"yearID\", \n",
    "                           values=chain(stats, [\"G\"]), \n",
    "                           aggfunc=np.sum)\n",
    "    return df.divide(df[\"G\"], axis=\"index\") \\\n",
    "             .drop(\"G\", axis=1) \\\n",
    "             .reset_index()"
   ]
  },
  {
   "cell_type": "markdown",
   "id": "genetic-wheat",
   "metadata": {},
   "source": [
    "## Offense over time"
   ]
  },
  {
   "cell_type": "code",
   "execution_count": 708,
   "id": "built-lounge",
   "metadata": {},
   "outputs": [
    {
     "data": {
      "text/html": [
       "<div>\n",
       "<style scoped>\n",
       "    .dataframe tbody tr th:only-of-type {\n",
       "        vertical-align: middle;\n",
       "    }\n",
       "\n",
       "    .dataframe tbody tr th {\n",
       "        vertical-align: top;\n",
       "    }\n",
       "\n",
       "    .dataframe thead th {\n",
       "        text-align: right;\n",
       "    }\n",
       "</style>\n",
       "<table border=\"1\" class=\"dataframe\">\n",
       "  <thead>\n",
       "    <tr style=\"text-align: right;\">\n",
       "      <th></th>\n",
       "      <th>yearID</th>\n",
       "      <th>BB</th>\n",
       "      <th>H</th>\n",
       "      <th>HR</th>\n",
       "      <th>R</th>\n",
       "    </tr>\n",
       "  </thead>\n",
       "  <tbody>\n",
       "    <tr>\n",
       "      <th>0</th>\n",
       "      <td>1871</td>\n",
       "      <td>1.547244</td>\n",
       "      <td>12.208661</td>\n",
       "      <td>0.185039</td>\n",
       "      <td>10.468504</td>\n",
       "    </tr>\n",
       "    <tr>\n",
       "      <th>1</th>\n",
       "      <td>1872</td>\n",
       "      <td>0.718579</td>\n",
       "      <td>12.204918</td>\n",
       "      <td>0.101093</td>\n",
       "      <td>9.262295</td>\n",
       "    </tr>\n",
       "  </tbody>\n",
       "</table>\n",
       "</div>"
      ],
      "text/plain": [
       "   yearID        BB          H        HR          R\n",
       "0    1871  1.547244  12.208661  0.185039  10.468504\n",
       "1    1872  0.718579  12.204918  0.101093   9.262295"
      ]
     },
     "execution_count": 708,
     "metadata": {},
     "output_type": "execute_result"
    }
   ],
   "source": [
    "off_stats = [\"H\", \"R\", \"HR\", \"BB\"]\n",
    "off_per_game = stat_per_game(off_stats)\n",
    "off_per_game.head(2)"
   ]
  },
  {
   "cell_type": "code",
   "execution_count": 709,
   "id": "painful-greene",
   "metadata": {},
   "outputs": [
    {
     "data": {
      "text/plain": [
       "['H', 'R', 'HR', 'BB']"
      ]
     },
     "execution_count": 709,
     "metadata": {},
     "output_type": "execute_result"
    }
   ],
   "source": [
    "off_stats"
   ]
  },
  {
   "cell_type": "code",
   "execution_count": 722,
   "id": "acceptable-comparative",
   "metadata": {},
   "outputs": [
    {
     "data": {
      "text/html": [
       "<div>                            <div id=\"7907ab64-9c50-4215-a9c5-7e81f2547fd9\" class=\"plotly-graph-div\" style=\"height:525px; width:100%;\"></div>            <script type=\"text/javascript\">                require([\"plotly\"], function(Plotly) {                    window.PLOTLYENV=window.PLOTLYENV || {};                                    if (document.getElementById(\"7907ab64-9c50-4215-a9c5-7e81f2547fd9\")) {                    Plotly.newPlot(                        \"7907ab64-9c50-4215-a9c5-7e81f2547fd9\",                        [{\"hovertemplate\": \"<b>%{x}</b><br>%{y:.3f}\", \"legendgroup\": \"HR\", \"line\": {\"color\": \"rgb(76,114,176)\", \"dash\": \"solid\", \"width\": 3}, \"mode\": \"lines\", \"name\": \"HR\", \"orientation\": \"v\", \"showlegend\": true, \"type\": \"scatter\", \"x\": [1871, 1872, 1873, 1874, 1875, 1876, 1877, 1878, 1879, 1880, 1881, 1882, 1883, 1884, 1885, 1886, 1887, 1888, 1889, 1890, 1891, 1892, 1893, 1894, 1895, 1896, 1897, 1898, 1899, 1900, 1901, 1902, 1903, 1904, 1905, 1906, 1907, 1908, 1909, 1910, 1911, 1912, 1913, 1914, 1915, 1916, 1917, 1918, 1919, 1920, 1921, 1922, 1923, 1924, 1925, 1926, 1927, 1928, 1929, 1930, 1931, 1932, 1933, 1934, 1935, 1936, 1937, 1938, 1939, 1940, 1941, 1942, 1943, 1944, 1945, 1946, 1947, 1948, 1949, 1950, 1951, 1952, 1953, 1954, 1955, 1956, 1957, 1958, 1959, 1960, 1961, 1962, 1963, 1964, 1965, 1966, 1967, 1968, 1969, 1970, 1971, 1972, 1973, 1974, 1975, 1976, 1977, 1978, 1979, 1980, 1981, 1982, 1983, 1984, 1985, 1986, 1987, 1988, 1989, 1990, 1991, 1992, 1993, 1994, 1995, 1996, 1997, 1998, 1999, 2000, 2001, 2002, 2003, 2004, 2005, 2006, 2007, 2008, 2009, 2010, 2011, 2012, 2013, 2014, 2015, 2016, 2017, 2018, 2019, 2020], \"xaxis\": \"x\", \"y\": [0.18503937007874016, 0.10109289617486339, 0.11809045226130653, 0.08620689655172414, 0.057971014492753624, 0.07692307692307693, 0.06666666666666667, 0.0625, 0.09034267912772585, 0.09117647058823529, 0.1130952380952381, 0.15586690017513136, 0.15159235668789808, 0.22413793103448276, 0.18146067415730338, 0.19685414680648236, 0.2869318181818182, 0.2389908256880734, 0.30652573529411764, 0.23741454319453076, 0.26398916967509023, 0.22712418300653595, 0.2929936305732484, 0.3941102756892231, 0.30614805520702637, 0.255050505050505, 0.22800495662949194, 0.1625, 0.19109663409337677, 0.22359154929577466, 0.20513976555455365, 0.15874439461883408, 0.15035906642728905, 0.1326121794871795, 0.13662085691188358, 0.10635696821515893, 0.0989456609894566, 0.10731511254019292, 0.10435132957292506, 0.144515612489992, 0.20776071139854488, 0.17978896103896103, 0.19003241491085898, 0.18909574468085105, 0.17033261802575106, 0.15356856455493184, 0.1343223736968725, 0.1156496062992126, 0.19991055456171736, 0.2552674230145867, 0.38120423108218066, 0.42609046849757676, 0.39740470397404704, 0.36393176279447603, 0.4759771986970684, 0.34967585089141007, 0.37297734627831713, 0.4439480097481722, 0.548820179007323, 0.6341166936790924, 0.4324433656957929, 0.5506893755068938, 0.43515497553017946, 0.5494685200327064, 0.5394951140065146, 0.5508885298869144, 0.5770782889426957, 0.6030253475061325, 0.5869212022745736, 0.6355177993527508, 0.534967845659164, 0.4375, 0.36550888529886916, 0.41626409017713367, 0.40934959349593497, 0.4891304347826087, 0.6295253419147224, 0.6285367825383994, 0.6870967741935484, 0.8372374798061389, 0.7518159806295399, 0.6864406779661016, 0.8370967741935483, 0.7829426030719483, 0.9011345218800648, 0.9257465698143664, 0.891497975708502, 0.9068825910931174, 0.9087237479806138, 0.86084142394822, 0.9545454545454546, 0.9256631708821715, 0.8350833848054354, 0.8493234932349324, 0.8280961182994455, 0.8492260061919504, 0.7095679012345679, 0.6138461538461538, 0.8013874614594039, 0.8819444444444444, 0.7386480908152735, 0.6815492200107585, 0.7982501286670097, 0.6809768637532133, 0.6975180972078594, 0.5763280041258381, 0.8663813599619591, 0.70313986679353, 0.8181601525262154, 0.7332541567695962, 0.6388091822094691, 0.8018509729473184, 0.7825983878615458, 0.7738717339667458, 0.8563956252971945, 0.9065620542082738, 1.0589073634204276, 0.7571428571428571, 0.7319563152896487, 0.7878859857482186, 0.8039448669201521, 0.7212725546058879, 0.8880564125165271, 1.033125, 1.0116509667823501, 1.0943978826643141, 1.0238305383936452, 1.0411184210526316, 1.1383855024711698, 1.171881432688349, 1.1235076163030053, 1.0426628194558945, 1.0713991769547324, 1.1225288303130148, 1.0318798848210613, 1.1086867023466447, 1.0195392842451665, 1.0045304777594728, 1.0374485596707819, 0.9491769547325103, 0.9370111156854672, 1.0152263374485597, 0.9586589880707528, 0.8613168724279835, 1.0104981473857555, 1.1552718286655683, 1.2561728395061729, 1.148704236939531, 1.3948126801152738, 1.2828507795100224], \"yaxis\": \"y\"}, {\"hovertemplate\": \"<b>%{x}</b><br>%{y:.3f}\", \"legendgroup\": \"H\", \"line\": {\"color\": \"rgb(221,132,82)\", \"dash\": \"solid\", \"width\": 3}, \"mode\": \"lines\", \"name\": \"H\", \"orientation\": \"v\", \"showlegend\": true, \"type\": \"scatter\", \"x\": [1871, 1872, 1873, 1874, 1875, 1876, 1877, 1878, 1879, 1880, 1881, 1882, 1883, 1884, 1885, 1886, 1887, 1888, 1889, 1890, 1891, 1892, 1893, 1894, 1895, 1896, 1897, 1898, 1899, 1900, 1901, 1902, 1903, 1904, 1905, 1906, 1907, 1908, 1909, 1910, 1911, 1912, 1913, 1914, 1915, 1916, 1917, 1918, 1919, 1920, 1921, 1922, 1923, 1924, 1925, 1926, 1927, 1928, 1929, 1930, 1931, 1932, 1933, 1934, 1935, 1936, 1937, 1938, 1939, 1940, 1941, 1942, 1943, 1944, 1945, 1946, 1947, 1948, 1949, 1950, 1951, 1952, 1953, 1954, 1955, 1956, 1957, 1958, 1959, 1960, 1961, 1962, 1963, 1964, 1965, 1966, 1967, 1968, 1969, 1970, 1971, 1972, 1973, 1974, 1975, 1976, 1977, 1978, 1979, 1980, 1981, 1982, 1983, 1984, 1985, 1986, 1987, 1988, 1989, 1990, 1991, 1992, 1993, 1994, 1995, 1996, 1997, 1998, 1999, 2000, 2001, 2002, 2003, 2004, 2005, 2006, 2007, 2008, 2009, 2010, 2011, 2012, 2013, 2014, 2015, 2016, 2017, 2018, 2019, 2020], \"xaxis\": \"x\", \"y\": [12.208661417322835, 12.204918032786885, 12.376884422110553, 11.258620689655173, 9.872463768115942, 10.265384615384615, 10.291666666666666, 9.616847826086957, 9.61214953271028, 8.744117647058824, 9.433035714285714, 9.04816112084063, 9.444585987261146, 8.650943396226415, 8.598314606741573, 8.567206863679695, 9.580492424242424, 8.256880733944953, 9.269301470588236, 9.158483530142947, 8.893953068592058, 8.520152505446623, 10.135668789808918, 11.158521303258146, 10.5564617314931, 10.190025252525253, 10.236679058240396, 9.214673913043478, 9.631378935939196, 9.617077464788732, 9.448602344454464, 9.125560538116591, 8.876122082585278, 8.158253205128204, 8.204527081649152, 8.04482477587612, 7.989051094890511, 7.74879421221865, 7.91941982272361, 8.139311449159328, 8.857720291026677, 8.944805194805195, 8.51742301458671, 8.278989361702127, 8.170600858369099, 8.133520449077787, 8.176022453889335, 8.407972440944881, 8.776386404293381, 9.43192868719611, 10.085842148087876, 9.94345718901454, 9.823195458231954, 9.854589764419172, 10.143729641693811, 9.52390599675851, 9.69215210355987, 9.639317627944761, 10.026037428803905, 10.371961102106969, 9.723705501618124, 9.776155717761558, 9.367455138662317, 9.797219950940312, 9.802117263843648, 10.041599353796446, 9.592009685230025, 9.522894521668029, 9.492688870836718, 9.305016181229773, 9.055868167202572, 8.65032679738562, 8.670032310177707, 8.979468599033817, 8.933739837398374, 8.677536231884059, 8.85076427996782, 8.987065481002425, 8.938709677419356, 9.111066235864298, 8.955205811138015, 8.584342211460855, 9.056048387096775, 8.855295068714632, 8.756077795786062, 8.738095238095237, 8.852226720647772, 8.753441295546558, 8.738287560581583, 8.670711974110032, 8.764335664335665, 8.797347316471313, 8.351760345892526, 8.50830258302583, 8.303142329020332, 8.423219814241486, 8.167901234567902, 7.9107692307692306, 8.371274409044194, 8.630401234567902, 8.397058823529411, 8.185583647122108, 8.751930005146681, 8.732390745501286, 8.754653567735264, 8.663744198040227, 9.043509272467903, 8.684110371075166, 9.035033365109628, 9.060332541567696, 8.664634146341463, 8.934741338395824, 8.876955903271693, 8.879097387173397, 8.74417498811222, 8.768426058012363, 9.001187648456057, 8.629523809523809, 8.616571699905034, 8.745130641330165, 8.687737642585551, 8.676163342830009, 9.054208902600264, 9.2946875, 9.165840356965791, 9.333921482134981, 9.150706090026478, 9.146587171052632, 9.334225700164744, 9.313709345409634, 9.032317826265952, 8.91838417147568, 9.065226337448559, 9.16845140032949, 9.047922665569724, 9.278097982708934, 9.250719868366927, 9.055189456342669, 8.955555555555556, 8.7559670781893, 8.700494030465212, 8.654938271604939, 8.657548334018923, 8.558641975308642, 8.667352820090573, 8.705930807248764, 8.686213991769547, 8.436445907034143, 8.65356113627007, 8.039532293986637], \"yaxis\": \"y\"}, {\"hovertemplate\": \"<b>%{x}</b><br>%{y:.3f}\", \"legendgroup\": \"R\", \"line\": {\"color\": \"rgb(85,168,104)\", \"dash\": \"solid\", \"width\": 3}, \"mode\": \"lines\", \"name\": \"R\", \"orientation\": \"v\", \"showlegend\": true, \"type\": \"scatter\", \"x\": [1871, 1872, 1873, 1874, 1875, 1876, 1877, 1878, 1879, 1880, 1881, 1882, 1883, 1884, 1885, 1886, 1887, 1888, 1889, 1890, 1891, 1892, 1893, 1894, 1895, 1896, 1897, 1898, 1899, 1900, 1901, 1902, 1903, 1904, 1905, 1906, 1907, 1908, 1909, 1910, 1911, 1912, 1913, 1914, 1915, 1916, 1917, 1918, 1919, 1920, 1921, 1922, 1923, 1924, 1925, 1926, 1927, 1928, 1929, 1930, 1931, 1932, 1933, 1934, 1935, 1936, 1937, 1938, 1939, 1940, 1941, 1942, 1943, 1944, 1945, 1946, 1947, 1948, 1949, 1950, 1951, 1952, 1953, 1954, 1955, 1956, 1957, 1958, 1959, 1960, 1961, 1962, 1963, 1964, 1965, 1966, 1967, 1968, 1969, 1970, 1971, 1972, 1973, 1974, 1975, 1976, 1977, 1978, 1979, 1980, 1981, 1982, 1983, 1984, 1985, 1986, 1987, 1988, 1989, 1990, 1991, 1992, 1993, 1994, 1995, 1996, 1997, 1998, 1999, 2000, 2001, 2002, 2003, 2004, 2005, 2006, 2007, 2008, 2009, 2010, 2011, 2012, 2013, 2014, 2015, 2016, 2017, 2018, 2019, 2020], \"xaxis\": \"x\", \"y\": [10.468503937007874, 9.262295081967213, 8.99497487437186, 7.478448275862069, 6.136231884057971, 5.8961538461538465, 5.666666666666667, 5.173913043478261, 5.309968847352025, 4.692647058823529, 5.096726190476191, 5.334500875656743, 5.751592356687898, 5.446324007807417, 5.2202247191011235, 5.487130600571973, 6.352746212121212, 4.875229357798165, 5.967830882352941, 6.02330640149161, 5.7017148014440435, 5.113289760348584, 6.570063694267516, 7.390977443609023, 6.5959849435382685, 6.0353535353535355, 5.908302354399009, 4.961413043478261, 5.250814332247557, 5.221830985915493, 4.989630297565374, 4.439910313901345, 4.439856373429085, 3.7279647435897436, 3.8961196443007275, 3.6189894050529747, 3.5291970802919708, 3.385048231511254, 3.54955680902498, 3.8366693354683745, 4.512530315278901, 4.526785714285714, 4.037277147487845, 3.8648936170212767, 3.8125, 3.5641539695268647, 3.587810745789896, 3.6343503937007875, 3.8716457960644006, 4.360615883306321, 4.855573637103336, 4.870355411954765, 4.815085158150851, 4.761169780666125, 5.128664495114006, 4.636547811993517, 4.75121359223301, 4.729894394800975, 5.185923515052888, 5.5490275526742305, 4.810679611650485, 4.913219789132198, 4.481239804241436, 4.905968928863451, 4.89657980456026, 5.188206785137318, 4.870863599677159, 4.89329517579722, 4.823720552396425, 4.679611650485437, 4.488745980707395, 4.082924836601308, 3.9151857835218093, 4.167874396135265, 4.18130081300813, 4.006843800322061, 4.3551890587288815, 4.5788197251414715, 4.607258064516129, 4.851777059773829, 4.547215496368039, 4.17635189669088, 4.607258064516129, 4.376313662085691, 4.485008103727715, 4.451573849878935, 4.306072874493927, 4.282591093117409, 4.383279483037157, 4.313915857605178, 4.525174825174825, 4.460518198642813, 3.9468807906114884, 4.035670356703567, 3.9882932840418976, 3.9938080495356036, 3.7685185185185186, 3.4181538461538463, 4.07245632065776, 4.341563786008231, 3.8888028895768834, 3.6863905325443787, 4.214101904271745, 4.124935732647815, 4.21277145811789, 3.99484270242393, 4.470518307180218, 4.103472882968601, 4.459723546234509, 4.2881235154394295, 3.998206599713056, 4.297579496915045, 4.307728781412992, 4.256769596199525, 4.330955777460771, 4.409177365668093, 4.722802850356294, 4.1380952380952385, 4.132241215574549, 4.256294536817102, 4.307747148288973, 4.1170465337132, 4.597620096959012, 4.9225, 4.847297967278136, 5.0355094838994265, 4.766990291262136, 4.789679276315789, 5.0846375617792425, 5.140181144503911, 4.7754219843557015, 4.6183017312448476, 4.72798353909465, 4.813838550247117, 4.591731797614151, 4.857760395224372, 4.7967914438502675, 4.650947281713345, 4.612962962962963, 4.3843621399176955, 4.283244133388226, 4.324485596707819, 4.1659810777457835, 4.0660493827160495, 4.250102923013586, 4.477759472817134, 4.646502057613168, 4.448786507610037, 4.830588719637711, 4.645879732739421], \"yaxis\": \"y\"}, {\"hovertemplate\": \"<b>%{x}</b><br>%{y:.3f}\", \"legendgroup\": \"BB\", \"line\": {\"color\": \"rgb(196,78,82)\", \"dash\": \"solid\", \"width\": 3}, \"mode\": \"lines\", \"name\": \"BB\", \"orientation\": \"v\", \"showlegend\": true, \"type\": \"scatter\", \"x\": [1871, 1872, 1873, 1874, 1875, 1876, 1877, 1878, 1879, 1880, 1881, 1882, 1883, 1884, 1885, 1886, 1887, 1888, 1889, 1890, 1891, 1892, 1893, 1894, 1895, 1896, 1897, 1898, 1899, 1900, 1901, 1902, 1903, 1904, 1905, 1906, 1907, 1908, 1909, 1910, 1911, 1912, 1913, 1914, 1915, 1916, 1917, 1918, 1919, 1920, 1921, 1922, 1923, 1924, 1925, 1926, 1927, 1928, 1929, 1930, 1931, 1932, 1933, 1934, 1935, 1936, 1937, 1938, 1939, 1940, 1941, 1942, 1943, 1944, 1945, 1946, 1947, 1948, 1949, 1950, 1951, 1952, 1953, 1954, 1955, 1956, 1957, 1958, 1959, 1960, 1961, 1962, 1963, 1964, 1965, 1966, 1967, 1968, 1969, 1970, 1971, 1972, 1973, 1974, 1975, 1976, 1977, 1978, 1979, 1980, 1981, 1982, 1983, 1984, 1985, 1986, 1987, 1988, 1989, 1990, 1991, 1992, 1993, 1994, 1995, 1996, 1997, 1998, 1999, 2000, 2001, 2002, 2003, 2004, 2005, 2006, 2007, 2008, 2009, 2010, 2011, 2012, 2013, 2014, 2015, 2016, 2017, 2018, 2019, 2020], \"xaxis\": \"x\", \"y\": [1.547244094488189, 0.7185792349726776, 0.8417085427135679, 0.5129310344827587, 0.36086956521739133, 0.6461538461538462, 0.9583333333333334, 0.9891304347826086, 0.7912772585669782, 1.088235294117647, 1.537202380952381, 1.394045534150613, 1.4834394904458599, 1.6093038386467144, 1.9831460674157304, 2.6472831267874164, 2.866003787878788, 2.168348623853211, 3.3621323529411766, 3.6429459291485395, 3.6259025270758123, 3.3649237472766886, 3.9127388535031846, 3.6779448621553885, 3.2120451693851946, 3.0643939393939394, 2.9281288723667904, 2.767391304347826, 2.703040173724213, 2.670774647887324, 2.463931469792606, 2.4403587443946186, 2.408886894075404, 2.233974358974359, 2.501616814874697, 2.5118174409127954, 2.472830494728305, 2.355305466237942, 2.620467365028203, 2.9699759807846275, 3.168148746968472, 3.1181006493506493, 2.9469205834683954, 2.963563829787234, 2.982832618025751, 2.8376102646351242, 2.7706495589414595, 2.828740157480315, 2.6753130590339893, 2.7653970826580228, 2.795362082994304, 2.9289176090468496, 3.076236820762368, 2.9861900893582454, 3.1551302931596092, 3.1219611021069693, 3.0060679611650487, 3.1177904142973194, 3.2607811228641173, 3.1061588330632093, 3.102750809061489, 3.060016220600162, 2.9971451876019577, 3.214227309893704, 3.1872964169381106, 3.397415185783522, 3.4059725585149314, 3.5290269828291088, 3.4447603574329815, 3.3478964401294498, 3.5735530546623795, 3.428921568627451, 3.381663974151858, 3.1944444444444446, 3.3719512195121952, 3.5426731078904994, 3.7095736122284797, 3.894907033144705, 4.04516129032258, 4.02059773828756, 3.7332526230831315, 3.542372881355932, 3.5036290322580643, 3.651172190784155, 3.6661264181523503, 3.632364810330912, 3.3097165991902835, 3.2902834008097166, 3.3053311793214863, 3.3915857605177995, 3.4604895104895106, 3.3732264034546575, 2.9620135886349597, 2.958487084870849, 3.0918052988293283, 2.888854489164087, 2.9830246913580245, 2.817230769230769, 3.4504110996916753, 3.5306069958847734, 3.2342621259029927, 3.1541151156535774, 3.37107565620175, 3.3323907455012853, 3.464839710444674, 3.1952037132542546, 3.2708036138849264, 3.2269267364414844, 3.2414204003813154, 3.133016627078385, 3.1807747489239597, 3.1566207878500236, 3.204836415362731, 3.163895486935867, 3.2900618164526865, 3.3825487398953875, 3.417814726840855, 3.0914285714285716, 3.211775878442545, 3.2902612826603326, 3.32319391634981, 3.248338081671415, 3.3296606434552665, 3.4784375, 3.529995042141795, 3.5494044993383325, 3.4567519858781997, 3.381373355263158, 3.684308072487644, 3.7540139975298477, 3.2536023054755043, 3.348309975267931, 3.2693415637860084, 3.3406095551894563, 3.1277252159605102, 3.262041992589543, 3.307075277663513, 3.364291598023064, 3.419753086419753, 3.246502057613169, 3.091395636064224, 3.026543209876543, 3.011106540518305, 2.8847736625514404, 2.8968711403869905, 3.1070840197693577, 3.2569958847736626, 3.226244343891403, 3.2719226018937833, 3.3919821826280625], \"yaxis\": \"y\"}],                        {\"legend\": {\"title\": {\"text\": \"stat\"}, \"tracegroupgap\": 0}, \"template\": {\"data\": {\"bar\": [{\"error_x\": {\"color\": \"rgb(36,36,36)\"}, \"error_y\": {\"color\": \"rgb(36,36,36)\"}, \"marker\": {\"line\": {\"color\": \"rgb(234,234,242)\", \"width\": 0.5}}, \"type\": \"bar\"}], \"barpolar\": [{\"marker\": {\"line\": {\"color\": \"rgb(234,234,242)\", \"width\": 0.5}}, \"type\": \"barpolar\"}], \"carpet\": [{\"aaxis\": {\"endlinecolor\": \"rgb(36,36,36)\", \"gridcolor\": \"white\", \"linecolor\": \"white\", \"minorgridcolor\": \"white\", \"startlinecolor\": \"rgb(36,36,36)\"}, \"baxis\": {\"endlinecolor\": \"rgb(36,36,36)\", \"gridcolor\": \"white\", \"linecolor\": \"white\", \"minorgridcolor\": \"white\", \"startlinecolor\": \"rgb(36,36,36)\"}, \"type\": \"carpet\"}], \"choropleth\": [{\"colorbar\": {\"outlinewidth\": 0, \"tickcolor\": \"rgb(36,36,36)\", \"ticklen\": 8, \"ticks\": \"outside\", \"tickwidth\": 2}, \"type\": \"choropleth\"}], \"contour\": [{\"colorbar\": {\"outlinewidth\": 0, \"tickcolor\": \"rgb(36,36,36)\", \"ticklen\": 8, \"ticks\": \"outside\", \"tickwidth\": 2}, \"colorscale\": [[0.0, \"rgb(2,4,25)\"], [0.06274509803921569, \"rgb(24,15,41)\"], [0.12549019607843137, \"rgb(47,23,57)\"], [0.18823529411764706, \"rgb(71,28,72)\"], [0.25098039215686274, \"rgb(97,30,82)\"], [0.3137254901960784, \"rgb(123,30,89)\"], [0.3764705882352941, \"rgb(150,27,91)\"], [0.4392156862745098, \"rgb(177,22,88)\"], [0.5019607843137255, \"rgb(203,26,79)\"], [0.5647058823529412, \"rgb(223,47,67)\"], [0.6274509803921569, \"rgb(236,76,61)\"], [0.6901960784313725, \"rgb(242,107,73)\"], [0.7529411764705882, \"rgb(244,135,95)\"], [0.8156862745098039, \"rgb(245,162,122)\"], [0.8784313725490196, \"rgb(246,188,153)\"], [0.9411764705882353, \"rgb(247,212,187)\"], [1.0, \"rgb(250,234,220)\"]], \"type\": \"contour\"}], \"contourcarpet\": [{\"colorbar\": {\"outlinewidth\": 0, \"tickcolor\": \"rgb(36,36,36)\", \"ticklen\": 8, \"ticks\": \"outside\", \"tickwidth\": 2}, \"type\": \"contourcarpet\"}], \"heatmap\": [{\"colorbar\": {\"outlinewidth\": 0, \"tickcolor\": \"rgb(36,36,36)\", \"ticklen\": 8, \"ticks\": \"outside\", \"tickwidth\": 2}, \"colorscale\": [[0.0, \"rgb(2,4,25)\"], [0.06274509803921569, \"rgb(24,15,41)\"], [0.12549019607843137, \"rgb(47,23,57)\"], [0.18823529411764706, \"rgb(71,28,72)\"], [0.25098039215686274, \"rgb(97,30,82)\"], [0.3137254901960784, \"rgb(123,30,89)\"], [0.3764705882352941, \"rgb(150,27,91)\"], [0.4392156862745098, \"rgb(177,22,88)\"], [0.5019607843137255, \"rgb(203,26,79)\"], [0.5647058823529412, \"rgb(223,47,67)\"], [0.6274509803921569, \"rgb(236,76,61)\"], [0.6901960784313725, \"rgb(242,107,73)\"], [0.7529411764705882, \"rgb(244,135,95)\"], [0.8156862745098039, \"rgb(245,162,122)\"], [0.8784313725490196, \"rgb(246,188,153)\"], [0.9411764705882353, \"rgb(247,212,187)\"], [1.0, \"rgb(250,234,220)\"]], \"type\": \"heatmap\"}], \"heatmapgl\": [{\"colorbar\": {\"outlinewidth\": 0, \"tickcolor\": \"rgb(36,36,36)\", \"ticklen\": 8, \"ticks\": \"outside\", \"tickwidth\": 2}, \"colorscale\": [[0.0, \"rgb(2,4,25)\"], [0.06274509803921569, \"rgb(24,15,41)\"], [0.12549019607843137, \"rgb(47,23,57)\"], [0.18823529411764706, \"rgb(71,28,72)\"], [0.25098039215686274, \"rgb(97,30,82)\"], [0.3137254901960784, \"rgb(123,30,89)\"], [0.3764705882352941, \"rgb(150,27,91)\"], [0.4392156862745098, \"rgb(177,22,88)\"], [0.5019607843137255, \"rgb(203,26,79)\"], [0.5647058823529412, \"rgb(223,47,67)\"], [0.6274509803921569, \"rgb(236,76,61)\"], [0.6901960784313725, \"rgb(242,107,73)\"], [0.7529411764705882, \"rgb(244,135,95)\"], [0.8156862745098039, \"rgb(245,162,122)\"], [0.8784313725490196, \"rgb(246,188,153)\"], [0.9411764705882353, \"rgb(247,212,187)\"], [1.0, \"rgb(250,234,220)\"]], \"type\": \"heatmapgl\"}], \"histogram\": [{\"marker\": {\"colorbar\": {\"outlinewidth\": 0, \"tickcolor\": \"rgb(36,36,36)\", \"ticklen\": 8, \"ticks\": \"outside\", \"tickwidth\": 2}}, \"type\": \"histogram\"}], \"histogram2d\": [{\"colorbar\": {\"outlinewidth\": 0, \"tickcolor\": \"rgb(36,36,36)\", \"ticklen\": 8, \"ticks\": \"outside\", \"tickwidth\": 2}, \"colorscale\": [[0.0, \"rgb(2,4,25)\"], [0.06274509803921569, \"rgb(24,15,41)\"], [0.12549019607843137, \"rgb(47,23,57)\"], [0.18823529411764706, \"rgb(71,28,72)\"], [0.25098039215686274, \"rgb(97,30,82)\"], [0.3137254901960784, \"rgb(123,30,89)\"], [0.3764705882352941, \"rgb(150,27,91)\"], [0.4392156862745098, \"rgb(177,22,88)\"], [0.5019607843137255, \"rgb(203,26,79)\"], [0.5647058823529412, \"rgb(223,47,67)\"], [0.6274509803921569, \"rgb(236,76,61)\"], [0.6901960784313725, \"rgb(242,107,73)\"], [0.7529411764705882, \"rgb(244,135,95)\"], [0.8156862745098039, \"rgb(245,162,122)\"], [0.8784313725490196, \"rgb(246,188,153)\"], [0.9411764705882353, \"rgb(247,212,187)\"], [1.0, \"rgb(250,234,220)\"]], \"type\": \"histogram2d\"}], \"histogram2dcontour\": [{\"colorbar\": {\"outlinewidth\": 0, \"tickcolor\": \"rgb(36,36,36)\", \"ticklen\": 8, \"ticks\": \"outside\", \"tickwidth\": 2}, \"colorscale\": [[0.0, \"rgb(2,4,25)\"], [0.06274509803921569, \"rgb(24,15,41)\"], [0.12549019607843137, \"rgb(47,23,57)\"], [0.18823529411764706, \"rgb(71,28,72)\"], [0.25098039215686274, \"rgb(97,30,82)\"], [0.3137254901960784, \"rgb(123,30,89)\"], [0.3764705882352941, \"rgb(150,27,91)\"], [0.4392156862745098, \"rgb(177,22,88)\"], [0.5019607843137255, \"rgb(203,26,79)\"], [0.5647058823529412, \"rgb(223,47,67)\"], [0.6274509803921569, \"rgb(236,76,61)\"], [0.6901960784313725, \"rgb(242,107,73)\"], [0.7529411764705882, \"rgb(244,135,95)\"], [0.8156862745098039, \"rgb(245,162,122)\"], [0.8784313725490196, \"rgb(246,188,153)\"], [0.9411764705882353, \"rgb(247,212,187)\"], [1.0, \"rgb(250,234,220)\"]], \"type\": \"histogram2dcontour\"}], \"mesh3d\": [{\"colorbar\": {\"outlinewidth\": 0, \"tickcolor\": \"rgb(36,36,36)\", \"ticklen\": 8, \"ticks\": \"outside\", \"tickwidth\": 2}, \"type\": \"mesh3d\"}], \"parcoords\": [{\"line\": {\"colorbar\": {\"outlinewidth\": 0, \"tickcolor\": \"rgb(36,36,36)\", \"ticklen\": 8, \"ticks\": \"outside\", \"tickwidth\": 2}}, \"type\": \"parcoords\"}], \"pie\": [{\"automargin\": true, \"type\": \"pie\"}], \"scatter\": [{\"marker\": {\"colorbar\": {\"outlinewidth\": 0, \"tickcolor\": \"rgb(36,36,36)\", \"ticklen\": 8, \"ticks\": \"outside\", \"tickwidth\": 2}}, \"type\": \"scatter\"}], \"scatter3d\": [{\"line\": {\"colorbar\": {\"outlinewidth\": 0, \"tickcolor\": \"rgb(36,36,36)\", \"ticklen\": 8, \"ticks\": \"outside\", \"tickwidth\": 2}}, \"marker\": {\"colorbar\": {\"outlinewidth\": 0, \"tickcolor\": \"rgb(36,36,36)\", \"ticklen\": 8, \"ticks\": \"outside\", \"tickwidth\": 2}}, \"type\": \"scatter3d\"}], \"scattercarpet\": [{\"marker\": {\"colorbar\": {\"outlinewidth\": 0, \"tickcolor\": \"rgb(36,36,36)\", \"ticklen\": 8, \"ticks\": \"outside\", \"tickwidth\": 2}}, \"type\": \"scattercarpet\"}], \"scattergeo\": [{\"marker\": {\"colorbar\": {\"outlinewidth\": 0, \"tickcolor\": \"rgb(36,36,36)\", \"ticklen\": 8, \"ticks\": \"outside\", \"tickwidth\": 2}}, \"type\": \"scattergeo\"}], \"scattergl\": [{\"marker\": {\"colorbar\": {\"outlinewidth\": 0, \"tickcolor\": \"rgb(36,36,36)\", \"ticklen\": 8, \"ticks\": \"outside\", \"tickwidth\": 2}}, \"type\": \"scattergl\"}], \"scattermapbox\": [{\"marker\": {\"colorbar\": {\"outlinewidth\": 0, \"tickcolor\": \"rgb(36,36,36)\", \"ticklen\": 8, \"ticks\": \"outside\", \"tickwidth\": 2}}, \"type\": \"scattermapbox\"}], \"scatterpolar\": [{\"marker\": {\"colorbar\": {\"outlinewidth\": 0, \"tickcolor\": \"rgb(36,36,36)\", \"ticklen\": 8, \"ticks\": \"outside\", \"tickwidth\": 2}}, \"type\": \"scatterpolar\"}], \"scatterpolargl\": [{\"marker\": {\"colorbar\": {\"outlinewidth\": 0, \"tickcolor\": \"rgb(36,36,36)\", \"ticklen\": 8, \"ticks\": \"outside\", \"tickwidth\": 2}}, \"type\": \"scatterpolargl\"}], \"scatterternary\": [{\"marker\": {\"colorbar\": {\"outlinewidth\": 0, \"tickcolor\": \"rgb(36,36,36)\", \"ticklen\": 8, \"ticks\": \"outside\", \"tickwidth\": 2}}, \"type\": \"scatterternary\"}], \"surface\": [{\"colorbar\": {\"outlinewidth\": 0, \"tickcolor\": \"rgb(36,36,36)\", \"ticklen\": 8, \"ticks\": \"outside\", \"tickwidth\": 2}, \"colorscale\": [[0.0, \"rgb(2,4,25)\"], [0.06274509803921569, \"rgb(24,15,41)\"], [0.12549019607843137, \"rgb(47,23,57)\"], [0.18823529411764706, \"rgb(71,28,72)\"], [0.25098039215686274, \"rgb(97,30,82)\"], [0.3137254901960784, \"rgb(123,30,89)\"], [0.3764705882352941, \"rgb(150,27,91)\"], [0.4392156862745098, \"rgb(177,22,88)\"], [0.5019607843137255, \"rgb(203,26,79)\"], [0.5647058823529412, \"rgb(223,47,67)\"], [0.6274509803921569, \"rgb(236,76,61)\"], [0.6901960784313725, \"rgb(242,107,73)\"], [0.7529411764705882, \"rgb(244,135,95)\"], [0.8156862745098039, \"rgb(245,162,122)\"], [0.8784313725490196, \"rgb(246,188,153)\"], [0.9411764705882353, \"rgb(247,212,187)\"], [1.0, \"rgb(250,234,220)\"]], \"type\": \"surface\"}], \"table\": [{\"cells\": {\"fill\": {\"color\": \"rgb(231,231,240)\"}, \"line\": {\"color\": \"white\"}}, \"header\": {\"fill\": {\"color\": \"rgb(183,183,191)\"}, \"line\": {\"color\": \"white\"}}, \"type\": \"table\"}]}, \"layout\": {\"annotationdefaults\": {\"arrowcolor\": \"rgb(67,103,167)\"}, \"autotypenumbers\": \"strict\", \"coloraxis\": {\"colorbar\": {\"outlinewidth\": 0, \"tickcolor\": \"rgb(36,36,36)\", \"ticklen\": 8, \"ticks\": \"outside\", \"tickwidth\": 2}}, \"colorscale\": {\"sequential\": [[0.0, \"rgb(2,4,25)\"], [0.06274509803921569, \"rgb(24,15,41)\"], [0.12549019607843137, \"rgb(47,23,57)\"], [0.18823529411764706, \"rgb(71,28,72)\"], [0.25098039215686274, \"rgb(97,30,82)\"], [0.3137254901960784, \"rgb(123,30,89)\"], [0.3764705882352941, \"rgb(150,27,91)\"], [0.4392156862745098, \"rgb(177,22,88)\"], [0.5019607843137255, \"rgb(203,26,79)\"], [0.5647058823529412, \"rgb(223,47,67)\"], [0.6274509803921569, \"rgb(236,76,61)\"], [0.6901960784313725, \"rgb(242,107,73)\"], [0.7529411764705882, \"rgb(244,135,95)\"], [0.8156862745098039, \"rgb(245,162,122)\"], [0.8784313725490196, \"rgb(246,188,153)\"], [0.9411764705882353, \"rgb(247,212,187)\"], [1.0, \"rgb(250,234,220)\"]], \"sequentialminus\": [[0.0, \"rgb(2,4,25)\"], [0.06274509803921569, \"rgb(24,15,41)\"], [0.12549019607843137, \"rgb(47,23,57)\"], [0.18823529411764706, \"rgb(71,28,72)\"], [0.25098039215686274, \"rgb(97,30,82)\"], [0.3137254901960784, \"rgb(123,30,89)\"], [0.3764705882352941, \"rgb(150,27,91)\"], [0.4392156862745098, \"rgb(177,22,88)\"], [0.5019607843137255, \"rgb(203,26,79)\"], [0.5647058823529412, \"rgb(223,47,67)\"], [0.6274509803921569, \"rgb(236,76,61)\"], [0.6901960784313725, \"rgb(242,107,73)\"], [0.7529411764705882, \"rgb(244,135,95)\"], [0.8156862745098039, \"rgb(245,162,122)\"], [0.8784313725490196, \"rgb(246,188,153)\"], [0.9411764705882353, \"rgb(247,212,187)\"], [1.0, \"rgb(250,234,220)\"]]}, \"colorway\": [\"rgb(76,114,176)\", \"rgb(221,132,82)\", \"rgb(85,168,104)\", \"rgb(196,78,82)\", \"rgb(129,114,179)\", \"rgb(147,120,96)\", \"rgb(218,139,195)\", \"rgb(140,140,140)\", \"rgb(204,185,116)\", \"rgb(100,181,205)\"], \"font\": {\"color\": \"rgb(36,36,36)\"}, \"geo\": {\"bgcolor\": \"white\", \"lakecolor\": \"white\", \"landcolor\": \"rgb(234,234,242)\", \"showlakes\": true, \"showland\": true, \"subunitcolor\": \"white\"}, \"hoverlabel\": {\"align\": \"left\"}, \"hovermode\": \"closest\", \"paper_bgcolor\": \"white\", \"plot_bgcolor\": \"rgb(234,234,242)\", \"polar\": {\"angularaxis\": {\"gridcolor\": \"white\", \"linecolor\": \"white\", \"showgrid\": true, \"ticks\": \"\"}, \"bgcolor\": \"rgb(234,234,242)\", \"radialaxis\": {\"gridcolor\": \"white\", \"linecolor\": \"white\", \"showgrid\": true, \"ticks\": \"\"}}, \"scene\": {\"xaxis\": {\"backgroundcolor\": \"rgb(234,234,242)\", \"gridcolor\": \"white\", \"gridwidth\": 2, \"linecolor\": \"white\", \"showbackground\": true, \"showgrid\": true, \"ticks\": \"\", \"zerolinecolor\": \"white\"}, \"yaxis\": {\"backgroundcolor\": \"rgb(234,234,242)\", \"gridcolor\": \"white\", \"gridwidth\": 2, \"linecolor\": \"white\", \"showbackground\": true, \"showgrid\": true, \"ticks\": \"\", \"zerolinecolor\": \"white\"}, \"zaxis\": {\"backgroundcolor\": \"rgb(234,234,242)\", \"gridcolor\": \"white\", \"gridwidth\": 2, \"linecolor\": \"white\", \"showbackground\": true, \"showgrid\": true, \"ticks\": \"\", \"zerolinecolor\": \"white\"}}, \"shapedefaults\": {\"fillcolor\": \"rgb(67,103,167)\", \"line\": {\"width\": 0}, \"opacity\": 0.5}, \"ternary\": {\"aaxis\": {\"gridcolor\": \"white\", \"linecolor\": \"white\", \"showgrid\": true, \"ticks\": \"\"}, \"baxis\": {\"gridcolor\": \"white\", \"linecolor\": \"white\", \"showgrid\": true, \"ticks\": \"\"}, \"bgcolor\": \"rgb(234,234,242)\", \"caxis\": {\"gridcolor\": \"white\", \"linecolor\": \"white\", \"showgrid\": true, \"ticks\": \"\"}}, \"xaxis\": {\"automargin\": true, \"gridcolor\": \"white\", \"linecolor\": \"white\", \"showgrid\": true, \"ticks\": \"\", \"title\": {\"standoff\": 15}, \"zerolinecolor\": \"white\"}, \"yaxis\": {\"automargin\": true, \"gridcolor\": \"white\", \"linecolor\": \"white\", \"showgrid\": true, \"ticks\": \"\", \"title\": {\"standoff\": 15}, \"zerolinecolor\": \"white\"}}}, \"title\": {\"text\": \"Offense per Game\"}, \"xaxis\": {\"anchor\": \"y\", \"domain\": [0.0, 1.0], \"title\": {}}, \"yaxis\": {\"anchor\": \"x\", \"domain\": [0.0, 1.0], \"title\": {}}},                        {\"responsive\": true}                    ).then(function(){\n",
       "                            \n",
       "var gd = document.getElementById('7907ab64-9c50-4215-a9c5-7e81f2547fd9');\n",
       "var x = new MutationObserver(function (mutations, observer) {{\n",
       "        var display = window.getComputedStyle(gd).display;\n",
       "        if (!display || display === 'none') {{\n",
       "            console.log([gd, 'removed!']);\n",
       "            Plotly.purge(gd);\n",
       "            observer.disconnect();\n",
       "        }}\n",
       "}});\n",
       "\n",
       "// Listen for the removal of the full notebook cells\n",
       "var notebookContainer = gd.closest('#notebook-container');\n",
       "if (notebookContainer) {{\n",
       "    x.observe(notebookContainer, {childList: true});\n",
       "}}\n",
       "\n",
       "// Listen for the clearing of the current output cell\n",
       "var outputEl = gd.closest('.output');\n",
       "if (outputEl) {{\n",
       "    x.observe(outputEl, {childList: true});\n",
       "}}\n",
       "\n",
       "                        })                };                });            </script>        </div>"
      ]
     },
     "metadata": {},
     "output_type": "display_data"
    }
   ],
   "source": [
    "bp = px.line(off_per_game, \n",
    "            x=\"yearID\",\n",
    "            y=[\"HR\", \"H\", \"R\", \"BB\"],\n",
    "            title=\"Offense per Game\")\n",
    "bp.update_traces(hovertemplate=\"<b>%{x}</b><br>%{y:.3f}\", line=dict(width=3))\n",
    "bp.update_layout(legend=dict(title=\"stat\"))\n",
    "bp.update_xaxes(title=None)\n",
    "bp.update_yaxes(title=None)\n",
    "bp.show()"
   ]
  },
  {
   "cell_type": "markdown",
   "id": "balanced-garlic",
   "metadata": {},
   "source": [
    "## Defense over time"
   ]
  },
  {
   "cell_type": "code",
   "execution_count": 728,
   "id": "caroline-health",
   "metadata": {},
   "outputs": [
    {
     "data": {
      "text/html": [
       "<div>\n",
       "<style scoped>\n",
       "    .dataframe tbody tr th:only-of-type {\n",
       "        vertical-align: middle;\n",
       "    }\n",
       "\n",
       "    .dataframe tbody tr th {\n",
       "        vertical-align: top;\n",
       "    }\n",
       "\n",
       "    .dataframe thead th {\n",
       "        text-align: right;\n",
       "    }\n",
       "</style>\n",
       "<table border=\"1\" class=\"dataframe\">\n",
       "  <thead>\n",
       "    <tr style=\"text-align: right;\">\n",
       "      <th></th>\n",
       "      <th>yearID</th>\n",
       "      <th>DP</th>\n",
       "      <th>E</th>\n",
       "      <th>ERA</th>\n",
       "      <th>SOA</th>\n",
       "    </tr>\n",
       "  </thead>\n",
       "  <tbody>\n",
       "    <tr>\n",
       "      <th>0</th>\n",
       "      <td>1871</td>\n",
       "      <td>0.574803</td>\n",
       "      <td>7.614173</td>\n",
       "      <td>0.151339</td>\n",
       "      <td>0.688976</td>\n",
       "    </tr>\n",
       "    <tr>\n",
       "      <th>1</th>\n",
       "      <td>1872</td>\n",
       "      <td>0.516393</td>\n",
       "      <td>7.502732</td>\n",
       "      <td>0.128743</td>\n",
       "      <td>0.724044</td>\n",
       "    </tr>\n",
       "  </tbody>\n",
       "</table>\n",
       "</div>"
      ],
      "text/plain": [
       "   yearID        DP         E       ERA       SOA\n",
       "0    1871  0.574803  7.614173  0.151339  0.688976\n",
       "1    1872  0.516393  7.502732  0.128743  0.724044"
      ]
     },
     "execution_count": 728,
     "metadata": {},
     "output_type": "execute_result"
    }
   ],
   "source": [
    "# Pitching/fielding-focused, since several stats (HRA, RA, HRA, etc) are just the inverse of above\n",
    "def_stats = [\"SOA\", \"ERA\", \"E\", \"DP\"]\n",
    "def_per_game = stat_per_game(def_stats)\n",
    "def_per_game.head(2)"
   ]
  },
  {
   "cell_type": "code",
   "execution_count": 727,
   "id": "chubby-county",
   "metadata": {},
   "outputs": [
    {
     "data": {
      "text/html": [
       "<div>                            <div id=\"ddbbc98b-402f-4f4b-877d-354445aa4aa4\" class=\"plotly-graph-div\" style=\"height:525px; width:100%;\"></div>            <script type=\"text/javascript\">                require([\"plotly\"], function(Plotly) {                    window.PLOTLYENV=window.PLOTLYENV || {};                                    if (document.getElementById(\"ddbbc98b-402f-4f4b-877d-354445aa4aa4\")) {                    Plotly.newPlot(                        \"ddbbc98b-402f-4f4b-877d-354445aa4aa4\",                        [{\"hovertemplate\": \"<b>%{x}</b><br>%{y:.3f}\", \"legendgroup\": \"SOA\", \"line\": {\"color\": \"rgb(76,114,176)\", \"dash\": \"solid\", \"width\": 3}, \"mode\": \"lines\", \"name\": \"SOA\", \"orientation\": \"v\", \"showlegend\": true, \"type\": \"scatter\", \"x\": [1871, 1872, 1873, 1874, 1875, 1876, 1877, 1878, 1879, 1880, 1881, 1882, 1883, 1884, 1885, 1886, 1887, 1888, 1889, 1890, 1891, 1892, 1893, 1894, 1895, 1896, 1897, 1898, 1899, 1900, 1901, 1902, 1903, 1904, 1905, 1906, 1907, 1908, 1909, 1910, 1911, 1912, 1913, 1914, 1915, 1916, 1917, 1918, 1919, 1920, 1921, 1922, 1923, 1924, 1925, 1926, 1927, 1928, 1929, 1930, 1931, 1932, 1933, 1934, 1935, 1936, 1937, 1938, 1939, 1940, 1941, 1942, 1943, 1944, 1945, 1946, 1947, 1948, 1949, 1950, 1951, 1952, 1953, 1954, 1955, 1956, 1957, 1958, 1959, 1960, 1961, 1962, 1963, 1964, 1965, 1966, 1967, 1968, 1969, 1970, 1971, 1972, 1973, 1974, 1975, 1976, 1977, 1978, 1979, 1980, 1981, 1982, 1983, 1984, 1985, 1986, 1987, 1988, 1989, 1990, 1991, 1992, 1993, 1994, 1995, 1996, 1997, 1998, 1999, 2000, 2001, 2002, 2003, 2004, 2005, 2006, 2007, 2008, 2009, 2010, 2011, 2012, 2013, 2014, 2015, 2016, 2017, 2018, 2019, 2020], \"xaxis\": \"x\", \"y\": [0.6889763779527559, 0.7240437158469946, 0.6984924623115578, 0.7693965517241379, 0.9782608695652174, 1.1326923076923077, 2.0166666666666666, 2.9375, 2.870716510903427, 2.925, 2.6547619047619047, 2.925569176882662, 3.3719745222929935, 4.826610279765777, 3.7662921348314606, 4.314108674928503, 2.800662878787879, 3.7770642201834863, 3.5317095588235294, 3.401491609695463, 3.454873646209386, 3.25599128540305, 2.128662420382166, 2.088345864661654, 2.2728983688833124, 2.2241161616161618, 2.3135068153655514, 2.3081521739130433, 2.099348534201954, 2.374119718309859, 3.1456266907123536, 2.9847533632286996, 3.5754039497307, 3.7271634615384617, 3.867825383993533, 3.7074164629176853, 3.5263584752635846, 3.6615755627009645, 3.769137792103143, 3.8823058446757406, 3.9955537590945838, 3.971590909090909, 3.8326580226904374, 3.9768617021276595, 3.7862124463519313, 3.8191659983961506, 3.4647153167602247, 2.891240157480315, 3.072898032200358, 2.945299837925446, 2.8323840520748575, 2.8008885298869144, 2.8414436334144364, 2.6904955320877337, 2.7235342019543975, 2.761345218800648, 2.789239482200647, 2.881397238017872, 2.8633034987794956, 3.213128038897893, 3.1990291262135924, 3.186536901865369, 3.0330342577487763, 3.446034341782502, 3.263843648208469, 3.3251211631663975, 3.6299435028248586, 3.410466067048242, 3.4597887896019497, 3.663430420711974, 3.5514469453376205, 3.4044117647058822, 3.4592084006462036, 3.2942834138486314, 3.272357723577236, 3.9057971014492754, 3.68543845534996, 3.6519805982215034, 3.611290322580645, 3.863085621970921, 3.7695722356739307, 4.194511702986279, 4.120161290322581, 4.128940986257073, 4.3857374392220425, 4.643664245359161, 4.843724696356276, 4.9510121457489875, 5.091276252019386, 5.184870550161812, 5.227972027972028, 5.418568784700802, 5.797714638665843, 5.907749077490775, 5.940542205791743, 5.821981424148607, 5.991666666666666, 5.890153846153846, 5.77415210688592, 5.75462962962963, 5.406604747162023, 5.57235072619688, 5.2388059701492535, 5.0115681233933165, 4.984488107549121, 4.833677153171738, 5.16452686638136, 4.771170313986679, 4.774785510009533, 4.800950118764845, 4.747847919655667, 5.035832937826293, 5.148411569464201, 5.344418052256532, 5.337850689491203, 5.87398953875416, 5.9617577197149645, 5.560714285714286, 5.614909781576448, 5.665795724465558, 5.796102661596958, 5.588319088319088, 5.797708241516086, 6.176875, 6.302677243430838, 6.464049404499338, 6.605692850838482, 6.556949013157895, 6.408360790774299, 6.454508027995059, 6.670234664470976, 6.470321516900247, 6.337654320987654, 6.5543657331136735, 6.302756067461949, 6.516055990119391, 6.6205265322912386, 6.771828665568369, 6.911728395061728, 7.0588477366255145, 7.099217785096748, 7.495061728395061, 7.550390785684903, 7.703909465020576, 7.708110333470564, 8.027594728171334, 8.251851851851852, 8.47531879884821, 8.814944421572664, 8.678173719376392], \"yaxis\": \"y\"}, {\"hovertemplate\": \"<b>%{x}</b><br>%{y:.3f}\", \"legendgroup\": \"ERA\", \"line\": {\"color\": \"rgb(221,132,82)\", \"dash\": \"solid\", \"width\": 3}, \"mode\": \"lines\", \"name\": \"ERA\", \"orientation\": \"v\", \"showlegend\": true, \"type\": \"scatter\", \"x\": [1871, 1872, 1873, 1874, 1875, 1876, 1877, 1878, 1879, 1880, 1881, 1882, 1883, 1884, 1885, 1886, 1887, 1888, 1889, 1890, 1891, 1892, 1893, 1894, 1895, 1896, 1897, 1898, 1899, 1900, 1901, 1902, 1903, 1904, 1905, 1906, 1907, 1908, 1909, 1910, 1911, 1912, 1913, 1914, 1915, 1916, 1917, 1918, 1919, 1920, 1921, 1922, 1923, 1924, 1925, 1926, 1927, 1928, 1929, 1930, 1931, 1932, 1933, 1934, 1935, 1936, 1937, 1938, 1939, 1940, 1941, 1942, 1943, 1944, 1945, 1946, 1947, 1948, 1949, 1950, 1951, 1952, 1953, 1954, 1955, 1956, 1957, 1958, 1959, 1960, 1961, 1962, 1963, 1964, 1965, 1966, 1967, 1968, 1969, 1970, 1971, 1972, 1973, 1974, 1975, 1976, 1977, 1978, 1979, 1980, 1981, 1982, 1983, 1984, 1985, 1986, 1987, 1988, 1989, 1990, 1991, 1992, 1993, 1994, 1995, 1996, 1997, 1998, 1999, 2000, 2001, 2002, 2003, 2004, 2005, 2006, 2007, 2008, 2009, 2010, 2011, 2012, 2013, 2014, 2015, 2016, 2017, 2018, 2019, 2020], \"xaxis\": \"x\", \"y\": [0.15133858267716535, 0.12874316939890712, 0.08793969849246232, 0.038297413793103446, 0.044782608695652176, 0.03582692307692307, 0.04705555555555556, 0.03758152173913043, 0.03130841121495327, 0.028073529411764706, 0.03305059523809524, 0.03445709281961471, 0.03280891719745223, 0.03425504229017567, 0.027337078651685387, 0.025676835081029553, 0.03162405303030302, 0.021683486238532113, 0.02896139705882353, 0.030348042262274708, 0.026705776173285196, 0.021486928104575163, 0.035719745222929936, 0.04011278195488722, 0.035978670012547044, 0.03306186868686869, 0.03201982651796778, 0.023521739130434784, 0.02515200868621064, 0.026021126760563378, 0.025184851217312895, 0.022816143497757846, 0.022365350089766606, 0.017083333333333332, 0.018278092158447855, 0.01735126324368378, 0.016257096512570967, 0.015233118971061095, 0.01634165995165189, 0.017754203362690152, 0.02177445432497979, 0.021883116883116883, 0.01987439222042139, 0.018579787234042557, 0.018709763948497854, 0.01746992782678428, 0.017225340817963113, 0.021806102362204722, 0.021958855098389983, 0.02244327390599676, 0.026240846216436128, 0.026280290791599357, 0.025879967558799673, 0.026320064987814782, 0.02822475570032573, 0.025437601296596436, 0.02607605177993528, 0.026112916328188466, 0.029141578519121233, 0.0311709886547812, 0.02668689320388349, 0.02713300892133009, 0.024877650897226752, 0.028033524121013897, 0.02761400651465798, 0.029277059773828756, 0.027550443906376107, 0.02806623058053966, 0.02776198212835093, 0.02666666666666666, 0.02504421221864951, 0.02281454248366013, 0.021591276252019384, 0.022705314009661835, 0.023308943089430895, 0.022302737520128825, 0.02500402252614642, 0.02668552950687146, 0.026604838709677416, 0.028198707592891763, 0.0261138014527845, 0.0239184826472962, 0.026701612903225806, 0.0252303961196443, 0.02592382495948136, 0.02561743341404359, 0.024850202429149797, 0.02500404858299595, 0.02525444264943457, 0.024712783171521036, 0.02535664335664336, 0.02441702652683529, 0.021371216800494135, 0.02204182041820419, 0.021571164510166368, 0.02180804953560372, 0.02040432098765432, 0.018356923076923076, 0.02226618705035971, 0.023963477366255148, 0.021447368421052628, 0.021035502958579883, 0.02309572825527535, 0.02232133676092545, 0.022962771458117884, 0.0217276946879835, 0.02467427484545887, 0.022740247383444337, 0.02474022878932316, 0.023688836104513063, 0.0334038737446198, 0.023792121499762696, 0.0238027501185396, 0.02350593824228029, 0.024065620542082743, 0.024505468378506895, 0.026458432304038007, 0.02308095238095238, 0.02287511870845204, 0.02380760095011877, 0.024125475285171106, 0.02307929724596391, 0.025804319083296605, 0.039428124999999994, 0.030870104115022307, 0.028445081605646228, 0.027093998234774937, 0.027300575657894736, 0.029044481054365724, 0.029409221902017287, 0.027251955537258135, 0.026413849958779895, 0.02713374485596708, 0.027543245469522245, 0.026437679967091725, 0.027923013585837788, 0.027535993418346366, 0.026668039538714987, 0.02662962962962963, 0.0251440329218107, 0.02431041580897489, 0.02474897119341564, 0.02383792677910325, 0.02307407407407407, 0.024431864965006173, 0.0258504942339374, 0.026868312757201647, 0.02559440559440559, 0.027770687525730753, 0.07429287305122495], \"yaxis\": \"y\"}, {\"hovertemplate\": \"<b>%{x}</b><br>%{y:.3f}\", \"legendgroup\": \"E\", \"line\": {\"color\": \"rgb(85,168,104)\", \"dash\": \"solid\", \"width\": 3}, \"mode\": \"lines\", \"name\": \"E\", \"orientation\": \"v\", \"showlegend\": true, \"type\": \"scatter\", \"x\": [1871, 1872, 1873, 1874, 1875, 1876, 1877, 1878, 1879, 1880, 1881, 1882, 1883, 1884, 1885, 1886, 1887, 1888, 1889, 1890, 1891, 1892, 1893, 1894, 1895, 1896, 1897, 1898, 1899, 1900, 1901, 1902, 1903, 1904, 1905, 1906, 1907, 1908, 1909, 1910, 1911, 1912, 1913, 1914, 1915, 1916, 1917, 1918, 1919, 1920, 1921, 1922, 1923, 1924, 1925, 1926, 1927, 1928, 1929, 1930, 1931, 1932, 1933, 1934, 1935, 1936, 1937, 1938, 1939, 1940, 1941, 1942, 1943, 1944, 1945, 1946, 1947, 1948, 1949, 1950, 1951, 1952, 1953, 1954, 1955, 1956, 1957, 1958, 1959, 1960, 1961, 1962, 1963, 1964, 1965, 1966, 1967, 1968, 1969, 1970, 1971, 1972, 1973, 1974, 1975, 1976, 1977, 1978, 1979, 1980, 1981, 1982, 1983, 1984, 1985, 1986, 1987, 1988, 1989, 1990, 1991, 1992, 1993, 1994, 1995, 1996, 1997, 1998, 1999, 2000, 2001, 2002, 2003, 2004, 2005, 2006, 2007, 2008, 2009, 2010, 2011, 2012, 2013, 2014, 2015, 2016, 2017, 2018, 2019, 2020], \"xaxis\": \"x\", \"y\": [7.6141732283464565, 7.502732240437158, 8.017587939698492, 8.135775862068966, 6.959420289855072, 6.007692307692308, 5.161111111111111, 4.831521739130435, 4.870716510903427, 4.336764705882353, 4.1398809523809526, 4.7618213660245186, 4.884713375796179, 4.734873129473, 3.9376404494382022, 3.778360343183985, 3.8177083333333335, 3.4481651376146787, 3.4283088235294117, 3.3238036047234307, 3.1827617328519855, 3.0392156862745097, 2.9178343949044585, 3.0407268170426067, 2.897741530740276, 2.576388888888889, 2.496282527881041, 2.3842391304347825, 2.4196525515743756, 2.42693661971831, 2.403516681695221, 2.129596412556054, 2.100089766606822, 1.8846153846153846, 1.8346806790622474, 1.7290138549307252, 1.7197891321978913, 1.7017684887459807, 1.8086220789685736, 1.77742193755004, 1.8290218270008085, 1.8039772727272727, 1.63290113452188, 1.6952127659574467, 1.5675965665236051, 1.5104250200481155, 1.500400962309543, 1.5068897637795275, 1.4239713774597496, 1.4128849270664505, 1.3860862489829129, 1.2960420032310178, 1.3491484184914841, 1.2347684809098294, 1.3359120521172638, 1.2617504051863857, 1.2989482200647249, 1.2075548334687247, 1.19446704637917, 1.2264991896272286, 1.2010517799352751, 1.1845093268450932, 1.1076672104404568, 1.1365494685200328, 1.1653094462540716, 1.1684168012924072, 1.1234866828087167, 1.1214227309893705, 1.1515028432168968, 1.1460355987055015, 1.114951768488746, 1.1058006535947713, 1.055735056542811, 1.1227858293075685, 1.0922764227642277, 1.0273752012882447, 0.8970233306516492, 0.9462409054163299, 0.9209677419354839, 0.9422455573505655, 0.9656981436642453, 0.9112187247780468, 0.9048387096774193, 0.9175424413904608, 0.8987034035656402, 0.9051654560129136, 0.8493927125506073, 0.8421052631578947, 0.8962035541195477, 0.8737864077669902, 0.9297202797202797, 0.8979025293028995, 0.8993205682520075, 0.8717712177121771, 0.8739987677141097, 0.8842105263157894, 0.8416666666666667, 0.8470769230769231, 0.8738437821171634, 0.8557098765432098, 0.8062435500515995, 0.8483055406132329, 0.8870303654143078, 0.9241645244215938, 0.9591520165460186, 0.8919546157813306, 0.8820732287208749, 0.8606089438629876, 0.8653479504289799, 0.8572446555819477, 0.8263988522238164, 0.8191741813004272, 0.829302987197724, 0.8377672209026128, 0.814075130765573, 0.8202567760342369, 0.7833729216152019, 0.7721428571428571, 0.7958214624881291, 0.7553444180522565, 0.7440589353612167, 0.7257834757834758, 0.7675187307183782, 0.7375, 0.7216162617749132, 0.7401852668725187, 0.7142541924095323, 0.7080592105263158, 0.7224052718286655, 0.7095512556607657, 0.6910251132153149, 0.6646743610882111, 0.6524691358024691, 0.6519769357495881, 0.6293706293706294, 0.631329765335529, 0.6145619086795557, 0.6105848434925865, 0.5878600823045268, 0.6234567901234568, 0.6284479209551256, 0.6191358024691358, 0.564993829699712, 0.5995884773662551, 0.5825442568958419, 0.5838138385502472, 0.5796296296296296, 0.5742492801316331, 0.5965417867435159, 0.5773942093541202], \"yaxis\": \"y\"}, {\"hovertemplate\": \"<b>%{x}</b><br>%{y:.3f}\", \"legendgroup\": \"DP\", \"line\": {\"color\": \"rgb(196,78,82)\", \"dash\": \"solid\", \"width\": 3}, \"mode\": \"lines\", \"name\": \"DP\", \"orientation\": \"v\", \"showlegend\": true, \"type\": \"scatter\", \"x\": [1871, 1872, 1873, 1874, 1875, 1876, 1877, 1878, 1879, 1880, 1881, 1882, 1883, 1884, 1885, 1886, 1887, 1888, 1889, 1890, 1891, 1892, 1893, 1894, 1895, 1896, 1897, 1898, 1899, 1900, 1901, 1902, 1903, 1904, 1905, 1906, 1907, 1908, 1909, 1910, 1911, 1912, 1913, 1914, 1915, 1916, 1917, 1918, 1919, 1920, 1921, 1922, 1923, 1924, 1925, 1926, 1927, 1928, 1929, 1930, 1931, 1932, 1933, 1934, 1935, 1936, 1937, 1938, 1939, 1940, 1941, 1942, 1943, 1944, 1945, 1946, 1947, 1948, 1949, 1950, 1951, 1952, 1953, 1954, 1955, 1956, 1957, 1958, 1959, 1960, 1961, 1962, 1963, 1964, 1965, 1966, 1967, 1968, 1969, 1970, 1971, 1972, 1973, 1974, 1975, 1976, 1977, 1978, 1979, 1980, 1981, 1982, 1983, 1984, 1985, 1986, 1987, 1988, 1989, 1990, 1991, 1992, 1993, 1994, 1995, 1996, 1997, 1998, 1999, 2000, 2001, 2002, 2003, 2004, 2005, 2006, 2007, 2008, 2009, 2010, 2011, 2012, 2013, 2014, 2015, 2016, 2017, 2018, 2019, 2020], \"xaxis\": \"x\", \"y\": [0.5748031496062992, 0.5163934426229508, 0.6608040201005025, 0.47629310344827586, 0.5072463768115942, 0.5269230769230769, 0.5833333333333334, 0.6331521739130435, 0.5981308411214953, 0.6044117647058823, 0.7291666666666666, 0.617338003502627, 0.6114649681528662, 0.5705920624593364, 0.6421348314606742, 0.6224976167778837, 0.671875, 0.6201834862385321, 0.7481617647058824, 0.7374145431945308, 0.7229241877256317, 0.7293028322440087, 0.8076433121019109, 0.8132832080200502, 0.7540777917189461, 0.7815656565656566, 0.6827757125154895, 0.7358695652173913, 0.757328990228013, 0.7341549295774648, 0.6898106402164111, 0.7134529147982063, 0.6319569120287253, 0.5600961538461539, 0.5812449474535166, 0.5762021189894051, 0.6236820762368208, 0.512459807073955, 0.6341659951651893, 0.6925540432345877, 0.6669361358124495, 0.7008928571428571, 0.6924635332252836, 0.6885638297872341, 0.7043991416309013, 0.7449879711307137, 0.7762630312750601, 0.7746062992125984, 0.7128801431127012, 0.7974068071312804, 0.8836452400325467, 0.8933764135702746, 0.9278183292781833, 0.946791226645004, 0.9890065146579805, 0.9307131280388979, 0.938915857605178, 0.9723801787164906, 0.9654190398698128, 1.013776337115073, 0.9591423948220065, 0.9493106244931062, 0.9208809135399674, 0.9390842191332788, 0.8990228013029316, 0.9592084006462036, 0.9451170298627926, 0.9963205233033524, 0.9715678310316815, 0.9453883495145631, 0.9622186495176849, 0.9652777777777778, 1.0004038772213246, 0.9681964573268921, 0.9573170731707317, 0.9690016103059581, 0.9899436846339501, 0.997978981406629, 1.0887096774193548, 1.10702746365105, 1.1037126715092818, 1.0193704600484261, 1.0495967741935484, 1.0355699272433307, 1.0198541329011346, 1.0153349475383373, 1.0170040485829959, 1.0526315789473684, 0.9531502423263328, 0.9724919093851133, 0.9884615384615385, 0.9571252313386799, 0.8882025941939469, 0.8994464944649446, 0.9063462723351817, 0.9117647058823529, 0.8796296296296297, 0.8676923076923077, 0.9324254881808839, 0.9503600823045267, 0.9641382868937048, 0.9349112426035503, 0.985331960885229, 0.974293059125964, 0.954239917269907, 0.9365652398143373, 0.9234427009034712, 0.9124643196955281, 0.9773593898951383, 0.9771971496437054, 0.9555236728837877, 0.9266729947793071, 0.9556661925082978, 0.9282660332541568, 0.9553019495958155, 0.927960057061341, 0.9192399049881235, 0.895, 0.8931623931623932, 0.9007125890736342, 0.8890209125475285, 0.9074074074074074, 0.9336712208021155, 0.9309375, 0.9509172037679723, 0.9600794000882223, 0.9384377758164166, 0.9251644736842105, 0.964168039538715, 0.9697406340057637, 0.9129271305063812, 0.9408491343775762, 0.9419753086419753, 0.9295716639209226, 0.9506375976964212, 0.9569781803211198, 0.9611271081859317, 0.943163097199341, 0.925514403292181, 0.904320987654321, 0.8717579250720461, 0.8794238683127572, 0.8959276018099548, 0.8703703703703703, 0.9011939069575957, 0.892504118616145, 0.9063786008230452, 0.842040312628548, 0.8252367229312474, 0.7973273942093542], \"yaxis\": \"y\"}],                        {\"legend\": {\"title\": {\"text\": \"stat\"}, \"tracegroupgap\": 0}, \"template\": {\"data\": {\"bar\": [{\"error_x\": {\"color\": \"rgb(36,36,36)\"}, \"error_y\": {\"color\": \"rgb(36,36,36)\"}, \"marker\": {\"line\": {\"color\": \"rgb(234,234,242)\", \"width\": 0.5}}, \"type\": \"bar\"}], \"barpolar\": [{\"marker\": {\"line\": {\"color\": \"rgb(234,234,242)\", \"width\": 0.5}}, \"type\": \"barpolar\"}], \"carpet\": [{\"aaxis\": {\"endlinecolor\": \"rgb(36,36,36)\", \"gridcolor\": \"white\", \"linecolor\": \"white\", \"minorgridcolor\": \"white\", \"startlinecolor\": \"rgb(36,36,36)\"}, \"baxis\": {\"endlinecolor\": \"rgb(36,36,36)\", \"gridcolor\": \"white\", \"linecolor\": \"white\", \"minorgridcolor\": \"white\", \"startlinecolor\": \"rgb(36,36,36)\"}, \"type\": \"carpet\"}], \"choropleth\": [{\"colorbar\": {\"outlinewidth\": 0, \"tickcolor\": \"rgb(36,36,36)\", \"ticklen\": 8, \"ticks\": \"outside\", \"tickwidth\": 2}, \"type\": \"choropleth\"}], \"contour\": [{\"colorbar\": {\"outlinewidth\": 0, \"tickcolor\": \"rgb(36,36,36)\", \"ticklen\": 8, \"ticks\": \"outside\", \"tickwidth\": 2}, \"colorscale\": [[0.0, \"rgb(2,4,25)\"], [0.06274509803921569, \"rgb(24,15,41)\"], [0.12549019607843137, \"rgb(47,23,57)\"], [0.18823529411764706, \"rgb(71,28,72)\"], [0.25098039215686274, \"rgb(97,30,82)\"], [0.3137254901960784, \"rgb(123,30,89)\"], [0.3764705882352941, \"rgb(150,27,91)\"], [0.4392156862745098, \"rgb(177,22,88)\"], [0.5019607843137255, \"rgb(203,26,79)\"], [0.5647058823529412, \"rgb(223,47,67)\"], [0.6274509803921569, \"rgb(236,76,61)\"], [0.6901960784313725, \"rgb(242,107,73)\"], [0.7529411764705882, \"rgb(244,135,95)\"], [0.8156862745098039, \"rgb(245,162,122)\"], [0.8784313725490196, \"rgb(246,188,153)\"], [0.9411764705882353, \"rgb(247,212,187)\"], [1.0, \"rgb(250,234,220)\"]], \"type\": \"contour\"}], \"contourcarpet\": [{\"colorbar\": {\"outlinewidth\": 0, \"tickcolor\": \"rgb(36,36,36)\", \"ticklen\": 8, \"ticks\": \"outside\", \"tickwidth\": 2}, \"type\": \"contourcarpet\"}], \"heatmap\": [{\"colorbar\": {\"outlinewidth\": 0, \"tickcolor\": \"rgb(36,36,36)\", \"ticklen\": 8, \"ticks\": \"outside\", \"tickwidth\": 2}, \"colorscale\": [[0.0, \"rgb(2,4,25)\"], [0.06274509803921569, \"rgb(24,15,41)\"], [0.12549019607843137, \"rgb(47,23,57)\"], [0.18823529411764706, \"rgb(71,28,72)\"], [0.25098039215686274, \"rgb(97,30,82)\"], [0.3137254901960784, \"rgb(123,30,89)\"], [0.3764705882352941, \"rgb(150,27,91)\"], [0.4392156862745098, \"rgb(177,22,88)\"], [0.5019607843137255, \"rgb(203,26,79)\"], [0.5647058823529412, \"rgb(223,47,67)\"], [0.6274509803921569, \"rgb(236,76,61)\"], [0.6901960784313725, \"rgb(242,107,73)\"], [0.7529411764705882, \"rgb(244,135,95)\"], [0.8156862745098039, \"rgb(245,162,122)\"], [0.8784313725490196, \"rgb(246,188,153)\"], [0.9411764705882353, \"rgb(247,212,187)\"], [1.0, \"rgb(250,234,220)\"]], \"type\": \"heatmap\"}], \"heatmapgl\": [{\"colorbar\": {\"outlinewidth\": 0, \"tickcolor\": \"rgb(36,36,36)\", \"ticklen\": 8, \"ticks\": \"outside\", \"tickwidth\": 2}, \"colorscale\": [[0.0, \"rgb(2,4,25)\"], [0.06274509803921569, \"rgb(24,15,41)\"], [0.12549019607843137, \"rgb(47,23,57)\"], [0.18823529411764706, \"rgb(71,28,72)\"], [0.25098039215686274, \"rgb(97,30,82)\"], [0.3137254901960784, \"rgb(123,30,89)\"], [0.3764705882352941, \"rgb(150,27,91)\"], [0.4392156862745098, \"rgb(177,22,88)\"], [0.5019607843137255, \"rgb(203,26,79)\"], [0.5647058823529412, \"rgb(223,47,67)\"], [0.6274509803921569, \"rgb(236,76,61)\"], [0.6901960784313725, \"rgb(242,107,73)\"], [0.7529411764705882, \"rgb(244,135,95)\"], [0.8156862745098039, \"rgb(245,162,122)\"], [0.8784313725490196, \"rgb(246,188,153)\"], [0.9411764705882353, \"rgb(247,212,187)\"], [1.0, \"rgb(250,234,220)\"]], \"type\": \"heatmapgl\"}], \"histogram\": [{\"marker\": {\"colorbar\": {\"outlinewidth\": 0, \"tickcolor\": \"rgb(36,36,36)\", \"ticklen\": 8, \"ticks\": \"outside\", \"tickwidth\": 2}}, \"type\": \"histogram\"}], \"histogram2d\": [{\"colorbar\": {\"outlinewidth\": 0, \"tickcolor\": \"rgb(36,36,36)\", \"ticklen\": 8, \"ticks\": \"outside\", \"tickwidth\": 2}, \"colorscale\": [[0.0, \"rgb(2,4,25)\"], [0.06274509803921569, \"rgb(24,15,41)\"], [0.12549019607843137, \"rgb(47,23,57)\"], [0.18823529411764706, \"rgb(71,28,72)\"], [0.25098039215686274, \"rgb(97,30,82)\"], [0.3137254901960784, \"rgb(123,30,89)\"], [0.3764705882352941, \"rgb(150,27,91)\"], [0.4392156862745098, \"rgb(177,22,88)\"], [0.5019607843137255, \"rgb(203,26,79)\"], [0.5647058823529412, \"rgb(223,47,67)\"], [0.6274509803921569, \"rgb(236,76,61)\"], [0.6901960784313725, \"rgb(242,107,73)\"], [0.7529411764705882, \"rgb(244,135,95)\"], [0.8156862745098039, \"rgb(245,162,122)\"], [0.8784313725490196, \"rgb(246,188,153)\"], [0.9411764705882353, \"rgb(247,212,187)\"], [1.0, \"rgb(250,234,220)\"]], \"type\": \"histogram2d\"}], \"histogram2dcontour\": [{\"colorbar\": {\"outlinewidth\": 0, \"tickcolor\": \"rgb(36,36,36)\", \"ticklen\": 8, \"ticks\": \"outside\", \"tickwidth\": 2}, \"colorscale\": [[0.0, \"rgb(2,4,25)\"], [0.06274509803921569, \"rgb(24,15,41)\"], [0.12549019607843137, \"rgb(47,23,57)\"], [0.18823529411764706, \"rgb(71,28,72)\"], [0.25098039215686274, \"rgb(97,30,82)\"], [0.3137254901960784, \"rgb(123,30,89)\"], [0.3764705882352941, \"rgb(150,27,91)\"], [0.4392156862745098, \"rgb(177,22,88)\"], [0.5019607843137255, \"rgb(203,26,79)\"], [0.5647058823529412, \"rgb(223,47,67)\"], [0.6274509803921569, \"rgb(236,76,61)\"], [0.6901960784313725, \"rgb(242,107,73)\"], [0.7529411764705882, \"rgb(244,135,95)\"], [0.8156862745098039, \"rgb(245,162,122)\"], [0.8784313725490196, \"rgb(246,188,153)\"], [0.9411764705882353, \"rgb(247,212,187)\"], [1.0, \"rgb(250,234,220)\"]], \"type\": \"histogram2dcontour\"}], \"mesh3d\": [{\"colorbar\": {\"outlinewidth\": 0, \"tickcolor\": \"rgb(36,36,36)\", \"ticklen\": 8, \"ticks\": \"outside\", \"tickwidth\": 2}, \"type\": \"mesh3d\"}], \"parcoords\": [{\"line\": {\"colorbar\": {\"outlinewidth\": 0, \"tickcolor\": \"rgb(36,36,36)\", \"ticklen\": 8, \"ticks\": \"outside\", \"tickwidth\": 2}}, \"type\": \"parcoords\"}], \"pie\": [{\"automargin\": true, \"type\": \"pie\"}], \"scatter\": [{\"marker\": {\"colorbar\": {\"outlinewidth\": 0, \"tickcolor\": \"rgb(36,36,36)\", \"ticklen\": 8, \"ticks\": \"outside\", \"tickwidth\": 2}}, \"type\": \"scatter\"}], \"scatter3d\": [{\"line\": {\"colorbar\": {\"outlinewidth\": 0, \"tickcolor\": \"rgb(36,36,36)\", \"ticklen\": 8, \"ticks\": \"outside\", \"tickwidth\": 2}}, \"marker\": {\"colorbar\": {\"outlinewidth\": 0, \"tickcolor\": \"rgb(36,36,36)\", \"ticklen\": 8, \"ticks\": \"outside\", \"tickwidth\": 2}}, \"type\": \"scatter3d\"}], \"scattercarpet\": [{\"marker\": {\"colorbar\": {\"outlinewidth\": 0, \"tickcolor\": \"rgb(36,36,36)\", \"ticklen\": 8, \"ticks\": \"outside\", \"tickwidth\": 2}}, \"type\": \"scattercarpet\"}], \"scattergeo\": [{\"marker\": {\"colorbar\": {\"outlinewidth\": 0, \"tickcolor\": \"rgb(36,36,36)\", \"ticklen\": 8, \"ticks\": \"outside\", \"tickwidth\": 2}}, \"type\": \"scattergeo\"}], \"scattergl\": [{\"marker\": {\"colorbar\": {\"outlinewidth\": 0, \"tickcolor\": \"rgb(36,36,36)\", \"ticklen\": 8, \"ticks\": \"outside\", \"tickwidth\": 2}}, \"type\": \"scattergl\"}], \"scattermapbox\": [{\"marker\": {\"colorbar\": {\"outlinewidth\": 0, \"tickcolor\": \"rgb(36,36,36)\", \"ticklen\": 8, \"ticks\": \"outside\", \"tickwidth\": 2}}, \"type\": \"scattermapbox\"}], \"scatterpolar\": [{\"marker\": {\"colorbar\": {\"outlinewidth\": 0, \"tickcolor\": \"rgb(36,36,36)\", \"ticklen\": 8, \"ticks\": \"outside\", \"tickwidth\": 2}}, \"type\": \"scatterpolar\"}], \"scatterpolargl\": [{\"marker\": {\"colorbar\": {\"outlinewidth\": 0, \"tickcolor\": \"rgb(36,36,36)\", \"ticklen\": 8, \"ticks\": \"outside\", \"tickwidth\": 2}}, \"type\": \"scatterpolargl\"}], \"scatterternary\": [{\"marker\": {\"colorbar\": {\"outlinewidth\": 0, \"tickcolor\": \"rgb(36,36,36)\", \"ticklen\": 8, \"ticks\": \"outside\", \"tickwidth\": 2}}, \"type\": \"scatterternary\"}], \"surface\": [{\"colorbar\": {\"outlinewidth\": 0, \"tickcolor\": \"rgb(36,36,36)\", \"ticklen\": 8, \"ticks\": \"outside\", \"tickwidth\": 2}, \"colorscale\": [[0.0, \"rgb(2,4,25)\"], [0.06274509803921569, \"rgb(24,15,41)\"], [0.12549019607843137, \"rgb(47,23,57)\"], [0.18823529411764706, \"rgb(71,28,72)\"], [0.25098039215686274, \"rgb(97,30,82)\"], [0.3137254901960784, \"rgb(123,30,89)\"], [0.3764705882352941, \"rgb(150,27,91)\"], [0.4392156862745098, \"rgb(177,22,88)\"], [0.5019607843137255, \"rgb(203,26,79)\"], [0.5647058823529412, \"rgb(223,47,67)\"], [0.6274509803921569, \"rgb(236,76,61)\"], [0.6901960784313725, \"rgb(242,107,73)\"], [0.7529411764705882, \"rgb(244,135,95)\"], [0.8156862745098039, \"rgb(245,162,122)\"], [0.8784313725490196, \"rgb(246,188,153)\"], [0.9411764705882353, \"rgb(247,212,187)\"], [1.0, \"rgb(250,234,220)\"]], \"type\": \"surface\"}], \"table\": [{\"cells\": {\"fill\": {\"color\": \"rgb(231,231,240)\"}, \"line\": {\"color\": \"white\"}}, \"header\": {\"fill\": {\"color\": \"rgb(183,183,191)\"}, \"line\": {\"color\": \"white\"}}, \"type\": \"table\"}]}, \"layout\": {\"annotationdefaults\": {\"arrowcolor\": \"rgb(67,103,167)\"}, \"autotypenumbers\": \"strict\", \"coloraxis\": {\"colorbar\": {\"outlinewidth\": 0, \"tickcolor\": \"rgb(36,36,36)\", \"ticklen\": 8, \"ticks\": \"outside\", \"tickwidth\": 2}}, \"colorscale\": {\"sequential\": [[0.0, \"rgb(2,4,25)\"], [0.06274509803921569, \"rgb(24,15,41)\"], [0.12549019607843137, \"rgb(47,23,57)\"], [0.18823529411764706, \"rgb(71,28,72)\"], [0.25098039215686274, \"rgb(97,30,82)\"], [0.3137254901960784, \"rgb(123,30,89)\"], [0.3764705882352941, \"rgb(150,27,91)\"], [0.4392156862745098, \"rgb(177,22,88)\"], [0.5019607843137255, \"rgb(203,26,79)\"], [0.5647058823529412, \"rgb(223,47,67)\"], [0.6274509803921569, \"rgb(236,76,61)\"], [0.6901960784313725, \"rgb(242,107,73)\"], [0.7529411764705882, \"rgb(244,135,95)\"], [0.8156862745098039, \"rgb(245,162,122)\"], [0.8784313725490196, \"rgb(246,188,153)\"], [0.9411764705882353, \"rgb(247,212,187)\"], [1.0, \"rgb(250,234,220)\"]], \"sequentialminus\": [[0.0, \"rgb(2,4,25)\"], [0.06274509803921569, \"rgb(24,15,41)\"], [0.12549019607843137, \"rgb(47,23,57)\"], [0.18823529411764706, \"rgb(71,28,72)\"], [0.25098039215686274, \"rgb(97,30,82)\"], [0.3137254901960784, \"rgb(123,30,89)\"], [0.3764705882352941, \"rgb(150,27,91)\"], [0.4392156862745098, \"rgb(177,22,88)\"], [0.5019607843137255, \"rgb(203,26,79)\"], [0.5647058823529412, \"rgb(223,47,67)\"], [0.6274509803921569, \"rgb(236,76,61)\"], [0.6901960784313725, \"rgb(242,107,73)\"], [0.7529411764705882, \"rgb(244,135,95)\"], [0.8156862745098039, \"rgb(245,162,122)\"], [0.8784313725490196, \"rgb(246,188,153)\"], [0.9411764705882353, \"rgb(247,212,187)\"], [1.0, \"rgb(250,234,220)\"]]}, \"colorway\": [\"rgb(76,114,176)\", \"rgb(221,132,82)\", \"rgb(85,168,104)\", \"rgb(196,78,82)\", \"rgb(129,114,179)\", \"rgb(147,120,96)\", \"rgb(218,139,195)\", \"rgb(140,140,140)\", \"rgb(204,185,116)\", \"rgb(100,181,205)\"], \"font\": {\"color\": \"rgb(36,36,36)\"}, \"geo\": {\"bgcolor\": \"white\", \"lakecolor\": \"white\", \"landcolor\": \"rgb(234,234,242)\", \"showlakes\": true, \"showland\": true, \"subunitcolor\": \"white\"}, \"hoverlabel\": {\"align\": \"left\"}, \"hovermode\": \"closest\", \"paper_bgcolor\": \"white\", \"plot_bgcolor\": \"rgb(234,234,242)\", \"polar\": {\"angularaxis\": {\"gridcolor\": \"white\", \"linecolor\": \"white\", \"showgrid\": true, \"ticks\": \"\"}, \"bgcolor\": \"rgb(234,234,242)\", \"radialaxis\": {\"gridcolor\": \"white\", \"linecolor\": \"white\", \"showgrid\": true, \"ticks\": \"\"}}, \"scene\": {\"xaxis\": {\"backgroundcolor\": \"rgb(234,234,242)\", \"gridcolor\": \"white\", \"gridwidth\": 2, \"linecolor\": \"white\", \"showbackground\": true, \"showgrid\": true, \"ticks\": \"\", \"zerolinecolor\": \"white\"}, \"yaxis\": {\"backgroundcolor\": \"rgb(234,234,242)\", \"gridcolor\": \"white\", \"gridwidth\": 2, \"linecolor\": \"white\", \"showbackground\": true, \"showgrid\": true, \"ticks\": \"\", \"zerolinecolor\": \"white\"}, \"zaxis\": {\"backgroundcolor\": \"rgb(234,234,242)\", \"gridcolor\": \"white\", \"gridwidth\": 2, \"linecolor\": \"white\", \"showbackground\": true, \"showgrid\": true, \"ticks\": \"\", \"zerolinecolor\": \"white\"}}, \"shapedefaults\": {\"fillcolor\": \"rgb(67,103,167)\", \"line\": {\"width\": 0}, \"opacity\": 0.5}, \"ternary\": {\"aaxis\": {\"gridcolor\": \"white\", \"linecolor\": \"white\", \"showgrid\": true, \"ticks\": \"\"}, \"baxis\": {\"gridcolor\": \"white\", \"linecolor\": \"white\", \"showgrid\": true, \"ticks\": \"\"}, \"bgcolor\": \"rgb(234,234,242)\", \"caxis\": {\"gridcolor\": \"white\", \"linecolor\": \"white\", \"showgrid\": true, \"ticks\": \"\"}}, \"xaxis\": {\"automargin\": true, \"gridcolor\": \"white\", \"linecolor\": \"white\", \"showgrid\": true, \"ticks\": \"\", \"title\": {\"standoff\": 15}, \"zerolinecolor\": \"white\"}, \"yaxis\": {\"automargin\": true, \"gridcolor\": \"white\", \"linecolor\": \"white\", \"showgrid\": true, \"ticks\": \"\", \"title\": {\"standoff\": 15}, \"zerolinecolor\": \"white\"}}}, \"title\": {\"text\": \"Defense per Game\"}, \"xaxis\": {\"anchor\": \"y\", \"domain\": [0.0, 1.0], \"title\": {}}, \"yaxis\": {\"anchor\": \"x\", \"domain\": [0.0, 1.0], \"title\": {}}},                        {\"responsive\": true}                    ).then(function(){\n",
       "                            \n",
       "var gd = document.getElementById('ddbbc98b-402f-4f4b-877d-354445aa4aa4');\n",
       "var x = new MutationObserver(function (mutations, observer) {{\n",
       "        var display = window.getComputedStyle(gd).display;\n",
       "        if (!display || display === 'none') {{\n",
       "            console.log([gd, 'removed!']);\n",
       "            Plotly.purge(gd);\n",
       "            observer.disconnect();\n",
       "        }}\n",
       "}});\n",
       "\n",
       "// Listen for the removal of the full notebook cells\n",
       "var notebookContainer = gd.closest('#notebook-container');\n",
       "if (notebookContainer) {{\n",
       "    x.observe(notebookContainer, {childList: true});\n",
       "}}\n",
       "\n",
       "// Listen for the clearing of the current output cell\n",
       "var outputEl = gd.closest('.output');\n",
       "if (outputEl) {{\n",
       "    x.observe(outputEl, {childList: true});\n",
       "}}\n",
       "\n",
       "                        })                };                });            </script>        </div>"
      ]
     },
     "metadata": {},
     "output_type": "display_data"
    }
   ],
   "source": [
    "bp = px.line(def_per_game, \n",
    "            x=\"yearID\",\n",
    "            y=def_stats,\n",
    "            title=\"Defense per Game\")\n",
    "bp.update_traces(hovertemplate=\"<b>%{x}</b><br>%{y:.3f}\", line=dict(width=3))\n",
    "bp.update_layout(legend=dict(title=\"stat\"))\n",
    "bp.update_xaxes(title=None)\n",
    "bp.update_yaxes(title=None)\n",
    "bp.show()"
   ]
  },
  {
   "cell_type": "markdown",
   "id": "specialized-shade",
   "metadata": {},
   "source": [
    "______________________________________________"
   ]
  }
 ],
 "metadata": {
  "kernelspec": {
   "display_name": "Python 3",
   "language": "python",
   "name": "python3"
  },
  "language_info": {
   "codemirror_mode": {
    "name": "ipython",
    "version": 3
   },
   "file_extension": ".py",
   "mimetype": "text/x-python",
   "name": "python",
   "nbconvert_exporter": "python",
   "pygments_lexer": "ipython3",
   "version": "3.8.8"
  }
 },
 "nbformat": 4,
 "nbformat_minor": 5
}
